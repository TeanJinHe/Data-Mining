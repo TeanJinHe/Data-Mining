{
 "cells": [
  {
   "cell_type": "markdown",
   "id": "dee8a5bf",
   "metadata": {},
   "source": [
    "# Data Mining Lab Report 2\n",
    "#### NAME: TEAN JIN HE\n",
    "#### MATRIC ID: SD21063\n",
    "#### SECTION: 02G"
   ]
  },
  {
   "cell_type": "markdown",
   "id": "c7f40f13",
   "metadata": {},
   "source": [
    "### CASE STUDY:\n",
    "Regression is a data mining technique used to predict a range of numeric values (also called continuous\n",
    "values), given a particular dataset. Regression is used across multiple industries for business and marketing\n",
    "planning, financial forecasting, environmental modelling and analysis of trends. For this laboratory report,\n",
    "you’ll use the advertising dataset that you can find from any sources’ websites such as UCI Machine Learning\n",
    "Repository, Kaggle and etc.\n",
    "Ideally, you perform a data mining process to do prediction using a linear algorithm. Detail regarding the\n",
    "attributes involved are as follows:\n",
    "\n",
    "- Attribute information for Advertising.csv dataset:\n",
    "1. Unnamed: 0\n",
    "2. TV Radio\n",
    "3. Newspaper\n",
    "4. Sales\n"
   ]
  },
  {
   "cell_type": "markdown",
   "id": "2cb6398f",
   "metadata": {},
   "source": [
    "### Question 1\n",
    "#### *General Knowledge*"
   ]
  },
  {
   "cell_type": "markdown",
   "id": "ba05f8d6",
   "metadata": {},
   "source": [
    "#### Discuss the linear regression implementation related to manufacturing applications as discussed above. Give reference/ references."
   ]
  },
  {
   "cell_type": "markdown",
   "id": "29a75c02",
   "metadata": {},
   "source": [
    "Linear regression is a statistical method that can be used to model the relationship between one or more independent variables (also called predictors or features) and a dependent variable (also called response or outcome). In manufacturing applications, linear regression can be used to predict various outcomes based on the input variables, such as product quality, demand, maintenance, cost, etc. For example, some possible applications which are predictive maintenance, quality control, demand forecasting and workforce analytics.\n",
    "\n",
    "Based on predictive maintenance, linear regression can be used to analyze the relationship between equipment performance indicators (such as temperature, vibration, noise, etc.) and the risk of failure. By using historical data, linear regression can estimate the optimal maintenance schedule and prevent breakdowns. \n",
    "\n",
    "Based on quality control, linear regression can be used to monitor the quality of products and processes by measuring the impact of different factors (such as raw materials, temperature, humidity, pressure, etc.) on the quality attributes (such as dimensions, strength, color, etc.). By using linear regression, manufacturers can identify the optimal settings for the factors and ensure the quality standards are met.\n",
    "\n",
    "Based on demand forecasting, linear regression can be used to forecast the demand for products based on the historical sales data and other variables (such as seasonality, price, promotions, competitors, etc.). By using linear regression, manufacturers can plan their production, inventory, and distribution accordingly and optimize their revenue and profit.\n",
    "\n",
    "Based on workforce analytics, linear regression can be used to analyze the relationship between employee performance and various factors (such as skills, training, motivation, satisfaction, etc.). By using linear regression, manufacturers can identify the key drivers of employee productivity and retention and design effective human resource strategies.\n",
    "\n",
    "References:\n",
    "- Lauzier, J. (2020). Predictive Analytics in Manufacturing: Use Cases and Benefits. Www.machinemetrics.com. https://www.machinemetrics.com/blog/predictive-analytics-in-manufacturing\n",
    "- Kaur, H., & Kumar, A. (2017). Application of linear regression analysis for quality control in manufacturing industry. International Journal of Engineering and Management Research, 7(6), 1-5. https://www.ijemr.net/DOC/ApplicationOfLinearRegressionAnalysisForQualityControlInManufacturingIndustry.pdf\n",
    "- Choudhary, A. K., Harding, J. A., & Tiwari, M. K. (2009). Data mining in manufacturing: a review based on the kind of knowledge. Journal of intelligent manufacturing, 20(5), 501-521. https://link.springer.com/article/10.1007/s10845-008-0145-x \n",
    "- Rasmussen, T., & Ulrich, D. (2015). Learning from practice: how HR analytics avoids being a management fad. Organizational Dynamics, 44(3), 236-242. https://www.sciencedirect.com/science/article/abs/pii/S0090261615000379"
   ]
  },
  {
   "cell_type": "markdown",
   "id": "d7d5859f",
   "metadata": {},
   "source": [
    "### Question 2\n",
    "#### *Python*"
   ]
  },
  {
   "cell_type": "markdown",
   "id": "3f93e49d",
   "metadata": {},
   "source": [
    "### a.Import related libraries and load the dataset"
   ]
  },
  {
   "cell_type": "code",
   "execution_count": 1,
   "id": "0546cb5c",
   "metadata": {},
   "outputs": [],
   "source": [
    "# Import Packages\n",
    "import numpy as np\n",
    "import pandas as pd\n",
    "import matplotlib.pyplot as plt\n",
    "%matplotlib inline\n",
    "import seaborn as sns"
   ]
  },
  {
   "cell_type": "code",
   "execution_count": 2,
   "id": "2a9101f6",
   "metadata": {},
   "outputs": [
    {
     "data": {
      "text/html": [
       "<div>\n",
       "<style scoped>\n",
       "    .dataframe tbody tr th:only-of-type {\n",
       "        vertical-align: middle;\n",
       "    }\n",
       "\n",
       "    .dataframe tbody tr th {\n",
       "        vertical-align: top;\n",
       "    }\n",
       "\n",
       "    .dataframe thead th {\n",
       "        text-align: right;\n",
       "    }\n",
       "</style>\n",
       "<table border=\"1\" class=\"dataframe\">\n",
       "  <thead>\n",
       "    <tr style=\"text-align: right;\">\n",
       "      <th></th>\n",
       "      <th>Unnamed: 0</th>\n",
       "      <th>TV</th>\n",
       "      <th>Radio</th>\n",
       "      <th>Newspaper</th>\n",
       "      <th>Sales</th>\n",
       "    </tr>\n",
       "  </thead>\n",
       "  <tbody>\n",
       "    <tr>\n",
       "      <th>0</th>\n",
       "      <td>1</td>\n",
       "      <td>230.1</td>\n",
       "      <td>37.8</td>\n",
       "      <td>69.2</td>\n",
       "      <td>22.1</td>\n",
       "    </tr>\n",
       "    <tr>\n",
       "      <th>1</th>\n",
       "      <td>2</td>\n",
       "      <td>44.5</td>\n",
       "      <td>39.3</td>\n",
       "      <td>45.1</td>\n",
       "      <td>10.4</td>\n",
       "    </tr>\n",
       "    <tr>\n",
       "      <th>2</th>\n",
       "      <td>3</td>\n",
       "      <td>17.2</td>\n",
       "      <td>45.9</td>\n",
       "      <td>69.3</td>\n",
       "      <td>9.3</td>\n",
       "    </tr>\n",
       "    <tr>\n",
       "      <th>3</th>\n",
       "      <td>4</td>\n",
       "      <td>151.5</td>\n",
       "      <td>41.3</td>\n",
       "      <td>58.5</td>\n",
       "      <td>18.5</td>\n",
       "    </tr>\n",
       "    <tr>\n",
       "      <th>4</th>\n",
       "      <td>5</td>\n",
       "      <td>180.8</td>\n",
       "      <td>10.8</td>\n",
       "      <td>58.4</td>\n",
       "      <td>12.9</td>\n",
       "    </tr>\n",
       "    <tr>\n",
       "      <th>...</th>\n",
       "      <td>...</td>\n",
       "      <td>...</td>\n",
       "      <td>...</td>\n",
       "      <td>...</td>\n",
       "      <td>...</td>\n",
       "    </tr>\n",
       "    <tr>\n",
       "      <th>195</th>\n",
       "      <td>196</td>\n",
       "      <td>38.2</td>\n",
       "      <td>3.7</td>\n",
       "      <td>13.8</td>\n",
       "      <td>7.6</td>\n",
       "    </tr>\n",
       "    <tr>\n",
       "      <th>196</th>\n",
       "      <td>197</td>\n",
       "      <td>94.2</td>\n",
       "      <td>4.9</td>\n",
       "      <td>8.1</td>\n",
       "      <td>9.7</td>\n",
       "    </tr>\n",
       "    <tr>\n",
       "      <th>197</th>\n",
       "      <td>198</td>\n",
       "      <td>177.0</td>\n",
       "      <td>9.3</td>\n",
       "      <td>6.4</td>\n",
       "      <td>12.8</td>\n",
       "    </tr>\n",
       "    <tr>\n",
       "      <th>198</th>\n",
       "      <td>199</td>\n",
       "      <td>283.6</td>\n",
       "      <td>42.0</td>\n",
       "      <td>66.2</td>\n",
       "      <td>25.5</td>\n",
       "    </tr>\n",
       "    <tr>\n",
       "      <th>199</th>\n",
       "      <td>200</td>\n",
       "      <td>232.1</td>\n",
       "      <td>8.6</td>\n",
       "      <td>8.7</td>\n",
       "      <td>13.4</td>\n",
       "    </tr>\n",
       "  </tbody>\n",
       "</table>\n",
       "<p>200 rows × 5 columns</p>\n",
       "</div>"
      ],
      "text/plain": [
       "     Unnamed: 0     TV  Radio  Newspaper  Sales\n",
       "0             1  230.1   37.8       69.2   22.1\n",
       "1             2   44.5   39.3       45.1   10.4\n",
       "2             3   17.2   45.9       69.3    9.3\n",
       "3             4  151.5   41.3       58.5   18.5\n",
       "4             5  180.8   10.8       58.4   12.9\n",
       "..          ...    ...    ...        ...    ...\n",
       "195         196   38.2    3.7       13.8    7.6\n",
       "196         197   94.2    4.9        8.1    9.7\n",
       "197         198  177.0    9.3        6.4   12.8\n",
       "198         199  283.6   42.0       66.2   25.5\n",
       "199         200  232.1    8.6        8.7   13.4\n",
       "\n",
       "[200 rows x 5 columns]"
      ]
     },
     "execution_count": 2,
     "metadata": {},
     "output_type": "execute_result"
    }
   ],
   "source": [
    "# Import Dataset\n",
    "data_Advertising = pd.read_csv('Advertising.csv')\n",
    "data_Advertising"
   ]
  },
  {
   "cell_type": "markdown",
   "id": "2d1f270b",
   "metadata": {},
   "source": [
    "### b. Explore the dataset using interactive EDA. Check and solve the noise in the dataset"
   ]
  },
  {
   "cell_type": "code",
   "execution_count": 3,
   "id": "bb9e5646",
   "metadata": {},
   "outputs": [
    {
     "name": "stdout",
     "output_type": "stream",
     "text": [
      "No. of Attributes (Columns):  5\n",
      "No. of sample (Rows):  200\n"
     ]
    }
   ],
   "source": [
    "# Check total number of attributes\n",
    "print(\"No. of Attributes (Columns): \",len(data_Advertising.columns))\n",
    "print(\"No. of sample (Rows): \",len(data_Advertising))"
   ]
  },
  {
   "cell_type": "code",
   "execution_count": 4,
   "id": "f63416c0",
   "metadata": {},
   "outputs": [
    {
     "data": {
      "text/html": [
       "<div>\n",
       "<style scoped>\n",
       "    .dataframe tbody tr th:only-of-type {\n",
       "        vertical-align: middle;\n",
       "    }\n",
       "\n",
       "    .dataframe tbody tr th {\n",
       "        vertical-align: top;\n",
       "    }\n",
       "\n",
       "    .dataframe thead th {\n",
       "        text-align: right;\n",
       "    }\n",
       "</style>\n",
       "<table border=\"1\" class=\"dataframe\">\n",
       "  <thead>\n",
       "    <tr style=\"text-align: right;\">\n",
       "      <th></th>\n",
       "      <th>Unnamed: 0</th>\n",
       "      <th>TV</th>\n",
       "      <th>Radio</th>\n",
       "      <th>Newspaper</th>\n",
       "      <th>Sales</th>\n",
       "    </tr>\n",
       "  </thead>\n",
       "  <tbody>\n",
       "    <tr>\n",
       "      <th>count</th>\n",
       "      <td>200.000000</td>\n",
       "      <td>200.000000</td>\n",
       "      <td>200.000000</td>\n",
       "      <td>200.000000</td>\n",
       "      <td>200.000000</td>\n",
       "    </tr>\n",
       "    <tr>\n",
       "      <th>mean</th>\n",
       "      <td>100.500000</td>\n",
       "      <td>147.042500</td>\n",
       "      <td>23.264000</td>\n",
       "      <td>30.554000</td>\n",
       "      <td>14.022500</td>\n",
       "    </tr>\n",
       "    <tr>\n",
       "      <th>std</th>\n",
       "      <td>57.879185</td>\n",
       "      <td>85.854236</td>\n",
       "      <td>14.846809</td>\n",
       "      <td>21.778621</td>\n",
       "      <td>5.217457</td>\n",
       "    </tr>\n",
       "    <tr>\n",
       "      <th>min</th>\n",
       "      <td>1.000000</td>\n",
       "      <td>0.700000</td>\n",
       "      <td>0.000000</td>\n",
       "      <td>0.300000</td>\n",
       "      <td>1.600000</td>\n",
       "    </tr>\n",
       "    <tr>\n",
       "      <th>25%</th>\n",
       "      <td>50.750000</td>\n",
       "      <td>74.375000</td>\n",
       "      <td>9.975000</td>\n",
       "      <td>12.750000</td>\n",
       "      <td>10.375000</td>\n",
       "    </tr>\n",
       "    <tr>\n",
       "      <th>50%</th>\n",
       "      <td>100.500000</td>\n",
       "      <td>149.750000</td>\n",
       "      <td>22.900000</td>\n",
       "      <td>25.750000</td>\n",
       "      <td>12.900000</td>\n",
       "    </tr>\n",
       "    <tr>\n",
       "      <th>75%</th>\n",
       "      <td>150.250000</td>\n",
       "      <td>218.825000</td>\n",
       "      <td>36.525000</td>\n",
       "      <td>45.100000</td>\n",
       "      <td>17.400000</td>\n",
       "    </tr>\n",
       "    <tr>\n",
       "      <th>max</th>\n",
       "      <td>200.000000</td>\n",
       "      <td>296.400000</td>\n",
       "      <td>49.600000</td>\n",
       "      <td>114.000000</td>\n",
       "      <td>27.000000</td>\n",
       "    </tr>\n",
       "  </tbody>\n",
       "</table>\n",
       "</div>"
      ],
      "text/plain": [
       "       Unnamed: 0          TV       Radio   Newspaper       Sales\n",
       "count  200.000000  200.000000  200.000000  200.000000  200.000000\n",
       "mean   100.500000  147.042500   23.264000   30.554000   14.022500\n",
       "std     57.879185   85.854236   14.846809   21.778621    5.217457\n",
       "min      1.000000    0.700000    0.000000    0.300000    1.600000\n",
       "25%     50.750000   74.375000    9.975000   12.750000   10.375000\n",
       "50%    100.500000  149.750000   22.900000   25.750000   12.900000\n",
       "75%    150.250000  218.825000   36.525000   45.100000   17.400000\n",
       "max    200.000000  296.400000   49.600000  114.000000   27.000000"
      ]
     },
     "execution_count": 4,
     "metadata": {},
     "output_type": "execute_result"
    }
   ],
   "source": [
    "data_Advertising.describe()"
   ]
  },
  {
   "cell_type": "code",
   "execution_count": 5,
   "id": "c8bb8345",
   "metadata": {},
   "outputs": [
    {
     "data": {
      "text/html": [
       "<div>\n",
       "<style scoped>\n",
       "    .dataframe tbody tr th:only-of-type {\n",
       "        vertical-align: middle;\n",
       "    }\n",
       "\n",
       "    .dataframe tbody tr th {\n",
       "        vertical-align: top;\n",
       "    }\n",
       "\n",
       "    .dataframe thead th {\n",
       "        text-align: right;\n",
       "    }\n",
       "</style>\n",
       "<table border=\"1\" class=\"dataframe\">\n",
       "  <thead>\n",
       "    <tr style=\"text-align: right;\">\n",
       "      <th></th>\n",
       "      <th>TV</th>\n",
       "      <th>Radio</th>\n",
       "      <th>Newspaper</th>\n",
       "      <th>Sales</th>\n",
       "    </tr>\n",
       "  </thead>\n",
       "  <tbody>\n",
       "    <tr>\n",
       "      <th>0</th>\n",
       "      <td>230.1</td>\n",
       "      <td>37.8</td>\n",
       "      <td>69.2</td>\n",
       "      <td>22.1</td>\n",
       "    </tr>\n",
       "    <tr>\n",
       "      <th>1</th>\n",
       "      <td>44.5</td>\n",
       "      <td>39.3</td>\n",
       "      <td>45.1</td>\n",
       "      <td>10.4</td>\n",
       "    </tr>\n",
       "    <tr>\n",
       "      <th>2</th>\n",
       "      <td>17.2</td>\n",
       "      <td>45.9</td>\n",
       "      <td>69.3</td>\n",
       "      <td>9.3</td>\n",
       "    </tr>\n",
       "    <tr>\n",
       "      <th>3</th>\n",
       "      <td>151.5</td>\n",
       "      <td>41.3</td>\n",
       "      <td>58.5</td>\n",
       "      <td>18.5</td>\n",
       "    </tr>\n",
       "    <tr>\n",
       "      <th>4</th>\n",
       "      <td>180.8</td>\n",
       "      <td>10.8</td>\n",
       "      <td>58.4</td>\n",
       "      <td>12.9</td>\n",
       "    </tr>\n",
       "    <tr>\n",
       "      <th>...</th>\n",
       "      <td>...</td>\n",
       "      <td>...</td>\n",
       "      <td>...</td>\n",
       "      <td>...</td>\n",
       "    </tr>\n",
       "    <tr>\n",
       "      <th>195</th>\n",
       "      <td>38.2</td>\n",
       "      <td>3.7</td>\n",
       "      <td>13.8</td>\n",
       "      <td>7.6</td>\n",
       "    </tr>\n",
       "    <tr>\n",
       "      <th>196</th>\n",
       "      <td>94.2</td>\n",
       "      <td>4.9</td>\n",
       "      <td>8.1</td>\n",
       "      <td>9.7</td>\n",
       "    </tr>\n",
       "    <tr>\n",
       "      <th>197</th>\n",
       "      <td>177.0</td>\n",
       "      <td>9.3</td>\n",
       "      <td>6.4</td>\n",
       "      <td>12.8</td>\n",
       "    </tr>\n",
       "    <tr>\n",
       "      <th>198</th>\n",
       "      <td>283.6</td>\n",
       "      <td>42.0</td>\n",
       "      <td>66.2</td>\n",
       "      <td>25.5</td>\n",
       "    </tr>\n",
       "    <tr>\n",
       "      <th>199</th>\n",
       "      <td>232.1</td>\n",
       "      <td>8.6</td>\n",
       "      <td>8.7</td>\n",
       "      <td>13.4</td>\n",
       "    </tr>\n",
       "  </tbody>\n",
       "</table>\n",
       "<p>200 rows × 4 columns</p>\n",
       "</div>"
      ],
      "text/plain": [
       "        TV  Radio  Newspaper  Sales\n",
       "0    230.1   37.8       69.2   22.1\n",
       "1     44.5   39.3       45.1   10.4\n",
       "2     17.2   45.9       69.3    9.3\n",
       "3    151.5   41.3       58.5   18.5\n",
       "4    180.8   10.8       58.4   12.9\n",
       "..     ...    ...        ...    ...\n",
       "195   38.2    3.7       13.8    7.6\n",
       "196   94.2    4.9        8.1    9.7\n",
       "197  177.0    9.3        6.4   12.8\n",
       "198  283.6   42.0       66.2   25.5\n",
       "199  232.1    8.6        8.7   13.4\n",
       "\n",
       "[200 rows x 4 columns]"
      ]
     },
     "execution_count": 5,
     "metadata": {},
     "output_type": "execute_result"
    }
   ],
   "source": [
    "# to drop 1st column (Unnamed: 0), zero index based\n",
    "data_Advertisingnew = data_Advertising.drop(columns=data_Advertising.columns[0])\n",
    "data_Advertisingnew"
   ]
  },
  {
   "cell_type": "code",
   "execution_count": 6,
   "id": "fce4bb09",
   "metadata": {},
   "outputs": [
    {
     "data": {
      "text/html": [
       "<div>\n",
       "<style scoped>\n",
       "    .dataframe tbody tr th:only-of-type {\n",
       "        vertical-align: middle;\n",
       "    }\n",
       "\n",
       "    .dataframe tbody tr th {\n",
       "        vertical-align: top;\n",
       "    }\n",
       "\n",
       "    .dataframe thead th {\n",
       "        text-align: right;\n",
       "    }\n",
       "</style>\n",
       "<table border=\"1\" class=\"dataframe\">\n",
       "  <thead>\n",
       "    <tr style=\"text-align: right;\">\n",
       "      <th></th>\n",
       "      <th>TV</th>\n",
       "      <th>Radio</th>\n",
       "      <th>Newspaper</th>\n",
       "      <th>Sales</th>\n",
       "    </tr>\n",
       "  </thead>\n",
       "  <tbody>\n",
       "    <tr>\n",
       "      <th>TV</th>\n",
       "      <td>1.000000</td>\n",
       "      <td>0.054809</td>\n",
       "      <td>0.056648</td>\n",
       "      <td>0.782224</td>\n",
       "    </tr>\n",
       "    <tr>\n",
       "      <th>Radio</th>\n",
       "      <td>0.054809</td>\n",
       "      <td>1.000000</td>\n",
       "      <td>0.354104</td>\n",
       "      <td>0.576223</td>\n",
       "    </tr>\n",
       "    <tr>\n",
       "      <th>Newspaper</th>\n",
       "      <td>0.056648</td>\n",
       "      <td>0.354104</td>\n",
       "      <td>1.000000</td>\n",
       "      <td>0.228299</td>\n",
       "    </tr>\n",
       "    <tr>\n",
       "      <th>Sales</th>\n",
       "      <td>0.782224</td>\n",
       "      <td>0.576223</td>\n",
       "      <td>0.228299</td>\n",
       "      <td>1.000000</td>\n",
       "    </tr>\n",
       "  </tbody>\n",
       "</table>\n",
       "</div>"
      ],
      "text/plain": [
       "                 TV     Radio  Newspaper     Sales\n",
       "TV         1.000000  0.054809   0.056648  0.782224\n",
       "Radio      0.054809  1.000000   0.354104  0.576223\n",
       "Newspaper  0.056648  0.354104   1.000000  0.228299\n",
       "Sales      0.782224  0.576223   0.228299  1.000000"
      ]
     },
     "execution_count": 6,
     "metadata": {},
     "output_type": "execute_result"
    }
   ],
   "source": [
    "data_Advertisingnew.corr()"
   ]
  },
  {
   "cell_type": "code",
   "execution_count": 7,
   "id": "65497cda",
   "metadata": {},
   "outputs": [
    {
     "data": {
      "text/html": [
       "<div>\n",
       "<style scoped>\n",
       "    .dataframe tbody tr th:only-of-type {\n",
       "        vertical-align: middle;\n",
       "    }\n",
       "\n",
       "    .dataframe tbody tr th {\n",
       "        vertical-align: top;\n",
       "    }\n",
       "\n",
       "    .dataframe thead th {\n",
       "        text-align: right;\n",
       "    }\n",
       "</style>\n",
       "<table border=\"1\" class=\"dataframe\">\n",
       "  <thead>\n",
       "    <tr style=\"text-align: right;\">\n",
       "      <th></th>\n",
       "      <th>TV</th>\n",
       "      <th>Radio</th>\n",
       "      <th>Newspaper</th>\n",
       "      <th>Sales</th>\n",
       "    </tr>\n",
       "  </thead>\n",
       "  <tbody>\n",
       "  </tbody>\n",
       "</table>\n",
       "</div>"
      ],
      "text/plain": [
       "Empty DataFrame\n",
       "Columns: [TV, Radio, Newspaper, Sales]\n",
       "Index: []"
      ]
     },
     "execution_count": 7,
     "metadata": {},
     "output_type": "execute_result"
    }
   ],
   "source": [
    "#Check duplicated rows\n",
    "data_Advertisingnew[data_Advertisingnew.duplicated(keep=False)]"
   ]
  },
  {
   "cell_type": "markdown",
   "id": "16d8d382",
   "metadata": {},
   "source": [
    "There is no duplicated data in this dataset."
   ]
  },
  {
   "cell_type": "code",
   "execution_count": 8,
   "id": "5a0c9a4c",
   "metadata": {},
   "outputs": [
    {
     "data": {
      "text/plain": [
       "TV           0\n",
       "Radio        0\n",
       "Newspaper    0\n",
       "Sales        0\n",
       "dtype: int64"
      ]
     },
     "execution_count": 8,
     "metadata": {},
     "output_type": "execute_result"
    }
   ],
   "source": [
    "#Identify Missing Values\n",
    "\n",
    "data_Advertisingnew.isnull().sum()"
   ]
  },
  {
   "cell_type": "markdown",
   "id": "3cb0f47e",
   "metadata": {},
   "source": [
    "There is no null data in this dataset."
   ]
  },
  {
   "cell_type": "markdown",
   "id": "f8e8811c",
   "metadata": {},
   "source": [
    "### EDA"
   ]
  },
  {
   "cell_type": "markdown",
   "id": "342681c6",
   "metadata": {},
   "source": [
    "### 1. YData Profiling (Previously Pandas Profiling)"
   ]
  },
  {
   "cell_type": "markdown",
   "id": "7573e033",
   "metadata": {},
   "source": [
    "### Interactive and Comprehensive Descriptive Analysis using Pandas-Profiling"
   ]
  },
  {
   "cell_type": "code",
   "execution_count": 9,
   "id": "f009b907",
   "metadata": {},
   "outputs": [
    {
     "name": "stderr",
     "output_type": "stream",
     "text": [
      "D:\\anaconda\\Lib\\site-packages\\numba\\core\\decorators.py:262: NumbaDeprecationWarning: \u001b[1mnumba.generated_jit is deprecated. Please see the documentation at: https://numba.readthedocs.io/en/stable/reference/deprecation.html#deprecation-of-generated-jit for more information and advice on a suitable replacement.\u001b[0m\n",
      "  warnings.warn(msg, NumbaDeprecationWarning)\n",
      "D:\\anaconda\\Lib\\site-packages\\visions\\backends\\shared\\nan_handling.py:50: NumbaDeprecationWarning: \u001b[1mThe 'nopython' keyword argument was not supplied to the 'numba.jit' decorator. The implicit default value for this argument is currently False, but it will be changed to True in Numba 0.59.0. See https://numba.readthedocs.io/en/stable/reference/deprecation.html#deprecation-of-object-mode-fall-back-behaviour-when-using-jit for details.\u001b[0m\n",
      "  @nb.jit\n"
     ]
    },
    {
     "data": {
      "application/vnd.jupyter.widget-view+json": {
       "model_id": "bf9cb87d37d84ae3bd6034fab2ed3e52",
       "version_major": 2,
       "version_minor": 0
      },
      "text/plain": [
       "Summarize dataset:   0%|          | 0/5 [00:00<?, ?it/s]"
      ]
     },
     "metadata": {},
     "output_type": "display_data"
    },
    {
     "data": {
      "application/vnd.jupyter.widget-view+json": {
       "model_id": "95752b65094e4952809df56ed5529101",
       "version_major": 2,
       "version_minor": 0
      },
      "text/plain": [
       "Generate report structure:   0%|          | 0/1 [00:00<?, ?it/s]"
      ]
     },
     "metadata": {},
     "output_type": "display_data"
    },
    {
     "data": {
      "application/vnd.jupyter.widget-view+json": {
       "model_id": "fa102c88d25d4f8dba1223226a21a6e9",
       "version_major": 2,
       "version_minor": 0
      },
      "text/plain": [
       "Render HTML:   0%|          | 0/1 [00:00<?, ?it/s]"
      ]
     },
     "metadata": {},
     "output_type": "display_data"
    },
    {
     "data": {
      "application/vnd.jupyter.widget-view+json": {
       "model_id": "89857064c8dd4862a133c6f19bcdd1bb",
       "version_major": 2,
       "version_minor": 0
      },
      "text/plain": [
       "Export report to file:   0%|          | 0/1 [00:00<?, ?it/s]"
      ]
     },
     "metadata": {},
     "output_type": "display_data"
    }
   ],
   "source": [
    "import ydata_profiling as pp\n",
    "#Interactive and comprehensive EDA/ data description\n",
    "\n",
    "# forming ProfileReport and save\n",
    "# as output.html file\n",
    "profile = pp.ProfileReport(data_Advertisingnew)\n",
    "profile.to_file(\"output_raw_data.html\")"
   ]
  },
  {
   "cell_type": "markdown",
   "id": "ca2b3a44",
   "metadata": {},
   "source": [
    "### 2. D-Tale"
   ]
  },
  {
   "cell_type": "code",
   "execution_count": 10,
   "id": "9b6c9921",
   "metadata": {
    "scrolled": false
   },
   "outputs": [
    {
     "data": {
      "text/html": [
       "\n",
       "        <iframe\n",
       "            width=\"100%\"\n",
       "            height=\"475\"\n",
       "            src=\"http://MSI:40000/dtale/iframe/1\"\n",
       "            frameborder=\"0\"\n",
       "            allowfullscreen\n",
       "            \n",
       "        ></iframe>\n",
       "        "
      ],
      "text/plain": [
       "<IPython.lib.display.IFrame at 0x1c585fd34d0>"
      ]
     },
     "metadata": {},
     "output_type": "display_data"
    },
    {
     "data": {
      "text/plain": []
     },
     "execution_count": 10,
     "metadata": {},
     "output_type": "execute_result"
    }
   ],
   "source": [
    "import dtale\n",
    "\n",
    "dtale.show(data_Advertisingnew)"
   ]
  },
  {
   "cell_type": "code",
   "execution_count": 11,
   "id": "864c05cc",
   "metadata": {},
   "outputs": [
    {
     "data": {
      "image/png": "[encoded data removed]",
      "text/plain": [
       "<PIL.PngImagePlugin.PngImageFile image mode=RGBA size=1562x745>"
      ]
     },
     "execution_count": 11,
     "metadata": {},
     "output_type": "execute_result"
    }
   ],
   "source": [
    "from PIL import Image\n",
    "image1 = Image.open(\"missingno.png\")\n",
    "image1"
   ]
  },
  {
   "cell_type": "markdown",
   "id": "b2bacd12",
   "metadata": {},
   "source": [
    "Based on the graph above, there is no missing value in this dataset"
   ]
  },
  {
   "cell_type": "markdown",
   "id": "381a8984",
   "metadata": {},
   "source": [
    "### c. Set the input attributes and target attributes (Advertising.csv = Sales)"
   ]
  },
  {
   "cell_type": "code",
   "execution_count": 12,
   "id": "93ac5553",
   "metadata": {},
   "outputs": [],
   "source": [
    "# Set input attributes (X) and target attribute (y)\n",
    "X = data_Advertisingnew.iloc[:, :-1].values\n",
    "y = data_Advertisingnew.iloc[:, -1].values"
   ]
  },
  {
   "cell_type": "markdown",
   "id": "ea27d329",
   "metadata": {},
   "source": [
    "Input attributes: TV, Radio, Newspaper\n",
    "\n",
    "Target attribute: Sales"
   ]
  },
  {
   "cell_type": "markdown",
   "id": "2fcebcb0",
   "metadata": {},
   "source": [
    "### d. Partition the datasets into training and testing sets with 80:20. Discuss the requirement to do data partitioning in developing the model"
   ]
  },
  {
   "cell_type": "code",
   "execution_count": 13,
   "id": "da779b19",
   "metadata": {},
   "outputs": [],
   "source": [
    "#data partitioning (80:20) Training =80%, Testing =20%\n",
    "\n",
    "from sklearn.model_selection import train_test_split\n",
    "# Split the dataset into training and testing sets\n",
    "X_train, X_test, y_train, y_test = train_test_split(X, y, test_size=0.2, random_state=42)\n",
    "\n",
    "# Data partitioning is crucial to assess how well your model generalizes to new, unseen data.\n",
    "# The training set is used to train the model, and the testing set is used to evaluate its performance.\n",
    "# It helps in detecting overfitting and ensures the model's performance on unseen data."
   ]
  },
  {
   "cell_type": "code",
   "execution_count": 14,
   "id": "d663859d",
   "metadata": {
    "scrolled": false
   },
   "outputs": [
    {
     "data": {
      "text/plain": [
       "array([[116. ,   7.7,  23.1],\n",
       "       [177. ,   9.3,   6.4],\n",
       "       [ 43.1,  26.7,  35.1],\n",
       "       [ 62.3,  12.6,  18.3],\n",
       "       [224. ,   2.4,  15.6],\n",
       "       [ 38.2,   3.7,  13.8],\n",
       "       [ 70.6,  16. ,  40.8],\n",
       "       [147.3,  23.9,  19.1],\n",
       "       [104.6,   5.7,  34.4],\n",
       "       [ 76.3,  27.5,  16. ],\n",
       "       [ 78.2,  46.8,  34.5],\n",
       "       [168.4,   7.1,  12.8],\n",
       "       [  8.7,  48.9,  75. ],\n",
       "       [  7.8,  38.9,  50.6],\n",
       "       [ 76.4,   0.8,  14.8],\n",
       "       [129.4,   5.7,  31.3],\n",
       "       [ 73.4,  17. ,  12.9],\n",
       "       [289.7,  42.3,  51.2],\n",
       "       [ 19.6,  20.1,  17. ],\n",
       "       [197.6,   3.5,   5.9],\n",
       "       [284.3,  10.6,   6.4],\n",
       "       [184.9,  21. ,  22. ],\n",
       "       [112.9,  17.4,  38.6],\n",
       "       [ 23.8,  35.1,  65.9],\n",
       "       [290.7,   4.1,   8.5],\n",
       "       [ 19.4,  16. ,  22.3],\n",
       "       [293.6,  27.7,   1.8],\n",
       "       [ 18.7,  12.1,  23.4],\n",
       "       [134.3,   4.9,   9.3],\n",
       "       [ 25.6,  39. ,   9.3],\n",
       "       [100.4,   9.6,   3.6],\n",
       "       [ 80.2,   0. ,   9.2],\n",
       "       [188.4,  18.1,  25.6],\n",
       "       [177. ,  33.4,  38.7],\n",
       "       [125.7,  36.9,  79.2],\n",
       "       [209.6,  20.6,  10.7],\n",
       "       [142.9,  29.3,  12.6],\n",
       "       [184.9,  43.9,   1.7],\n",
       "       [222.4,   4.3,  49.8],\n",
       "       [241.7,  38. ,  23.2],\n",
       "       [ 17.2,  45.9,  69.3],\n",
       "       [120.5,  28.5,  14.2],\n",
       "       [ 89.7,   9.9,  35.7],\n",
       "       [191.1,  28.7,  18.2],\n",
       "       [ 75.5,  10.8,   6. ],\n",
       "       [193.2,  18.4,  65.7],\n",
       "       [ 85.7,  35.8,  49.3],\n",
       "       [266.9,  43.8,   5. ],\n",
       "       [ 39.5,  41.1,   5.8],\n",
       "       [261.3,  42.7,  54.7],\n",
       "       [ 13.2,  15.9,  49.6],\n",
       "       [193.7,  35.4,  75.6],\n",
       "       [296.4,  36.3, 100.9],\n",
       "       [265.6,  20. ,   0.3],\n",
       "       [214.7,  24. ,   4. ],\n",
       "       [149.7,  35.6,   6. ],\n",
       "       [131.7,  18.4,  34.6],\n",
       "       [ 57.5,  32.8,  23.5],\n",
       "       [240.1,  16.7,  22.9],\n",
       "       [141.3,  26.8,  46.2],\n",
       "       [180.8,  10.8,  58.4],\n",
       "       [ 97.2,   1.5,  30. ],\n",
       "       [220.5,  33.2,  37.9],\n",
       "       [140.3,   1.9,   9. ],\n",
       "       [255.4,  26.9,   5.5],\n",
       "       [ 96.2,  14.8,  38.9],\n",
       "       [ 66.1,   5.8,  24.2],\n",
       "       [239.3,  15.5,  27.3],\n",
       "       [175.7,  15.4,   2.4],\n",
       "       [240.1,   7.3,   8.7],\n",
       "       [ 17.9,  37.6,  21.6],\n",
       "       [230.1,  37.8,  69.2],\n",
       "       [283.6,  42. ,  66.2],\n",
       "       [171.3,  39.7,  37.7],\n",
       "       [199.1,  30.6,  38.7],\n",
       "       [123.1,  34.6,  12.4],\n",
       "       [131.1,  42.8,  28.9],\n",
       "       [ 25.1,  25.7,  43.3],\n",
       "       [163.5,  36.8,   7.4],\n",
       "       [248.8,  27.1,  22.9],\n",
       "       [202.5,  22.3,  31.6],\n",
       "       [ 13.1,   0.4,  25.6],\n",
       "       [  4.1,  11.6,   5.7],\n",
       "       [ 93.9,  43.5,  50.5],\n",
       "       [262.9,   3.5,  19.5],\n",
       "       [228.3,  16.9,  26.2],\n",
       "       [253.8,  21.3,  30. ],\n",
       "       [243.2,  49. ,  44.3],\n",
       "       [239.8,   4.1,  36.9],\n",
       "       [228. ,  37.7,  32. ],\n",
       "       [215.4,  23.6,  57.6],\n",
       "       [239.9,  41.5,  18.5],\n",
       "       [107.4,  14. ,  10.9],\n",
       "       [187.8,  21.1,   9.5],\n",
       "       [206.9,   8.4,  26.4],\n",
       "       [ 43. ,  25.9,  20.5],\n",
       "       [151.5,  41.3,  58.5],\n",
       "       [137.9,  46.4,  59. ],\n",
       "       [182.6,  46.2,  58.7],\n",
       "       [219.8,  33.5,  45.1],\n",
       "       [156.6,   2.6,   8.3],\n",
       "       [276.7,   2.3,  23.7],\n",
       "       [205. ,  45.1,  19.6],\n",
       "       [ 66.9,  11.7,  36.8],\n",
       "       [ 76.4,  26.7,  22.3],\n",
       "       [ 95.7,   1.4,   7.4],\n",
       "       [120.2,  19.6,  11.6],\n",
       "       [225.8,   8.2,  56.5],\n",
       "       [ 28.6,   1.5,  33. ],\n",
       "       [ 68.4,  44.5,  35.6],\n",
       "       [248.4,  30.2,  20.3],\n",
       "       [218.5,   5.4,  27.4],\n",
       "       [109.8,  47.8,  51.4],\n",
       "       [  8.6,   2.1,   1. ],\n",
       "       [ 97.5,   7.6,   7.2],\n",
       "       [210.7,  29.5,   9.3],\n",
       "       [164.5,  20.9,  47.4],\n",
       "       [265.2,   2.9,  43. ],\n",
       "       [281.4,  39.6,  55.8],\n",
       "       [ 26.8,  33. ,  19.3],\n",
       "       [276.9,  48.9,  41.8],\n",
       "       [ 36.9,  38.6,  65.6],\n",
       "       [206.8,   5.2,  19.4],\n",
       "       [287.6,  43. ,  71.8],\n",
       "       [102.7,  29.6,   8.4],\n",
       "       [262.7,  28.8,  15.9],\n",
       "       [ 90.4,   0.3,  23.2],\n",
       "       [199.8,   3.1,  34.6],\n",
       "       [ 94.2,   4.9,   8.1],\n",
       "       [210.8,  49.6,  37.7],\n",
       "       [227.2,  15.8,  49.9],\n",
       "       [ 88.3,  25.5,  73.4],\n",
       "       [237.4,   5.1,  23.5],\n",
       "       [136.2,  19.2,  16.6],\n",
       "       [172.5,  18.1,  30.7],\n",
       "       [ 17.2,   4.1,  31.6],\n",
       "       [ 59.6,  12. ,  43.1],\n",
       "       [ 74.7,  49.4,  45.7],\n",
       "       [149.8,   1.3,  24.3],\n",
       "       [166.8,  42. ,   3.6],\n",
       "       [ 44.5,  39.3,  45.1],\n",
       "       [216.4,  41.7,  39.6],\n",
       "       [ 44.7,  25.8,  20.6],\n",
       "       [  0.7,  39.6,   8.7],\n",
       "       [121. ,   8.4,  48.7],\n",
       "       [187.9,  17.2,  17.9],\n",
       "       [135.2,  41.7,  45.9],\n",
       "       [139.2,  14.3,  25.6],\n",
       "       [110.7,  40.6,  63.2],\n",
       "       [213.4,  24.6,  13.1],\n",
       "       [ 18.8,  21.7,  50.4],\n",
       "       [232.1,   8.6,   8.7],\n",
       "       [218.4,  27.7,  53.4],\n",
       "       [286. ,  13.9,   3.7],\n",
       "       [109.8,  14.3,  31.7],\n",
       "       [ 25. ,  11. ,  29.7],\n",
       "       [204.1,  32.9,  46. ],\n",
       "       [217.7,  33.5,  59. ],\n",
       "       [165.6,  10. ,  17.6],\n",
       "       [280.2,  10.1,  21.4]])"
      ]
     },
     "execution_count": 14,
     "metadata": {},
     "output_type": "execute_result"
    }
   ],
   "source": [
    "X_train"
   ]
  },
  {
   "cell_type": "markdown",
   "id": "032cb781",
   "metadata": {},
   "source": [
    "### e. Train linear regression algorithm for training sets. Explain the model developed."
   ]
  },
  {
   "cell_type": "code",
   "execution_count": 15,
   "id": "36eb06d6",
   "metadata": {},
   "outputs": [
    {
     "data": {
      "text/html": [
       "<style>#sk-container-id-1 {color: black;}#sk-container-id-1 pre{padding: 0;}#sk-container-id-1 div.sk-toggleable {background-color: white;}#sk-container-id-1 label.sk-toggleable__label {cursor: pointer;display: block;width: 100%;margin-bottom: 0;padding: 0.3em;box-sizing: border-box;text-align: center;}#sk-container-id-1 label.sk-toggleable__label-arrow:before {content: \"▸\";float: left;margin-right: 0.25em;color: #696969;}#sk-container-id-1 label.sk-toggleable__label-arrow:hover:before {color: black;}#sk-container-id-1 div.sk-estimator:hover label.sk-toggleable__label-arrow:before {color: black;}#sk-container-id-1 div.sk-toggleable__content {max-height: 0;max-width: 0;overflow: hidden;text-align: left;background-color: #f0f8ff;}#sk-container-id-1 div.sk-toggleable__content pre {margin: 0.2em;color: black;border-radius: 0.25em;background-color: #f0f8ff;}#sk-container-id-1 input.sk-toggleable__control:checked~div.sk-toggleable__content {max-height: 200px;max-width: 100%;overflow: auto;}#sk-container-id-1 input.sk-toggleable__control:checked~label.sk-toggleable__label-arrow:before {content: \"▾\";}#sk-container-id-1 div.sk-estimator input.sk-toggleable__control:checked~label.sk-toggleable__label {background-color: #d4ebff;}#sk-container-id-1 div.sk-label input.sk-toggleable__control:checked~label.sk-toggleable__label {background-color: #d4ebff;}#sk-container-id-1 input.sk-hidden--visually {border: 0;clip: rect(1px 1px 1px 1px);clip: rect(1px, 1px, 1px, 1px);height: 1px;margin: -1px;overflow: hidden;padding: 0;position: absolute;width: 1px;}#sk-container-id-1 div.sk-estimator {font-family: monospace;background-color: #f0f8ff;border: 1px dotted black;border-radius: 0.25em;box-sizing: border-box;margin-bottom: 0.5em;}#sk-container-id-1 div.sk-estimator:hover {background-color: #d4ebff;}#sk-container-id-1 div.sk-parallel-item::after {content: \"\";width: 100%;border-bottom: 1px solid gray;flex-grow: 1;}#sk-container-id-1 div.sk-label:hover label.sk-toggleable__label {background-color: #d4ebff;}#sk-container-id-1 div.sk-serial::before {content: \"\";position: absolute;border-left: 1px solid gray;box-sizing: border-box;top: 0;bottom: 0;left: 50%;z-index: 0;}#sk-container-id-1 div.sk-serial {display: flex;flex-direction: column;align-items: center;background-color: white;padding-right: 0.2em;padding-left: 0.2em;position: relative;}#sk-container-id-1 div.sk-item {position: relative;z-index: 1;}#sk-container-id-1 div.sk-parallel {display: flex;align-items: stretch;justify-content: center;background-color: white;position: relative;}#sk-container-id-1 div.sk-item::before, #sk-container-id-1 div.sk-parallel-item::before {content: \"\";position: absolute;border-left: 1px solid gray;box-sizing: border-box;top: 0;bottom: 0;left: 50%;z-index: -1;}#sk-container-id-1 div.sk-parallel-item {display: flex;flex-direction: column;z-index: 1;position: relative;background-color: white;}#sk-container-id-1 div.sk-parallel-item:first-child::after {align-self: flex-end;width: 50%;}#sk-container-id-1 div.sk-parallel-item:last-child::after {align-self: flex-start;width: 50%;}#sk-container-id-1 div.sk-parallel-item:only-child::after {width: 0;}#sk-container-id-1 div.sk-dashed-wrapped {border: 1px dashed gray;margin: 0 0.4em 0.5em 0.4em;box-sizing: border-box;padding-bottom: 0.4em;background-color: white;}#sk-container-id-1 div.sk-label label {font-family: monospace;font-weight: bold;display: inline-block;line-height: 1.2em;}#sk-container-id-1 div.sk-label-container {text-align: center;}#sk-container-id-1 div.sk-container {/* jupyter's `normalize.less` sets `[hidden] { display: none; }` but bootstrap.min.css set `[hidden] { display: none !important; }` so we also need the `!important` here to be able to override the default hidden behavior on the sphinx rendered scikit-learn.org. See: https://github.com/scikit-learn/scikit-learn/issues/21755 */display: inline-block !important;position: relative;}#sk-container-id-1 div.sk-text-repr-fallback {display: none;}</style><div id=\"sk-container-id-1\" class=\"sk-top-container\"><div class=\"sk-text-repr-fallback\"><pre>LinearRegression()</pre><b>In a Jupyter environment, please rerun this cell to show the HTML representation or trust the notebook. <br />On GitHub, the HTML representation is unable to render, please try loading this page with nbviewer.org.</b></div><div class=\"sk-container\" hidden><div class=\"sk-item\"><div class=\"sk-estimator sk-toggleable\"><input class=\"sk-toggleable__control sk-hidden--visually\" id=\"sk-estimator-id-1\" type=\"checkbox\" checked><label for=\"sk-estimator-id-1\" class=\"sk-toggleable__label sk-toggleable__label-arrow\">LinearRegression</label><div class=\"sk-toggleable__content\"><pre>LinearRegression()</pre></div></div></div></div></div>"
      ],
      "text/plain": [
       "LinearRegression()"
      ]
     },
     "execution_count": 15,
     "metadata": {},
     "output_type": "execute_result"
    }
   ],
   "source": [
    "# Develop model \n",
    "\n",
    "from sklearn.linear_model import LinearRegression\n",
    "\n",
    "# Create a linear regression model\n",
    "model = LinearRegression()\n",
    "\n",
    "# Train the model on the training set\n",
    "model.fit(X_train, y_train)"
   ]
  },
  {
   "cell_type": "markdown",
   "id": "e18ff2a2",
   "metadata": {},
   "source": [
    "Each feature's coefficients, also known as weights, and an intercept are part of the linear regression model. The model's prediction for a given collection of features (X) may be obtained by using the learned coefficients to generate a linear combination of the feature values and then adding the intercept."
   ]
  },
  {
   "cell_type": "markdown",
   "id": "e11a223f",
   "metadata": {},
   "source": [
    "### f. Use the linear regression models to predict test sets."
   ]
  },
  {
   "cell_type": "code",
   "execution_count": 16,
   "id": "0c82f07e",
   "metadata": {},
   "outputs": [
    {
     "data": {
      "text/plain": [
       "array([16.4080242 , 20.88988209, 21.55384318, 10.60850256, 22.11237326,\n",
       "       13.10559172, 21.05719192,  7.46101034, 13.60634581, 15.15506967,\n",
       "        9.04831992,  6.65328312, 14.34554487,  8.90349333,  9.68959028,\n",
       "       12.16494386,  8.73628397, 16.26507258, 10.27759582, 18.83109103,\n",
       "       19.56036653, 13.25103464, 12.33620695, 21.30695132,  7.82740305,\n",
       "        5.80957448, 20.75753231, 11.98138077,  9.18349576,  8.5066991 ,\n",
       "       12.46646769, 10.00337695, 21.3876709 , 12.24966368, 18.26661538,\n",
       "       20.13766267, 14.05514005, 20.85411186, 11.0174441 ,  4.56899622])"
      ]
     },
     "execution_count": 16,
     "metadata": {},
     "output_type": "execute_result"
    }
   ],
   "source": [
    "# Predict on the test set\n",
    "y_pred = model.predict(X_test)\n",
    "y_pred"
   ]
  },
  {
   "cell_type": "markdown",
   "id": "7652ae2f",
   "metadata": {},
   "source": [
    "### g. Evaluate the model using 2 R and MSE for linear regression and interpret the results."
   ]
  },
  {
   "cell_type": "code",
   "execution_count": 17,
   "id": "18d21d0f",
   "metadata": {},
   "outputs": [],
   "source": [
    "import statsmodels.formula.api as sm\n",
    "result = sm.ols(\"Sales~TV+Radio+Newspaper\", data=data_Advertisingnew).fit()"
   ]
  },
  {
   "cell_type": "code",
   "execution_count": 18,
   "id": "7fc1b5c7",
   "metadata": {},
   "outputs": [
    {
     "name": "stdout",
     "output_type": "stream",
     "text": [
      "0.8972106381789522 0.8956373316204668\n"
     ]
    }
   ],
   "source": [
    "#print result.summary()\n",
    "print (result.rsquared, result.rsquared_adj)"
   ]
  },
  {
   "cell_type": "code",
   "execution_count": 19,
   "id": "86765d0c",
   "metadata": {},
   "outputs": [
    {
     "name": "stdout",
     "output_type": "stream",
     "text": [
      "                            OLS Regression Results                            \n",
      "==============================================================================\n",
      "Dep. Variable:                  Sales   R-squared:                       0.897\n",
      "Model:                            OLS   Adj. R-squared:                  0.896\n",
      "Method:                 Least Squares   F-statistic:                     570.3\n",
      "Date:                Tue, 21 Nov 2023   Prob (F-statistic):           1.58e-96\n",
      "Time:                        00:25:42   Log-Likelihood:                -386.18\n",
      "No. Observations:                 200   AIC:                             780.4\n",
      "Df Residuals:                     196   BIC:                             793.6\n",
      "Df Model:                           3                                         \n",
      "Covariance Type:            nonrobust                                         \n",
      "==============================================================================\n",
      "                 coef    std err          t      P>|t|      [0.025      0.975]\n",
      "------------------------------------------------------------------------------\n",
      "Intercept      2.9389      0.312      9.422      0.000       2.324       3.554\n",
      "TV             0.0458      0.001     32.809      0.000       0.043       0.049\n",
      "Radio          0.1885      0.009     21.893      0.000       0.172       0.206\n",
      "Newspaper     -0.0010      0.006     -0.177      0.860      -0.013       0.011\n",
      "==============================================================================\n",
      "Omnibus:                       60.414   Durbin-Watson:                   2.084\n",
      "Prob(Omnibus):                  0.000   Jarque-Bera (JB):              151.241\n",
      "Skew:                          -1.327   Prob(JB):                     1.44e-33\n",
      "Kurtosis:                       6.332   Cond. No.                         454.\n",
      "==============================================================================\n",
      "\n",
      "Notes:\n",
      "[1] Standard Errors assume that the covariance matrix of the errors is correctly specified.\n"
     ]
    }
   ],
   "source": [
    "print(result.summary())"
   ]
  },
  {
   "cell_type": "markdown",
   "id": "8c5042e8",
   "metadata": {},
   "source": [
    "Score for R^2 is 0.8972. The independent variables (TV, radio, newspaper) account for 89.72% of the variation in the dependent variable (sales)."
   ]
  },
  {
   "cell_type": "code",
   "execution_count": 20,
   "id": "556dea65",
   "metadata": {},
   "outputs": [
    {
     "name": "stdout",
     "output_type": "stream",
     "text": [
      "MSE (built-in function): 3.1741\n",
      "MSE (computed):3.1741\n"
     ]
    }
   ],
   "source": [
    "from sklearn.metrics import mean_squared_error \n",
    "\n",
    "print('MSE (built-in function):', round(mean_squared_error(y_test, y_pred),4))\n",
    "\n",
    "err = np.matrix(y_test-y_pred)\n",
    "print('MSE (computed):%.4f' % (err*err.T/err.shape[1]))"
   ]
  },
  {
   "cell_type": "markdown",
   "id": "9b93d811",
   "metadata": {},
   "source": [
    "The average squared difference (MSE) between the actual and projected values is a measurement. It measures the model's overall accuracy. The outcome displays the same MSE value (3.1741) for both manual computation and built-in function."
   ]
  },
  {
   "cell_type": "markdown",
   "id": "f6a6e7ab",
   "metadata": {},
   "source": [
    "Interpretation:\n",
    "- R-squared (2 R) measures the proportion of the variance in the dependent variable (Sales) that is predictable \n",
    "- from the independent variables (TV, Radio, Newspaper). It ranges from 0 to 1, and higher values indicate a better fit.\n",
    "- MSE is a measure of the average squared difference between predicted and actual values. Lower values are better."
   ]
  },
  {
   "cell_type": "markdown",
   "id": "490ffc4e",
   "metadata": {},
   "source": [
    "### h. Predict for new data."
   ]
  },
  {
   "cell_type": "code",
   "execution_count": 21,
   "id": "f94df298",
   "metadata": {
    "scrolled": false
   },
   "outputs": [
    {
     "data": {
      "text/html": [
       "<div>\n",
       "<style scoped>\n",
       "    .dataframe tbody tr th:only-of-type {\n",
       "        vertical-align: middle;\n",
       "    }\n",
       "\n",
       "    .dataframe tbody tr th {\n",
       "        vertical-align: top;\n",
       "    }\n",
       "\n",
       "    .dataframe thead th {\n",
       "        text-align: right;\n",
       "    }\n",
       "</style>\n",
       "<table border=\"1\" class=\"dataframe\">\n",
       "  <thead>\n",
       "    <tr style=\"text-align: right;\">\n",
       "      <th></th>\n",
       "      <th>TV</th>\n",
       "      <th>Radio</th>\n",
       "      <th>Newspaper</th>\n",
       "      <th>Sales</th>\n",
       "    </tr>\n",
       "  </thead>\n",
       "  <tbody>\n",
       "    <tr>\n",
       "      <th>0</th>\n",
       "      <td>230.1</td>\n",
       "      <td>37.8</td>\n",
       "      <td>69.2</td>\n",
       "      <td>22.1</td>\n",
       "    </tr>\n",
       "    <tr>\n",
       "      <th>1</th>\n",
       "      <td>44.5</td>\n",
       "      <td>39.3</td>\n",
       "      <td>45.1</td>\n",
       "      <td>10.4</td>\n",
       "    </tr>\n",
       "    <tr>\n",
       "      <th>2</th>\n",
       "      <td>17.2</td>\n",
       "      <td>45.9</td>\n",
       "      <td>69.3</td>\n",
       "      <td>9.3</td>\n",
       "    </tr>\n",
       "    <tr>\n",
       "      <th>3</th>\n",
       "      <td>151.5</td>\n",
       "      <td>41.3</td>\n",
       "      <td>58.5</td>\n",
       "      <td>18.5</td>\n",
       "    </tr>\n",
       "    <tr>\n",
       "      <th>4</th>\n",
       "      <td>180.8</td>\n",
       "      <td>10.8</td>\n",
       "      <td>58.4</td>\n",
       "      <td>12.9</td>\n",
       "    </tr>\n",
       "    <tr>\n",
       "      <th>...</th>\n",
       "      <td>...</td>\n",
       "      <td>...</td>\n",
       "      <td>...</td>\n",
       "      <td>...</td>\n",
       "    </tr>\n",
       "    <tr>\n",
       "      <th>195</th>\n",
       "      <td>38.2</td>\n",
       "      <td>3.7</td>\n",
       "      <td>13.8</td>\n",
       "      <td>7.6</td>\n",
       "    </tr>\n",
       "    <tr>\n",
       "      <th>196</th>\n",
       "      <td>94.2</td>\n",
       "      <td>4.9</td>\n",
       "      <td>8.1</td>\n",
       "      <td>9.7</td>\n",
       "    </tr>\n",
       "    <tr>\n",
       "      <th>197</th>\n",
       "      <td>177.0</td>\n",
       "      <td>9.3</td>\n",
       "      <td>6.4</td>\n",
       "      <td>12.8</td>\n",
       "    </tr>\n",
       "    <tr>\n",
       "      <th>198</th>\n",
       "      <td>283.6</td>\n",
       "      <td>42.0</td>\n",
       "      <td>66.2</td>\n",
       "      <td>25.5</td>\n",
       "    </tr>\n",
       "    <tr>\n",
       "      <th>199</th>\n",
       "      <td>232.1</td>\n",
       "      <td>8.6</td>\n",
       "      <td>8.7</td>\n",
       "      <td>13.4</td>\n",
       "    </tr>\n",
       "  </tbody>\n",
       "</table>\n",
       "<p>200 rows × 4 columns</p>\n",
       "</div>"
      ],
      "text/plain": [
       "        TV  Radio  Newspaper  Sales\n",
       "0    230.1   37.8       69.2   22.1\n",
       "1     44.5   39.3       45.1   10.4\n",
       "2     17.2   45.9       69.3    9.3\n",
       "3    151.5   41.3       58.5   18.5\n",
       "4    180.8   10.8       58.4   12.9\n",
       "..     ...    ...        ...    ...\n",
       "195   38.2    3.7       13.8    7.6\n",
       "196   94.2    4.9        8.1    9.7\n",
       "197  177.0    9.3        6.4   12.8\n",
       "198  283.6   42.0       66.2   25.5\n",
       "199  232.1    8.6        8.7   13.4\n",
       "\n",
       "[200 rows x 4 columns]"
      ]
     },
     "execution_count": 21,
     "metadata": {},
     "output_type": "execute_result"
    }
   ],
   "source": [
    "data_Advertisingnew"
   ]
  },
  {
   "cell_type": "code",
   "execution_count": 22,
   "id": "a9f0c40b",
   "metadata": {},
   "outputs": [
    {
     "name": "stdout",
     "output_type": "stream",
     "text": [
      "[20.61397147]\n",
      "[22.08443033]\n",
      "[13.27071976]\n"
     ]
    }
   ],
   "source": [
    "# To predict new data using LR model\n",
    "\n",
    "print(model.predict([[230.1,37.8,69.2]]))\n",
    "print(model.predict([[250.1,40.8,72.2]]))\n",
    "print(model.predict([[180.8,10.8,58.4]]))"
   ]
  },
  {
   "cell_type": "markdown",
   "id": "822bfda9",
   "metadata": {},
   "source": [
    "### Actual data"
   ]
  },
  {
   "cell_type": "markdown",
   "id": "4d16a638",
   "metadata": {},
   "source": [
    "Compare the sales forecast findings with the real data. Since the expected and actual results are greater, it is possible to increase sales in real time."
   ]
  }
 ],
 "metadata": {
  "kernelspec": {
   "display_name": "Python 3 (ipykernel)",
   "language": "python",
   "name": "python3"
  },
  "language_info": {
   "codemirror_mode": {
    "name": "ipython",
    "version": 3
   },
   "file_extension": ".py",
   "mimetype": "text/x-python",
   "name": "python",
   "nbconvert_exporter": "python",
   "pygments_lexer": "ipython3",
   "version": "3.11.5"
  }
 },
 "nbformat": 4,
 "nbformat_minor": 5
}
