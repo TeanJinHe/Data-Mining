{
 "cells": [
  {
   "cell_type": "markdown",
   "id": "75f69210",
   "metadata": {},
   "source": [
    "### CHONG WEI HAN\n",
    "### SD20045\n",
    "### Data Mining\n",
    "### Lab Report 6"
   ]
  },
  {
   "cell_type": "markdown",
   "id": "367c2ac4",
   "metadata": {},
   "source": [
    "# Question 1: General Knowledge"
   ]
  },
  {
   "cell_type": "markdown",
   "id": "a2bd534a",
   "metadata": {},
   "source": [
    "Discuss the text mining concepts in data mining implementation related to sentiment analysis applications discussed above. Give reference/ references."
   ]
  },
  {
   "cell_type": "markdown",
   "id": "399aecd3",
   "metadata": {},
   "source": [
    "### Voice of the customer \n",
    "Analysis refers to the systematic examination of consumer input in order to get practical and implementable insights. These insights provide a deeper comprehension of client behaviour and enable the execution of marketing-conversion gap analysis.\n",
    "\n",
    "\n",
    "### Social media listening \n",
    "The social media landscape is extensive, offering several platforms tailored to different user profiles. Facebook caters to a more older audience, whereas Twitch specifically caters to gamers. Through the proliferation of articles specifically aimed at facilitating rapid fame on YouTube, and the increasing preference of celebrities for Instagram as their primary platform, social media has transformed several aspects of life into a competition for popularity.\n",
    "\n",
    "Reference:\n",
    "- https://towardsdatascience.com/sentiment-analysis-concept-analysis-and-applications-6c94d6f58c17 \n",
    "- https://www.repustate.com/blog/text-sentiment-analysis/\n",
    "- https://www.red-gate.com/simple-talk/databases/sql-server/bi-sql-server/text-mining-and-sentiment-analysis-introduction/"
   ]
  },
  {
   "cell_type": "markdown",
   "id": "254ee771",
   "metadata": {},
   "source": [
    "# Question 2: Python"
   ]
  },
  {
   "cell_type": "markdown",
   "id": "fc0903a7",
   "metadata": {},
   "source": [
    "Based on the aforementioned above, develop sentiment analyser for movie review with criteria as follows:"
   ]
  },
  {
   "cell_type": "code",
   "execution_count": null,
   "id": "c6c4742c",
   "metadata": {
    "scrolled": true
   },
   "outputs": [],
   "source": [
    "#pip install nltk"
   ]
  },
  {
   "cell_type": "code",
   "execution_count": 9,
   "id": "d6e18391",
   "metadata": {},
   "outputs": [
    {
     "name": "stderr",
     "output_type": "stream",
     "text": [
      "[nltk_data] Downloading package movie_reviews to C:\\Users\\Cyrex\n",
      "[nltk_data]     Chong\\AppData\\Roaming\\nltk_data...\n",
      "[nltk_data]   Package movie_reviews is already up-to-date!\n"
     ]
    },
    {
     "data": {
      "text/plain": [
       "True"
      ]
     },
     "execution_count": 9,
     "metadata": {},
     "output_type": "execute_result"
    }
   ],
   "source": [
    "# a. Import movie_reviews corpus from nltk.corpus.\n",
    "import nltk\n",
    "from nltk import FreqDist\n",
    "from nltk.corpus import movie_reviews\n",
    "from nltk.classify import NaiveBayesClassifier\n",
    "from nltk.classify.util import accuracy\n",
    "\n",
    "# Download the movie_reviews corpus if not already downloaded\n",
    "nltk.download('movie_reviews')"
   ]
  },
  {
   "cell_type": "code",
   "execution_count": 10,
   "id": "5b4a64aa",
   "metadata": {},
   "outputs": [],
   "source": [
    "# b. Treshold setting = 0.9.\n",
    "\n",
    "# Get the movie reviews documents\n",
    "documents = [(list(movie_reviews.words(fileid)), category)\n",
    "             for category in movie_reviews.categories()\n",
    "             for fileid in movie_reviews.fileids(category)]\n",
    "\n",
    "# Shuffle the documents\n",
    "import random\n",
    "random.shuffle(documents)\n",
    "\n",
    "# Define a threshold for splitting into training and testing sets\n",
    "threshold = 0.9\n",
    "split = int(threshold * len(documents))\n",
    "\n",
    "# Split the data into training and testing sets\n",
    "train_set = documents[:split]\n",
    "test_set = documents[split:]\n",
    "\n",
    "# Get the most informative words\n",
    "all_words = [word.lower() for word in movie_reviews.words()]\n",
    "word_freq = FreqDist(all_words)\n",
    "word_features = list(word_freq.keys())[:2000]\n",
    "\n",
    "# Create the feature sets\n",
    "training_features = [(document_features(d), c) for (d, c) in train_set]\n",
    "testing_features = [(document_features(d), c) for (d, c) in test_set]"
   ]
  },
  {
   "cell_type": "code",
   "execution_count": 11,
   "id": "94f89444",
   "metadata": {},
   "outputs": [
    {
     "name": "stdout",
     "output_type": "stream",
     "text": [
      "Accuracy: 85.00%\n"
     ]
    }
   ],
   "source": [
    "# c. Use Naïve Bayes classifier for model development and set the accuracy result.\n",
    "\n",
    "# Train the Naïve Bayes classifier\n",
    "classifier = NaiveBayesClassifier.train(training_features)\n",
    "\n",
    "# Evaluate the accuracy of the classifier on the testing set\n",
    "accuracy_result = accuracy(classifier, testing_features)\n",
    "print(f'Accuracy: {accuracy_result:.2%}')"
   ]
  },
  {
   "cell_type": "code",
   "execution_count": 12,
   "id": "e21f5b6e",
   "metadata": {},
   "outputs": [
    {
     "name": "stdout",
     "output_type": "stream",
     "text": [
      "20 Most Informative Words:\n",
      "Most Informative Features\n",
      "        contains(turkey) = True              neg : pos    =     12.3 : 1.0\n",
      "     contains(stretched) = True              neg : pos    =      8.4 : 1.0\n",
      "    contains(schumacher) = True              neg : pos    =      6.6 : 1.0\n",
      "          contains(mena) = True              neg : pos    =      6.4 : 1.0\n",
      "        contains(shoddy) = True              neg : pos    =      6.4 : 1.0\n",
      "        contains(suvari) = True              neg : pos    =      6.4 : 1.0\n",
      "       contains(singers) = True              pos : neg    =      6.3 : 1.0\n",
      "     contains(atrocious) = True              neg : pos    =      6.2 : 1.0\n",
      "         contains(waste) = True              neg : pos    =      5.9 : 1.0\n",
      "       contains(bronson) = True              neg : pos    =      5.7 : 1.0\n",
      "        contains(canyon) = True              neg : pos    =      5.7 : 1.0\n",
      "     contains(pregnancy) = True              neg : pos    =      5.7 : 1.0\n",
      "        contains(sordid) = True              neg : pos    =      5.7 : 1.0\n",
      "        contains(wasted) = True              neg : pos    =      5.3 : 1.0\n",
      "    contains(ridiculous) = True              neg : pos    =      5.2 : 1.0\n",
      "        contains(justin) = True              neg : pos    =      5.0 : 1.0\n",
      "           contains(ugh) = True              neg : pos    =      5.0 : 1.0\n",
      "        contains(welles) = True              neg : pos    =      5.0 : 1.0\n",
      "          contains(gear) = True              pos : neg    =      5.0 : 1.0\n",
      "         contains(awful) = True              neg : pos    =      4.9 : 1.0\n",
      "None\n"
     ]
    }
   ],
   "source": [
    "# d. Create 20 most informative words.\n",
    "\n",
    "print(\"20 Most Informative Words:\")\n",
    "print(classifier.show_most_informative_features(20))"
   ]
  },
  {
   "cell_type": "code",
   "execution_count": 13,
   "id": "3a261acb",
   "metadata": {},
   "outputs": [],
   "source": [
    "# e. Test the input movie reviews with the reviews below:\n",
    "# i. The costumes in this movie look real.\n",
    "# ii. The movie is merely based on the book.\n",
    "# iii. I think the story was terrible and the characters were very weak.\n",
    "# iv. People say that the director of the movie is astounding.\n",
    "# v. This is such a ridiculous movie. I will not recommend it to anyone.\n",
    "\n",
    "# Test input movie reviews\n",
    "input_reviews = [\n",
    "    \"The costumes in this movie look real.\",\n",
    "    \"The movie is merely based on the book.\",\n",
    "    \"I think the story was terrible and the characters were very weak.\",\n",
    "    \"People say that the director of the movie is astounding.\",\n",
    "    \"This is such a ridiculous movie. I will not recommend it to anyone.\"\n",
    "]"
   ]
  },
  {
   "cell_type": "code",
   "execution_count": 14,
   "id": "ec5f7726",
   "metadata": {},
   "outputs": [
    {
     "name": "stdout",
     "output_type": "stream",
     "text": [
      "Review: 'The costumes in this movie look real.'\n",
      "Sentiment: neg\n",
      "Probability: 99.96%\n",
      "\n",
      "Review: 'The movie is merely based on the book.'\n",
      "Sentiment: neg\n",
      "Probability: 99.92%\n",
      "\n",
      "Review: 'I think the story was terrible and the characters were very weak.'\n",
      "Sentiment: neg\n",
      "Probability: 99.97%\n",
      "\n",
      "Review: 'People say that the director of the movie is astounding.'\n",
      "Sentiment: neg\n",
      "Probability: 99.60%\n",
      "\n",
      "Review: 'This is such a ridiculous movie. I will not recommend it to anyone.'\n",
      "Sentiment: neg\n",
      "Probability: 99.71%\n",
      "\n"
     ]
    }
   ],
   "source": [
    "# f. Predict the sentiment and probability of reviews in (e).\n",
    "# Predict sentiment and probability for each input review\n",
    "for review in input_reviews:\n",
    "    features = document_features(review.split())\n",
    "    sentiment = classifier.classify(features)\n",
    "    probability = classifier.prob_classify(features).prob(sentiment)\n",
    "    print(f\"Review: '{review}'\\nSentiment: {sentiment}\\nProbability: {probability:.2%}\\n\")"
   ]
  },
  {
   "cell_type": "code",
   "execution_count": null,
   "id": "c9930ec7",
   "metadata": {},
   "outputs": [],
   "source": []
  },
  {
   "cell_type": "code",
   "execution_count": null,
   "id": "59510313",
   "metadata": {},
   "outputs": [],
   "source": []
  },
  {
   "cell_type": "code",
   "execution_count": null,
   "id": "349aca29",
   "metadata": {},
   "outputs": [],
   "source": []
  }
 ],
 "metadata": {
  "kernelspec": {
   "display_name": "Python 3 (ipykernel)",
   "language": "python",
   "name": "python3"
  },
  "language_info": {
   "codemirror_mode": {
    "name": "ipython",
    "version": 3
   },
   "file_extension": ".py",
   "mimetype": "text/x-python",
   "name": "python",
   "nbconvert_exporter": "python",
   "pygments_lexer": "ipython3",
   "version": "3.11.5"
  }
 },
 "nbformat": 4,
 "nbformat_minor": 5
}
