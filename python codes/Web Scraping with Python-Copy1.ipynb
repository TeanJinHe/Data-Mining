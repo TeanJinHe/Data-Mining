{
 "cells": [
  {
   "cell_type": "markdown",
   "metadata": {},
   "source": [
    "### How to perform web scraping with Python!"
   ]
  },
  {
   "cell_type": "markdown",
   "metadata": {},
   "source": [
    "### Grabbing the title of a page"
   ]
  },
  {
   "cell_type": "code",
   "execution_count": 1,
   "metadata": {},
   "outputs": [],
   "source": [
    "import requests"
   ]
  },
  {
   "cell_type": "code",
   "execution_count": 2,
   "metadata": {},
   "outputs": [],
   "source": [
    "# Step 1: Use the requests library to grab the page\n",
    "# Note, this may fail if you have a firewall blocking Python/Jupyter \n",
    "# Note sometimes you need to run this twice if it fails the first time\n",
    "res = requests.get(\"https://www.ump.edu.my/en\")"
   ]
  },
  {
   "cell_type": "code",
   "execution_count": 3,
   "metadata": {},
   "outputs": [
    {
     "name": "stdout",
     "output_type": "stream",
     "text": [
      "<Response [200]>\n"
     ]
    }
   ],
   "source": [
    "print(res)"
   ]
  },
  {
   "cell_type": "code",
   "execution_count": 4,
   "metadata": {},
   "outputs": [
    {
     "data": {
      "text/plain": [
       "requests.models.Response"
      ]
     },
     "execution_count": 4,
     "metadata": {},
     "output_type": "execute_result"
    }
   ],
   "source": [
    "type(res)"
   ]
  },
  {
   "cell_type": "code",
   "execution_count": 5,
   "metadata": {},
   "outputs": [
    {
     "data": {
      "text/plain": [
       "'<!DOCTYPE html>\\n<html lang=\"en\" dir=\"ltr\" prefix=\"content: http://purl.org/rss/1.0/modules/content/  dc: http://purl.org/dc/terms/  foaf: http://xmlns.com/foaf/0.1/  og: http://ogp.me/ns#  rdfs: http://www.w3.org/2000/01/rdf-schema#  schema: http://schema.org/  sioc: http://rdfs.org/sioc/ns#  sioct: http://rdfs.org/sioc/types#  skos: http://www.w3.org/2004/02/skos/core#  xsd: http://www.w3.org/2001/XMLSchema# \">\\n  <head>\\n    <meta charset=\"utf-8\" />\\n<script>(function(i,s,o,g,r,a,m){i[\"GoogleAnalyticsObject\"]=r;i[r]=i[r]||function(){(i[r].q=i[r].q||[]).push(arguments)},i[r].l=1*new Date();a=s.createElement(o),m=s.getElementsByTagName(o)[0];a.async=1;a.src=g;m.parentNode.insertBefore(a,m)})(window,document,\"script\",\"https://www.google-analytics.com/analytics.js\",\"ga\");ga(\"create\", \"UA-23032201-1\", {\"cookieDomain\":\"auto\"});ga(\"set\", \"anonymizeIp\", true);ga(\"send\", \"pageview\");</script>\\n<meta name=\"Generator\" content=\"Drupal 8 (https://www.drupal.org)\" />\\n<meta name=\"MobileOptimized\" content=\"width\" />\\n<meta name=\"HandheldFriendly\" content=\"true\" />\\n<meta name=\"viewport\" content=\"width=device-width, initial-scale=1.0\" />\\n<link rel=\"shortcut icon\" href=\"/themes/pana/favicon.ico\" type=\"image/vnd.microsoft.icon\" />\\n<link rel=\"alternate\" hreflang=\"en\" href=\"https://www.umpsa.edu.my/en/ump\" />\\n<link rel=\"canonical\" href=\"/en/ump\" />\\n<link rel=\"shortlink\" href=\"/en/node/217\" />\\n<link rel=\"revision\" href=\"/en/ump\" />\\n\\n    <title>UMPSA Frontpage | Official Portal - UMPSA Universiti Malaysia Pahang Al-Sultan Abdullah (Malaysia University) - Public University in Pahang</title>\\n    <style media=\"all\">\\n@import url(\"/modules/custom/portfolio/css/shuffle.css?s692ch\");\\n@import url(\"/core/themes/stable/css/system/components/ajax-progress.module.css?s692ch\");\\n@import url(\"/core/themes/stable/css/system/components/align.module.css?s692ch\");\\n@import url(\"/core/themes/stable/css/system/components/autocomplete-loading.module.css?s692ch\");\\n@import url(\"/core/themes/stable/css/system/components/fieldgroup.module.css?s692ch\");\\n@import url(\"/core/themes/stable/css/system/components/container-inline.module.css?s692ch\");\\n@import url(\"/core/themes/stable/css/system/components/clearfix.module.css?s692ch\");\\n@import url(\"/core/themes/stable/css/system/components/details.module.css?s692ch\");\\n@import url(\"/core/themes/stable/css/system/components/hidden.module.css?s692ch\");\\n@import url(\"/core/themes/stable/css/system/components/item-list.module.css?s692ch\");\\n@import url(\"/core/themes/stable/css/system/components/js.module.css?s692ch\");\\n@import url(\"/core/themes/stable/css/system/components/nowrap.module.css?s692ch\");\\n@import url(\"/core/themes/stable/css/system/components/position-container.module.css?s692ch\");\\n@import url(\"/core/themes/stable/css/system/components/progress.module.css?s692ch\");\\n@import url(\"/core/themes/stable/css/system/components/reset-appearance.module.css?s692ch\");\\n@import url(\"/core/themes/stable/css/system/components/resize.module.css?s692ch\");\\n@import url(\"/core/themes/stable/css/system/components/sticky-header.module.css?s692ch\");\\n@import url(\"/core/themes/stable/css/system/components/system-status-counter.css?s692ch\");\\n@import url(\"/core/themes/stable/css/system/components/system-status-report-counters.css?s692ch\");\\n@import url(\"/core/themes/stable/css/system/components/system-status-report-general-info.css?s692ch\");\\n@import url(\"/core/themes/stable/css/system/components/tabledrag.module.css?s692ch\");\\n@import url(\"/core/themes/stable/css/system/components/tablesort.module.css?s692ch\");\\n@import url(\"/core/themes/stable/css/system/components/tree-child.module.css?s692ch\");\\n@import url(\"/core/assets/vendor/jquery.ui/themes/base/core.css?s692ch\");\\n@import url(\"/core/assets/vendor/jquery.ui/themes/base/resizable.css?s692ch\");\\n@import url(\"/core/assets/vendor/jquery.ui/themes/base/dialog.css?s692ch\");\\n@import url(\"/core/themes/stable/css/views/views.module.css?s692ch\");\\n@import url(\"/libraries/jquery.countdown/css/jquery.countdown.css?s692ch\");\\n@import url(\"/modules/contrib/field_timer/css/field_timer.css?s692ch\");\\n@import url(\"/libraries/fontawesome/css/all.min.css?s692ch\");\\n@import url(\"/core/assets/vendor/jquery.ui/themes/base/theme.css?s692ch\");\\n</style>\\n<link rel=\"stylesheet\" href=\"https://fonts.googleapis.com/css?family=Poppins:400,100,300,700,900\" media=\"all\" />\\n<style media=\"all\">\\n@import url(\"/themes/pana/assets/lib/bootstrap/css/bootstrap.min.css?s692ch\");\\n@import url(\"/libraries/fontawesome/css/fontawesome.min.css?s692ch\");\\n@import url(\"/themes/pana/assets/lib/ionicons/css/ionicons.min.css?s692ch\");\\n@import url(\"/themes/pana/assets/lib/owl-carousel/assets/owl.carousel.min.css?s692ch\");\\n@import url(\"/themes/pana/assets/lib/owl-carousel/assets/owl.theme.default.min.css?s692ch\");\\n@import url(\"/themes/pana/assets/lib/shuffle/css/shuffle.css?s692ch\");\\n@import url(\"/themes/pana/assets/lib/animate.css/animate.min.css?s692ch\");\\n@import url(\"/themes/pana/assets/lib/nice-select/css/nice-select.css?s692ch\");\\n@import url(\"/themes/pana/assets/lib/smartmenus/css/smartmenus.css?s692ch\");\\n@import url(\"/themes/pana/assets/css/style.css?s692ch\");\\n@import url(\"/themes/pana/assets/css/media.css?s692ch\");\\n@import url(\"/sites/default/files/color/pana-7b290167/colors.css?s692ch\");\\n</style>\\n\\n    \\n<!--[if lte IE 8]>\\n<script src=\"/core/assets/vendor/html5shiv/html5shiv.min.js?v=3.7.3\"></script>\\n<![endif]-->\\n\\n\\t\\n\\t<meta property=\"fb:pages\" content=\"211192305607973\" />\\n  </head>\\n    \\t\\n\\t<body class=\"page-node-217 path-frontpage page-node-type-page page-ump single-page\" data-spy=\"scroll\" data-target=\".single-page-menu\" data-offset=\"70\" >\\n\\t<div id=\"home\"></div>\\n\\t\\t<a href=\"#main-content\" class=\"visually-hidden focusable\">\\n\\t  Skip to main content\\n\\t</a>\\n    \\n      <div class=\"dialog-off-canvas-main-canvas\" data-off-canvas-main-canvas>\\n    <div id=\"wrapper\" class=\"wrapper wide-layout header-transparent\">\\n<div class=\"layout-wrap sticky-header\">\\n\\t<!-- Header Start x -->\\n    <div id=\"menuslider\" style=\"display: none;\"> </div>\\n<div id=\"topbar\">\\n    <div class=\"topbar-inner\">\\n        <div id=\"tb-left\">\\n            UMPSA - Official\\n        </div>\\n        <div id=\"tb-center\">\\n            <a href=\"http://yayasan.umpsa.edu.my\" target=\"_blank\">Giving to UMPSA</a>\\n        </div>\\n        <div id=\"tb-right\">\\n                    </div>\\n    </div>\\n</div>\\n\\n<header class=\"header\">\\n    <div class=\"header-content\">\\n        <div class=\"navbar navbar-expand-md navbar-dark nav-default\">\\n            <div class=\"container\">\\n                                    <div class=\"navbar-brand header-brand\">\\n                          <div class=\"region region-branding\">\\n    \\n<div id=\"block-pana-branding\" class=\"site-branding block block-system block-system-branding-block\" >\\n<div class=\"container-wrap clearfix\">\\n  \\n    \\n        <div class=\"brand logo\">\\n      <a href=\"/en\" title=\"Home\" rel=\"home\" class=\"site-branding-logo\">\\n        <img src=\"/img/logo-umpsa.png\" alt=\"Home\" />\\n      </a>\\n    </div>\\n    </div>\\n</div>\\n  </div>\\n\\n                    </div>\\n                \\n                                    <div id=\"main-menu\" class=\"primary-navbar collapse navbar-collapse text-md-right\">\\n                                                      <div class=\"region region-primary-menu\">\\n    <nav aria-labelledby=\"block-pana-main-menu\" id=\"block-pana-main-menu\" class=\"norm-width block-title-1 block-title-left block block-system\"  >\\n<div class=\"container-wrap clearfix menu-wrap\">\\n            \\n\\t  \\n\\n        \\n              <ul class=\"nav menu menu-parent\">\\n                    <li class=\"menu-item\">\\n        <a href=\"/en\" data-drupal-link-system-path=\"&lt;front&gt;\" class=\"is-active\">Home</a>\\n              </li>\\n                <li class=\"menu-item menu-item--expanded\">\\n        <a href=\"/en/about\" data-drupal-link-system-path=\"node/209\">About</a>\\n                                <ul class=\"menu\">\\n                    <li class=\"menu-item\">\\n        <a href=\"/en/vice-chancellors-note\" data-drupal-link-system-path=\"node/245\">Vice Chancellor&#039;s Note</a>\\n              </li>\\n                <li class=\"menu-item\">\\n        <a href=\"/en/about\" data-drupal-link-system-path=\"node/209\">About UMP</a>\\n              </li>\\n                <li class=\"menu-item menu-item--expanded\">\\n        <a href=\"\" data-drupal-link-system-path=\"&lt;front&gt;\" class=\"is-active\">Corporate Information</a>\\n                                <ul class=\"menu\">\\n                    <li class=\"menu-item\">\\n        <a href=\"/en/about/corporate-information\" data-drupal-link-system-path=\"node/258\">General Info</a>\\n              </li>\\n                <li class=\"menu-item\">\\n        <a href=\"/en/clients-charter\" data-drupal-link-system-path=\"node/260\">Client&#039;s Charter</a>\\n              </li>\\n                <li class=\"menu-item\">\\n        <a href=\"/en/chancellor\" data-drupal-link-system-path=\"node/367\">Chancellor</a>\\n              </li>\\n                <li class=\"menu-item\">\\n        <a href=\"/en/pro-chancellor\" data-drupal-link-system-path=\"node/368\">Pro-Chancellor</a>\\n              </li>\\n                <li class=\"menu-item\">\\n        <a href=\"/en/board-directors\" data-drupal-link-system-path=\"node/278\">Board of Directors</a>\\n              </li>\\n                <li class=\"menu-item\">\\n        <a href=\"/en/senate\" data-drupal-link-system-path=\"node/304\">Senate</a>\\n              </li>\\n                <li class=\"menu-item\">\\n        <a href=\"/en/top-management\" data-drupal-link-system-path=\"node/277\">Top Management</a>\\n              </li>\\n                <li class=\"menu-item\">\\n        <a href=\"/en/deans-directors\" data-drupal-link-system-path=\"node/298\">Deans &amp; Directors</a>\\n              </li>\\n        </ul>\\n  \\n              </li>\\n                <li class=\"menu-item\">\\n        <a href=\"/en/corporate-identity\" data-drupal-link-system-path=\"node/455\">Corporate Identity</a>\\n              </li>\\n                <li class=\"menu-item menu-item--expanded\">\\n        <a href=\"/en/publications\" data-drupal-link-system-path=\"node/474\">Publications</a>\\n                                <ul class=\"menu\">\\n                    <li class=\"menu-item\">\\n        <a href=\"/en/publications/annual-report\" data-drupal-link-system-path=\"node/430\">Annual Report</a>\\n              </li>\\n                <li class=\"menu-item\">\\n        <a href=\"/en/convocation\" data-drupal-link-system-path=\"node/643\">Convocation</a>\\n              </li>\\n                <li class=\"menu-item\">\\n        <a href=\"/en/publications/create\" data-drupal-link-system-path=\"node/476\">Create</a>\\n              </li>\\n                <li class=\"menu-item\">\\n        <a href=\"/en/publications/pekan-review\" data-drupal-link-system-path=\"node/475\">Pekan Review</a>\\n              </li>\\n        </ul>\\n  \\n              </li>\\n                <li class=\"menu-item\">\\n        <a href=\"/en/faculties-departments\" data-drupal-link-system-path=\"node/369\">Faculties/Departments</a>\\n              </li>\\n        </ul>\\n  \\n              </li>\\n                <li class=\"menu-item\">\\n        <a href=\"http://admission.umpsa.edu.my\">ADMISSION</a>\\n              </li>\\n                <li class=\"menu-item menu-item--expanded\">\\n        <a href=\"/en/academic\" data-drupal-link-system-path=\"node/246\">Academic</a>\\n                                <ul class=\"menu\">\\n                    <li class=\"menu-item\">\\n        <a href=\"/en/academic-calendar\" data-drupal-link-system-path=\"node/422\">Academic Calendar</a>\\n              </li>\\n                <li class=\"menu-item\">\\n        <a href=\"/en/faculties-departments\" data-drupal-link-system-path=\"node/369\">College &amp; Faculty</a>\\n              </li>\\n                <li class=\"menu-item\">\\n        <a href=\"/en/faculties-departments#academic-centre\" data-drupal-link-system-path=\"node/369\">Academic Centre</a>\\n              </li>\\n        </ul>\\n  \\n              </li>\\n                <li class=\"menu-item menu-item--expanded\">\\n        <a href=\"/en/research\" data-drupal-link-system-path=\"node/247\">Research</a>\\n                                <ul class=\"menu\">\\n                    <li class=\"menu-item\">\\n        <a href=\"/en/faculties-departments#coe\" data-drupal-link-system-path=\"node/369\">Centre of Excellence</a>\\n              </li>\\n                <li class=\"menu-item\">\\n        <a href=\"https://news.umpsa.edu.my/research\">Awards &amp; Achievements</a>\\n              </li>\\n                <li class=\"menu-item\">\\n        <a href=\"https://research.umpsa.edu.my/index.php/research\">Grant and Funding</a>\\n              </li>\\n                <li class=\"menu-item\">\\n        <a href=\"https://research.umpsa.edu.my/index.php/en/policies\">Policy</a>\\n              </li>\\n        </ul>\\n  \\n              </li>\\n                <li class=\"menu-item menu-item--expanded\">\\n        <a href=\"/en/student-life\" data-drupal-link-system-path=\"node/248\">Student Life</a>\\n                                <ul class=\"menu\">\\n                    <li class=\"menu-item\">\\n        <a href=\"https://campuspantry.umpsa.edu.my/\">Campus Pantry</a>\\n              </li>\\n                <li class=\"menu-item\">\\n        <a href=\"/en/student-disability\" data-drupal-link-system-path=\"node/588\">Student With Disability</a>\\n              </li>\\n        </ul>\\n  \\n              </li>\\n                <li class=\"menu-item\">\\n        <a href=\"/en/international\" data-drupal-link-system-path=\"node/354\">International</a>\\n              </li>\\n        </ul>\\n  \\n\\n\\n  </div>\\n</nav>\\n\\n  </div>\\n\\n                        \\n                                            </div>\\n                \\n                \\n                \\n                <button class=\"navbar-toggler nav-button nav-button2\" type=\"button\" data-toggle=\"collapse\" data-target=\"#main-menu\" aria-controls=\"main-menu\" aria-expanded=\"false\" aria-label=\"Toggle navigation\">\\n                    <i class=\"fas fa-bars\"></i>\\n                </button>\\n            </div>\\n        </div>\\n    </div>\\n</header>\\n<!-- Header End -->\\n\\n\\t\\t<!-- Slider -->\\n\\t<section id=\"slider\" class=\"clearfix\">\\n\\t\\t<div id=\"slider-wrap\">\\n\\t\\t\\t<div class=\"container-fluid\">\\n\\t\\t\\t\\t<div class=\"row\">\\n\\t\\t\\t\\t  <div class=\"region region-slider\">\\n    \\n<div id=\"umpslidervideo\" class=\"fullwidth block-title-1 block-title-left block slide-block block-block-content block-block-content74b94124-2fc9-49c7-bbfe-5c3fdf1e07f9\" >\\n<div class=\"container-wrap clearfix\">\\n\\n\\n  \\n\\t<div class=\"hero slide-carousel owl-carousel\" data-nav=\"true\" data-items=\"1\" data-dots=\"false\" data-autoplay=\"true\" data-autoplayspeed=\"1500\" data-autoplaytimeout=\"28000\" data-loop=\"true\">\\n\\t\\t          <div><div  data-history-node-id=\"713\" role=\"article\" about=\"/en/slide/ump-umpsa\" >\\n  \\n  \\n\\t<div class=\"slide-image\"><img src=\"/sites/default/files/slider/ump-umpsa.jpg\" alt=\"ump-umpsa\"/></div>\\n\\t\\t<div class=\"slide-content-wrap\">\\n\\t\\t<div class=\"container slide-wrap\">\\n\\t\\t<div class=\"slide-content \">\\n\\t\\t<div class=\"slide-content-main  \">\\n\\t\\t\\t\\t\\t\\t\\t\\t\\n\\t\\t\\t\\t\\t\\t</div>\\n\\t\\t</div>\\n\\t\\t</div>\\n\\t</div>\\n\\t</div></div>\\n          <div><div  data-history-node-id=\"757\" role=\"article\" about=\"/en/node/757\" >\\n  \\n  \\n\\t<div class=\"slide-image\"><img src=\"/sites/default/files/slider/ebanner-SEMBAH-TAHNIAH-PRO-CANSELOR.jpg\" alt=\"Sembah Tahniah Pemasyuran\"/></div>\\n\\t\\t<div class=\"slide-content-wrap\">\\n\\t\\t<div class=\"container slide-wrap\">\\n\\t\\t<div class=\"slide-content \">\\n\\t\\t<div class=\"slide-content-main  \">\\n\\t\\t\\t\\t\\t\\t\\t\\t\\n\\t\\t\\t\\t\\t\\t</div>\\n\\t\\t</div>\\n\\t\\t</div>\\n\\t</div>\\n\\t</div></div>\\n          <div><div  data-history-node-id=\"750\" role=\"article\" about=\"/en/slide/pemasyhuran-pro-canselor-umpsa\" >\\n  \\n  \\n\\t<div class=\"slide-image\"><img src=\"/sites/default/files/slider/pro-canselor-umpsa.jpg\" alt=\"Pemasyhuran Pro-Canselor UMPSA\"/></div>\\n\\t\\t<div class=\"slide-content-wrap\">\\n\\t\\t<div class=\"container slide-wrap\">\\n\\t\\t<div class=\"slide-content text-light\">\\n\\t\\t<div class=\"slide-content-main float-center text-center\">\\n\\t\\t\\t\\t\\t\\t\\t\\t\\n\\t\\t\\t\\t<div class=\"slide-content-body\" data-animation-in=\"slideInRight\" data-animation-out=\"animate-out fadeOut\">\\n\\t\\t\\t\\n            <div class=\"field field-body field-label-hidden field-item\"><h2 class=\"bannerTitle\">\\xa0</h2>\\n\\n<h2 class=\"bannerTitle\">\\xa0</h2>\\n\\n<p>\\xa0</p>\\n\\n<p>\\xa0</p>\\n\\n<p>\\xa0</p>\\n\\n<p>\\xa0</p>\\n\\n<p>\\xa0</p>\\n\\n<p>\\xa0</p>\\n\\n<p>\\xa0</p>\\n\\n<h3 class=\"bannerTitle\">KDYMM Pemangku Raja Pahang, Tengku Hassanal Ibrahim Alam Shah dimasyhurkan sebagai Pro-Canselor UMPSA</h3>\\n</div>\\n      \\n\\t\\t</div>\\n\\t\\t\\t\\t\\t\\t<div class=\"nav menu slide-button\" data-animation-in=\"bounceInUp\" data-animation-out=\"animate-out slideOutDown\">\\n\\t\\t<a class=\"slide-button-link button\" href=\"https://news.umpsa.edu.my/convocation/kdymm-pemangku-raja-pahang-tengku-hassanal-ibrahim-alam-shah-dimasyhurkan-sebagai-pro\">Read more</a>\\n\\t\\t</div>\\n\\t\\t\\t\\t</div>\\n\\t\\t</div>\\n\\t\\t</div>\\n\\t</div>\\n\\t</div></div>\\n          <div><div  data-history-node-id=\"763\" role=\"article\" about=\"/en/node/763\" >\\n  \\n  \\n\\t<div class=\"slide-image\"><img src=\"/sites/default/files/slider/ebanner-umpsa-%280%29.jpg\" alt=\"domain-migrate\"/></div>\\n\\t\\t<div class=\"slide-content-wrap\">\\n\\t\\t<div class=\"container slide-wrap\">\\n\\t\\t<div class=\"slide-content \">\\n\\t\\t<div class=\"slide-content-main  \">\\n\\t\\t\\t\\t\\t\\t\\t\\t\\n\\t\\t\\t\\t\\t\\t</div>\\n\\t\\t</div>\\n\\t\\t</div>\\n\\t</div>\\n\\t</div></div>\\n          <div><div  data-history-node-id=\"762\" role=\"article\" about=\"/en/slide/kajian-kepuasan-pelanggan-0\" >\\n  \\n  \\n\\t<div class=\"slide-image\"><img src=\"/sites/default/files/slider/ebaner-kajian-kepuasan-pelangan-301123%5B1%5D.jpg\" alt=\"kajian kepuasan pelanggan\"/></div>\\n\\t\\t<div class=\"slide-content-wrap\">\\n\\t\\t<div class=\"container slide-wrap\">\\n\\t\\t<div class=\"slide-content \">\\n\\t\\t<div class=\"slide-content-main  \">\\n\\t\\t\\t\\t\\t\\t\\t\\t\\n\\t\\t\\t\\t\\t\\t</div>\\n\\t\\t</div>\\n\\t\\t</div>\\n\\t</div>\\n\\t</div></div>\\n          <div><div  data-history-node-id=\"758\" role=\"article\" about=\"/en/slide/news-umpsa\" >\\n  \\n  \\n\\t<div class=\"slide-image\"><img src=\"/sites/default/files/slider/ebaner%20UMPSA-small2.jpg\" alt=\"news-umpsa\"/></div>\\n\\t\\t<div class=\"slide-content-wrap\">\\n\\t\\t<div class=\"container slide-wrap\">\\n\\t\\t<div class=\"slide-content text-dark\">\\n\\t\\t<div class=\"slide-content-main float-center text-center\">\\n\\t\\t\\t\\t\\t\\t\\t\\t\\n\\t\\t\\t\\t<div class=\"slide-content-body\" data-animation-in=\"slideInRight\" data-animation-out=\"animate-out fadeOut\">\\n\\t\\t\\t\\n            <div class=\"field field-body field-label-hidden field-item\"><p><a class=\"button btnlink-ecomm2\" href=\"https://news.umpsa.edu.my/\"><strong>https://news.umpsa.edu.my/</strong></a></p>\\n</div>\\n      \\n\\t\\t</div>\\n\\t\\t\\t\\t\\t\\t</div>\\n\\t\\t</div>\\n\\t\\t</div>\\n\\t</div>\\n\\t</div></div>\\n    \\n\\t</div>\\n </div>\\n</div>\\n  </div>\\n\\n\\t\\t\\t\\t</div>\\n\\t\\t\\t</div>\\n\\t\\t</div>\\n\\t</section>\\n\\t<!-- End Slider -->\\n\\t\\n\\t\\n\\n\\t\\t<!-- Start content top -->\\n\\t<section id=\"content-wide-top\" class=\"content-wide\">\\n\\t\\t  <div class=\"region region-content-wide-top\">\\n    \\n<div id=\"block-rankingump\" class=\"norm-width block-title-1 block-title-center block block-block-content block-block-content0b0c2bee-493d-4cf1-8140-71199873be7e\" style=\"background-image: url(&#039;themes/pana/assets/images/bg/bg2.jpg&#039;);background-position: center center;background-repeat: no-repeat;\">\\n<div class=\"container-wrap clearfix\">\\n  \\n    \\n        <div class=\"block-content\">\\n            <div class=\"field field-body field-label-hidden field-item\"><div class=\"text-center\"><img src=\"/img/ranking-umpsa-2023.png\" /><br />\\n<a class=\"button btnlink-border\" href=\"/ranking\">Ranking Information</a></div>\\n</div>\\n      </div>\\n  </div>\\n</div>\\n<div class=\"cta-style2\">\\n<div id=\"block-umphelpdesken\" class=\"pad20 norm-width block-title-1 block-title-left block action-block block-block-content block-block-content4e5263e3-e1ef-4b5f-8da0-1f388bbd899e\" style=\"background-image: url(&#039;themes/pana/assets/images/bg/bg-yellow.jpg&#039;);background-position: center center;background-repeat: no-repeat;background-size: cover;\">\\n<div class=\"container-wrap clearfix\">\\n  \\n  \\n  \\n  \\n\\t<div class=\"cta-wrap action-block-2 row\">\\n\\t\\t<div class=\"col-sm-9 cta-text\">\\n            <div class=\"field field-body field-label-hidden field-item\"><h3>Your feedback is important to us.</h3>\\n\\n<p>We\\'re here to help and answer any question you might have. We look forward to hearing from you.</p></div>\\n      </div>\\n\\t\\t\\t\\t<div class=\"nav menu col-sm-3 text-middle cta-link\"><a href=\"https://ump.spab.gov.my/\" class=\"button\">UMPSA Helpdesk</a></div>\\n\\t\\t\\t</div>\\n\\n \\n  </div>\\n</div>\\n</div>\\n<div class=\"cta-style2\">\\n<div id=\"block-admissionresultdiploma\" class=\"pad20 norm-width text-light block-title-1 block-title-left block action-block block-block-content block-block-content153cba95-2611-401f-be8d-79981a7b506e\" style=\"background-image: url(&#039;/sites/default/files/2019-07/cta-bg1.jpg&#039;);background-position: center center;background-repeat: no-repeat;background-size: cover;\">\\n<div class=\"container-wrap clearfix\">\\n  \\n  \\n  \\n  \\n\\t<div class=\"cta-wrap action-block-2 row\">\\n\\t\\t<div class=\"col-sm-9 cta-text\">\\n            <div class=\"field field-body field-label-hidden field-item\"><h4>Admission Result for Undergraduate Programmes</h4></div>\\n      </div>\\n\\t\\t\\t\\t<div class=\"nav menu col-sm-3 text-middle cta-link\"><a href=\"https://admission.umpsa.edu.my/semakan\" class=\"button\">Check it out</a></div>\\n\\t\\t\\t</div>\\n\\n \\n  </div>\\n</div>\\n</div>\\n<div id=\"block-admission2\" class=\"norm-width block-title-1 block-title-left block block-block-content block-block-content886fc532-bed7-4cd3-bbf2-70d922a4cdf8\" >\\n<div class=\"container-wrap clearfix\">\\n  \\n    \\n        <div class=\"block-content\">\\n            <div class=\"field field-body field-label-hidden field-item\"><div class=\"row\">\\n<div align=\"justify\" class=\"column2 admission-left\">\\n<div class=\"text-center\">\\xa0\\n<h2 style=\"color: #ffffff;\">Admission</h2>\\n\\xa0\\n\\n<form action=\"https://admission.umpsa.edu.my/search\" method=\"post\" name=\"findcourse\" id=\"findcourse\"><input name=\"searchword\" placeholder=\"Find a programme\" size=\"20\" type=\"text\" /><br />\\n<input class=\"button-submit-2 button js-form-submit form-submit\" type=\"submit\" value=\"Search\" />\\xa0</form>\\n</div>\\n\\xa0\\n\\n<div class=\"text-center\">\\n<p>Our programmes prepare students to be successful in their chosen disciplines by providing professional training and the opportunity to use classroom learning to solve real-world problems.</p>\\n</div>\\n\\n<div class=\"mt-4 fact-wrapper\">\\n<div class=\"row\">\\n<div class=\"col-md-4 col-6 fact\">\\n<h2 class=\"count-number counter\" data-from=\"5000\" data-speed=\"2500\" data-to=\"17231\"><!-- fact-1 --></h2>\\n\\n<h5 class=\"fact-title\">Students</h5>\\n</div>\\n<!-- fact-1 -->\\n\\n<div class=\"col-md-4 col-6 fact\">\\n<h2 class=\"count-number counter\" data-from=\"15000\" data-speed=\"2500\" data-to=\"43238\"><!-- fact-2 --></h2>\\n\\n<h5 class=\"fact-title\">Graduates</h5>\\n</div>\\n<!-- fact-2 -->\\n\\n<div class=\"col-md-4 col-6 fact\">\\n<h2 class=\"count-number\">98.67%</h2>\\n\\n<h5 class=\"fact-title\">Employability</h5>\\n</div>\\n<!-- fact-3 --></div>\\n</div>\\n\\n<div class=\"text-center\"><font size=\"1.0em\"><i>*PPA,IPS DAN UMPA, December\\xa02023</i></font></div>\\n</div>\\n\\n<div align=\"justify\" class=\"column1 admission-right\">\\n<div class=\"row\">\\n<div align=\"justify\" class=\"column\">\\n<div class=\"imgheader\"><a href=\"http://admission.umpsa.edu.my/undergraduate\" target=\"_blank\"><img src=\"/sites/default/files/2023-12/a-undergraduate-122023_0.jpg\" /> </a>\\n\\n<div class=\"text-light top-left\">\\n<h4><a href=\"http://admission.umpsa.edu.my/undergraduate\" target=\"_blank\">Undergraduate</a></h4>\\n</div>\\n<a href=\"http://admission.umpsa.edu.my/undergraduate\" target=\"_blank\"> </a>\\n\\n<div class=\"text-light bottom-left\"><a href=\"http://admission.umpsa.edu.my/undergraduate\" target=\"_blank\">Diploma and Degree</a></div>\\n</div>\\n</div>\\n\\n<div align=\"justify\" class=\"column\">\\n<div class=\"imgheader\"><a href=\"https://ips.umpsa.edu.my/index.php/en/admission-ips\" target=\"_blank\"><img src=\"/sites/default/files/2023-12/a-postgraduate-122023.png\" /> </a>\\n\\n<div class=\"text-light top-left\">\\n<h4><a href=\"https://ips.umpsa.edu.my/index.php/en/admission-ips\" target=\"_blank\">Postgraduate</a></h4>\\n</div>\\n<a href=\"http://admission.umpsa.edu.my/postgraduate\" target=\"_blank\"> </a>\\n\\n<div class=\"text-light bottom-left\"><a href=\"https://ips.umpsa.edu.my/index.php/en/admission-ips\" target=\"_blank\">Master and PhD</a></div>\\n</div>\\n</div>\\n</div>\\n\\n<div class=\"row\">\\n<div align=\"justify\" class=\"column\">\\n<div class=\"imgheader\"><a href=\"https://umpadvanced.edu.my/\" target=\"_blank\"><img src=\"/sites/default/files/2023-12/a-lifelong-learning-122023_1.jpg\" /></a>\\n\\n<div class=\"text-light top-left\">\\n<h4><a href=\"https://umpadvanced.edu.my/\" target=\"_blank\">UMP Advanced</a></h4>\\n</div>\\n<a href=\"https://umpadvanced.edu.my/\" target=\"_blank\"> </a>\\n\\n<div class=\"text-light bottom-left\"><a href=\"https://umpadvanced.edu.my/\" target=\"_blank\">Professional &amp; Continuing Education</a></div>\\n</div>\\n</div>\\n\\n<div align=\"justify\" class=\"column\">\\n<div class=\"imgheader\"><a href=\"https://ilmu.umpadvanced.edu.my/ILMU/\" target=\"_blank\"><img src=\"/sites/default/files/2020-02/a-online-course-1.jpg\" /></a>\\n\\n<div class=\"text-light top-left\">\\n<h4><a href=\"https://ilmu.umpadvanced.edu.my/ILMU/\" target=\"_blank\">Online Courses</a></h4>\\n</div>\\n<a href=\"https://ilmu.umpadvanced.edu.my/\" target=\"_blank\"> </a>\\n\\n<div class=\"text-light bottom-left\"><a href=\"https://ilmu.umpadvanced.edu.my/ILMU/\" target=\"_blank\">E-Learning</a></div>\\n</div>\\n</div>\\n</div>\\n</div>\\n</div>\\n</div>\\n      </div>\\n  </div>\\n</div><div id=\"block-amanatnc\" class=\"pad20 norm-width block-title-1 block-title-left block feature-block block-block-content block-block-content2846e5a0-bb94-4ab5-83b8-81ab3f2ba897\" >\\n<div class=\"container-wrap feature-block-layout2 clearfix\">\\n  \\n  \\n    \\n <div class=\"row-wrap block-content\">\\n\\t<div class=\"row feature-block-wrap feature-block-image-right\">\\n\\t<div class=\"col-12 col-md-6 feat-block-content\">\\n\\t<div class=\"feat-content-wrap\">\\n\\t\\t<div class=\"feat-block-text\">\\n            <div class=\"field field-body field-label-hidden field-item\"><h4>Amanat Naib Canselor UMPSA\\xa02023</h4>\\n\\n<p style=\"font-size: 22px;\"><em>‘MELESTARIKAN KECEMERLANGAN’</em><br />\\nTEKNOLOGI UNTUK MASYARAKAT</p>\\n\\n<p><a class=\"button\" href=\"/download/Amanat Tahunan NC UMP 2023 (Edited 2023).pdf\" target=\"_blank\">Teks Ucapan</a>\\xa0<a class=\"button\" href=\"/download/SLIDE AMANAT NAIB CANSELOR 2023.pdf\" target=\"_blank\">Slaid</a></p>\\n</div>\\n      </div>\\t\\t\\t</div>\\n\\t</div>\\n\\t<div class=\"col-12 col-md-6 feat-block-image-wrap static-image\">\\n\\t\\t<div class=\"feat-block-image\">\\n\\n                <div class=\"field field-field-image field-label-hidden field-item\">  <img src=\"/sites/default/files/features/ump-amanat-nc-2023.jpg\" width=\"760\" height=\"428\" alt=\"ump-amanat-nc-202\" typeof=\"foaf:Image\" />\\n\\n</div>\\n        </div>\\n\\t\\t</div>\\n\\t</div>\\n\\n\\t\\n</div>\\n</div>\\n</div><div id=\"block-ump25\" class=\"pad20 norm-width block-title-1 block-title-left block feature-block block-block-content block-block-contentc523ff25-fa53-4ab3-88c2-fe1556f229da\" style=\"background-color: #eaeaea;\">\\n<div class=\"container-wrap feature-block-layout1 clearfix\">\\n  \\n  \\n    \\n <div class=\"row-wrap block-content\">\\n\\t<div class=\"row feature-block-wrap feature-block-image-left\">\\n\\t<div class=\"col-12 col-md-6 feat-block-image-wrap static-image\">\\n\\t\\t<div class=\"feat-block-image\">\\n\\n                <div class=\"field field-field-image field-label-hidden field-item\">  <img src=\"/sites/default/files/features/image-ump-25.png\" width=\"760\" height=\"428\" alt=\"image-ump-25\" typeof=\"foaf:Image\" />\\n\\n</div>\\n        </div>\\n\\t\\t</div>\\n\\t<div class=\"col-12 col-md-6 feat-block-content\">\\n\\t<div class=\"feat-content-wrap\">\\n\\t\\t<div class=\"feat-block-text\">\\n            <div class=\"field field-body field-label-hidden field-item\"><h4>Pelan Strategik Universiti Malaysia Pahang<br />\\nAl-Sultan Abdullah\\xa0<br />\\n2021-2025</h4>\\n\\n<p><a class=\"button\" href=\"/download/Buku Induk Pelan Strategik UMP 2021-2025.pdf\" target=\"_blank\">Download</a></p>\\n</div>\\n      </div>\\t\\t\\t</div>\\n\\t</div>\\n\\t</div>\\n\\n\\t\\n</div>\\n</div>\\n</div>\\n  </div>\\n\\n\\t</section>\\n\\t<!-- End content top -->\\n\\t\\n\\t\\t<!-- layout -->\\n\\t<section id=\"page-wrapper\" class=\"page-wrapper\">\\n\\t\\t<div class=\"container\">\\n\\t\\t\\t<div class=\"row content-layout\">\\n\\t\\t\\t  \\n\\t\\t\\t  \\t\\t\\t  <!--- Start content -->\\n\\t\\t\\t\\t<div class=\"col-md-8  main-content\">\\n\\t\\t\\t\\t\\t  <div class=\"region region-content\">\\n    \\n\\n<div class=\"views-element-container norm-width block-title-1 block-title-left block block-views block-views-blockfeed-ump-block-5\" id=\"block-views-block-feed-ump-block-5\" >\\n<div class=\"container-wrap clearfix\">\\n  \\n  \\t<div class=\"block-title-wrap clearfix\">\\n\\t<div class=\"block-title-content\">\\n\\t\\t<h2 class=\"block-title\">Highlights</h2>\\n\\t<h5 class=\"block-subtitle\">Learn how our transformative education and our expertise impacted society and transformed lives for the better.</h5>\\t\\t</div>\\n\\t</div>\\n    \\n        <div class=\"block-content\"><div><div class=\"js-view-dom-id-fa9fc1b351b866865a1f62702b2b9b2685a0ccb515a4b550712ebb44b9b259b2\">\\n  \\n    \\n\\n  \\n  \\n  \\n\\n  <div class=\"row grid-wrapper\">\\n        \\n            <div class=\"col-12 col-sm-12 col-md-6 col-lg-6 grid-item\"><div class=\"views-field views-field-nothing\"><span class=\"field-content\"><div class=\"umpnews\">\\n<a href=\\'https://news.umpsa.edu.my/general/umpsa-and-umw-collaboration-planted-2000-mangrove-trees-cherating\\' target=\\'_blank\\'>  <img src=\"https://news.umpsa.edu.my/sites/default/files/styles/newsthumb_400xany/public/articles/Kolaborasi%20UMPSA%20dan%20UMW%20tanam%202%2C000%20pokok%20Bakau%20di%20Cherating%20%281%29.jpg?itok=7xBXgFdp\" width=\"400\" height=\"250\" alt=\"UMPSA and UMW collaboration planted 2,000 Mangrove trees in Cherating\" typeof=\"Image\" /></a>\\n<div class=\"newstitle\"><a href=\"https://news.umpsa.edu.my/general/umpsa-and-umw-collaboration-planted-2000-mangrove-trees-cherating\" target=\"_blank\"><a href=\"https://news.umpsa.edu.my/general/umpsa-and-umw-collaboration-planted-2000-mangrove-trees-cherating\">UMPSA and UMW collaboration planted 2,000 Mangrove trees in Cherating</a></a></div>\\n</div></span></div></div>\\n            <div class=\"col-12 col-sm-12 col-md-6 col-lg-6 grid-item\"><div class=\"views-field views-field-nothing\"><span class=\"field-content\"><div class=\"umpnews\">\\n<a href=\\'https://news.umpsa.edu.my/academic/global-leadership-summit-programme-revealed-creativity-mrsm-students\\' target=\\'_blank\\'>  <img src=\"https://news.umpsa.edu.my/sites/default/files/styles/newsthumb_400xany/public/articles/MRSM_0.jpg?itok=BvZvFSV2\" width=\"400\" height=\"250\" alt=\"The Global Leadership Summit programme revealed the creativity of MRSM students\" typeof=\"Image\" /></a>\\n<div class=\"newstitle\"><a href=\"https://news.umpsa.edu.my/academic/global-leadership-summit-programme-revealed-creativity-mrsm-students\" target=\"_blank\"><a href=\"https://news.umpsa.edu.my/academic/global-leadership-summit-programme-revealed-creativity-mrsm-students\">The Global Leadership Summit programme revealed the creativity of MRSM students</a></a></div>\\n</div></span></div></div>\\n    \\n    </div>\\n\\n  \\n  \\n\\n  \\n  \\n\\n  \\n  \\n</div>\\n</div>\\n</div>\\n  </div>\\n</div>\\n<div id=\"block-pana-content--2\" class=\"block block-system block-system-main-block\" >\\n<div class=\"container-wrap clearfix\">\\n  \\n    \\n        <div class=\"block-content\">\\n<div data-history-node-id=\"217\" role=\"article\" about=\"/en/ump\" typeof=\"schema:WebPage\" class=\"node node--type-page node--view-mode-full\">\\n\\n  \\n      <span property=\"schema:name\" content=\"UMPSA Frontpage\" class=\"hidden\"></span>\\n\\n\\n  \\n    <div class=\"node-content\">\\n    \\n            <div property=\"schema:text\" class=\"field field-body field-label-hidden field-item\"><style type=\"text/css\">\\n<!--/*--><![CDATA[/* ><!--*/\\n#page-title {display: none;}\\n\\n/*--><!]]>*/\\n</style>\\n</div>\\n      \\n  </div>\\n  \\n</div>\\n</div>\\n  </div>\\n</div>\\n  </div>\\n\\n\\t\\t\\t\\t</div>\\n\\t\\t\\t  <!---End content -->\\n\\t\\t\\t  \\n\\t\\t\\t  \\t\\t\\t  <!--- Start Right SideBar -->\\n\\t\\t\\t\\t<div class=\"col-md-4  sidebar\">\\n\\t\\t\\t\\t\\t  <div class=\"region region-sidebar-second\">\\n    \\n<div id=\"block-logoumptv\" class=\"norm-width block-title-1 block-title-left block block-block-content block-block-contentc759f7b7-ffa3-46a5-93a4-6c2ba689b3d8\" >\\n<div class=\"container-wrap clearfix\">\\n  \\n    \\n        <div class=\"block-content\">\\n            <div class=\"field field-body field-label-hidden field-item\"><div class=\"text-center\"><a href=\"http://news.umpsa.edu.my/videos\" target=\"_blank\"><img class=\"img-umptv\" src=\"/img/logo-umpsa-tv.png\" /></a></div>\\n</div>\\n      </div>\\n  </div>\\n</div>\\n<div class=\"views-element-container norm-width block-title-1 block-title-left block block-views block-views-blockfeed-ump-block-9\" id=\"block-umptv\" >\\n<div class=\"container-wrap clearfix\">\\n  \\n    \\n        <div class=\"block-content\"><div><div class=\"js-view-dom-id-fe55c04640013d5c3f0df9a3f634442ce8382a793921329ad23ed8616e0061e7\">\\n  \\n    \\n\\n  \\n  \\n  \\n\\n      <div class=\"umptv-row views-row\">\\n    <div class=\"views-field views-field-nothing\"><span class=\"field-content\"><div>\\n<a href=\"https://news.umpsa.edu.my/lawatan-pengerusi-lpu-ke-umpsa-gambang-dan-ump-holdings\" target=\"_blank\">  <img src=\"https://news.umpsa.edu.my/sites/default/files/styles/newsthumb_400xany/public/video/Lawatan%20Pengerusi%20LPU%20ke%20UMPSA%20Gambang%20dan%20UMP%20Holdings.jpg?itok=315d1JeR\" width=\"400\" height=\"250\" alt=\"Lawatan Pengerusi LPU ke UMPSA Gambang dan UMP Holdings\" typeof=\"Image\" /></a><br>\\n<div class=\"newstitle2\"><a href=\"https://news.umpsa.edu.my/lawatan-pengerusi-lpu-ke-umpsa-gambang-dan-ump-holdings\" target=\"_blank\"><a href=\"https://news.umpsa.edu.my/lawatan-pengerusi-lpu-ke-umpsa-gambang-dan-ump-holdings\">Lawatan Pengerusi LPU ke UMPSA Gambang dan UMP Holdings</a></a></div>\\n</div>\\n<div class=\"vicon\"><a href=\"https://news.umpsa.edu.my/lawatan-pengerusi-lpu-ke-umpsa-gambang-dan-ump-holdings\" target=\"_blank\"><h2><i class=\"far fa-play-circle icon-umptv\"></i></h2></a></div> </span></div>\\n  </div>\\n\\n  \\n  \\n\\n  \\n  \\n\\n  \\n  \\n</div>\\n</div>\\n</div>\\n  </div>\\n</div>\\n  </div>\\n\\n\\t\\t\\t\\t</div>\\n\\t\\t\\t  <!---End Right SideBar -->\\n\\t\\t\\t  \\t\\t\\t</div>\\n\\t\\t</div>\\n\\t</section>\\n\\t<!-- End layout -->\\n\\t\\n\\t\\t<section id=\"page-wrapper\" class=\"page-wrapper\">\\n\\t\\t<div class=\"container\">\\n\\t\\t\\t<div class=\"content-layout\">\\n    <div class=\"row\">\\n      <div class=\"column\">\\n\\t\\t    <div class=\"region region-content-split-topl\">\\n    \\n<div class=\"views-element-container fullwidth framewidth block-title-1 block-title-center block block-views block-views-blockfeed-ump-block-10\" id=\"block-views-block-feed-ump-block-10\" >\\n<div class=\"container-wrap clearfix\">\\n  \\n  \\t<div class=\"block-title-wrap clearfix\">\\n\\t<div class=\"block-title-content\">\\n\\t\\t<h2 class=\"block-title\">Latest News</h2>\\n\\t\\t\\t</div>\\n\\t</div>\\n    \\n        <div class=\"block-content\"><div><div class=\"js-view-dom-id-13ae3e373e9c81745501627d94b2b01a81f1a86425f28704258ea329d05b16d4\">\\n  \\n    \\n\\n  \\n  \\n  \\n\\n      <div class=\"views-row\">\\n    <div class=\"views-field views-field-nothing\"><span class=\"field-content\"><div class=\"umpnews-panel\">\\n<div class=\"umpnews-panel-title\"><a href=\"https://news.umpsa.edu.my/general/umpsa-and-umw-collaboration-planted-2000-mangrove-trees-cherating\" target=\"_blank\">UMPSA and UMW collaboration planted 2,000 Mangrove trees in Cherating</a></div>\\n<span class=\"umpnews-panel-date\">Friday, 22 Dec 2023</span>\\n</div></span></div>\\n  </div>\\n    <div class=\"views-row\">\\n    <div class=\"views-field views-field-nothing\"><span class=\"field-content\"><div class=\"umpnews-panel\">\\n<div class=\"umpnews-panel-title\"><a href=\"https://news.umpsa.edu.my/academic/global-leadership-summit-programme-revealed-creativity-mrsm-students\" target=\"_blank\">The Global Leadership Summit programme revealed the creativity of MRSM students</a></div>\\n<span class=\"umpnews-panel-date\">Friday, 22 Dec 2023</span>\\n</div></span></div>\\n  </div>\\n    <div class=\"views-row\">\\n    <div class=\"views-field views-field-nothing\"><span class=\"field-content\"><div class=\"umpnews-panel\">\\n<div class=\"umpnews-panel-title\"><a href=\"https://news.umpsa.edu.my/community/umpsa-treats-people-dolokgede-village-bojonegoro-indonesia-through-umpsa-foundations\" target=\"_blank\">UMPSA treats the people of Dolokgede Village, Bojonegoro, Indonesia through the UMPSA Foundation\\'s ASEAN Exploration Adventure programme</a></div>\\n<span class=\"umpnews-panel-date\">Friday, 22 Dec 2023</span>\\n</div></span></div>\\n  </div>\\n    <div class=\"views-row\">\\n    <div class=\"views-field views-field-nothing\"><span class=\"field-content\"><div class=\"umpnews-panel\">\\n<div class=\"umpnews-panel-title\"><a href=\"https://news.umpsa.edu.my/industry/university-industry-collaboration-strengthens-3-hb-approach\" target=\"_blank\">University-Industry collaboration strengthens with \\'3 HB\\' approach</a></div>\\n<span class=\"umpnews-panel-date\">Friday, 22 Dec 2023</span>\\n</div></span></div>\\n  </div>\\n    <div class=\"views-row\">\\n    <div class=\"views-field views-field-nothing\"><span class=\"field-content\"><div class=\"umpnews-panel\">\\n<div class=\"umpnews-panel-title\"><a href=\"https://news.umpsa.edu.my/campus-life/chairman-university-board-directors-visited-umpsa-gambang-campus-and-its-subsidiary-ump\" target=\"_blank\">The Chairman of the University Board of Directors visited UMPSA Gambang Campus and its subsidiary, UMP Holdings</a></div>\\n<span class=\"umpnews-panel-date\">Friday, 22 Dec 2023</span>\\n</div></span></div>\\n  </div>\\n\\n  \\n  \\n\\n  \\n  \\n\\n      <footer>\\n      <div class=\"text-center\"><a href=\"http://news.umpsa.edu.my\" target=\"_blank\" class=\"button\">See more News</a></div>\\n    </footer>\\n  \\n  \\n</div>\\n</div>\\n</div>\\n  </div>\\n</div>\\n  </div>\\n\\n\\t\\t  </div>\\n\\t\\t  <div class=\"column\">\\n\\t\\t  \\t\\t      <div class=\"region region-content-split-topr\">\\n    \\n<div class=\"views-element-container fullwidth framewidth block-title-1 block-title-center block block-views block-views-blockfeed-ump-block-8\" id=\"block-views-block-feed-ump-block-8-3\" >\\n<div class=\"container-wrap clearfix\">\\n  \\n  \\t<div class=\"block-title-wrap clearfix\">\\n\\t<div class=\"block-title-content\">\\n\\t\\t<h2 class=\"block-title\">Upcoming Events</h2>\\n\\t\\t\\t</div>\\n\\t</div>\\n    \\n        <div class=\"block-content\"><div><div class=\"js-view-dom-id-3db48bc286d2908a07f34c65278dccdedff49434c4cea241699b99bd0082e702\">\\n  \\n    \\n\\n  \\n  \\n  \\n\\n  \\n  \\n  \\n\\n  \\n  \\n\\n  \\n  \\n</div>\\n</div>\\n</div>\\n  </div>\\n</div>\\n  </div>\\n\\n\\t\\t  \\t\\t  </div>\\n\\t\\t</div>\\n\\t\\t</div></div>\\n\\t</section>\\n\\t\\n\\t\\t<!-- Start content wide -->\\n\\t<section id=\"content-wide\" class=\"content-wide\">\\n\\t\\t  <div class=\"region region-content-wide\">\\n    <div id=\"block-umpgerman\" class=\"norm-width block-title-1 block-title-left block feature-block block-block-content block-block-content711d4f08-b8a2-41ab-b34d-c34c9f1e835d\" style=\"background-image: url(&#039;/themes/pana/assets/images/bg/bg-d1.jpg&#039;);background-position: center center;background-repeat: no-repeat;\">\\n<div class=\"container-wrap feature-block-layout1 clearfix\">\\n  \\n  \\n    \\n <div class=\"row-wrap block-content\">\\n\\t<div class=\"row feature-block-wrap feature-block-image-left\">\\n\\t<div class=\"col-12 col-md-6 feat-block-image-wrap static-image\">\\n\\t\\t<div class=\"feat-block-image\">\\n\\n                <div class=\"field field-field-image field-label-hidden field-item\">  <img src=\"/sites/default/files/features/karlsruhe-ump.jpg\" width=\"760\" height=\"560\" alt=\"karlsruhe-ump\" typeof=\"foaf:Image\" />\\n\\n</div>\\n        </div>\\n\\t\\t</div>\\n\\t<div class=\"col-12 col-md-6 feat-block-content\">\\n\\t<div class=\"feat-content-wrap\">\\n\\t\\t<div class=\"feat-block-text\">\\n            <div class=\"field field-body field-label-hidden field-item\"><h2>German Engineering @ UMPSA</h2>\\n\\n<h5>UMPSA partnership with Hochschule Karlsruhe (HKA) &amp; Hochschule Reutlingen (HsRT)</h5>\\n\\n<p>The dual-degree programmes between UMPSA and HKA are the bachelor’s degree in mechatronics engineering and automotive engineering. We also offered dual-degree master of automotive engineering. Graduates will be equipped with remarkable German engineering and technology for automotive and mechatronics applications.</p>\\n\\n<p>The dual-degree programme between UMPSA and HsRT is the bachelor’s degree in business engineering. Executives equipped with the technical skills and knowledge in business management were said to be the most sought after workers, especially in meeting demands and challenges expected in the Industrial Revolution.</p>\\n\\n<p>\\xa0</p></div>\\n      </div>\\t\\t\\t</div>\\n\\t</div>\\n\\t</div>\\n\\n\\t\\n</div>\\n</div>\\n</div>\\n<div class=\"views-element-container norm-width text-light parallax-bg block-title-1 block-title-left block block-views block-views-blockdiscovery-latest-discovery\" id=\"block-views-block-discovery-latest-discovery\" style=\"background-image: url(&#039;/themes/pana/assets/images/bg/bg-main.jpg&#039;);background-position: center center;background-repeat: repeat;\">\\n<div class=\"container-wrap clearfix\">\\n  \\n  \\t<div class=\"block-title-wrap clearfix\">\\n\\t<div class=\"block-title-content\">\\n\\t\\t<h2 class=\"block-title\">Discover UMPSA</h2>\\n\\t<h5 class=\"block-subtitle\">Why browse through the rest when you’ve already found the best at UMPSA</h5>\\t\\t</div>\\n\\t</div>\\n    \\n        <div class=\"block-content\"><div><div class=\"js-view-dom-id-19980d02a3f7443342d3b0b0ca23f84ef49a725c238474d7e363acb6f091de7d\">\\n  \\n    \\n\\n  \\n  \\n  \\n\\n  \\n<div  class=\"views-portfolio-discovery-latest-discovery portfolio-wrapper no-gutter-wrapper\">\\n  \\n    <div class=\"clearfix shuffle-filters-wrap\">\\n    <div class=\"shuffle-filters-container\">\\n            <ul class=\"shuffle-filters filter-options\">\\n\\t  <li class=\"shuffle-filters-all shuffle-filters-item active\" data-group=\"all\">All</li>\\n\\t  </ul>\\n      <ul class=\"shuffle-filters filter-options\"><li class=\"shuffle-filters-item\" data-group=\"field_article_category-54\">Beyond Us</li><li class=\"shuffle-filters-item\" data-group=\"field_article_category-51\">Culture</li><li class=\"shuffle-filters-item\" data-group=\"field_article_category-53\">Landmarks</li></ul>\\n    </div>\\n  </div>\\n  \\n    <div class=\"shuffle-container\">\\n          \\n      <div class=\"shuffle-item no-gutter col-sm-12 col-md-6 col-lg-3\" data-groups=\"[&quot;field_article_category-54&quot;]\">\\n                  <div class=\"shuffle-inner\">\\n          <div data-history-node-id=\"387\" role=\"article\" about=\"/en/discovery/adams-chair\">\\n  \\n  \\n\\n<div class=\"portfolio\">\\n\\t<div class=\"portfolio-item\">\\n\\t\\t<div class=\"portfolio-img\">\\n\\t\\t  <a href=\"/en/discovery/adams-chair\"><img src=\"/sites/default/files/styles/480x480/public/portfolio/FKM%20Reka%20Kerusi%20Buat%20Adam.jpg?itok=5-L_5wCX\" width=\"480\" height=\"480\" alt=\"FKM Reka Kerusi Buat Adam\" typeof=\"foaf:Image\" />\\n\\n</a>\\n\\n\\t\\t</div>\\n\\t\\t<div class=\"portfolio-overlay\">\\n\\t\\t\\t<div class=\"portfolio-label\">\\n\\t\\t\\t<h3 class=\"portfolio-title\"><a href=\"/en/discovery/adams-chair\"><span>Adam’s Chair</span>\\n</a></h3>\\n\\t\\t\\t<div class=\"portfolio-term\"></div>\\n\\t\\t\\t</div>\\n\\t\\t</div>\\n\\t</div>\\n</div>\\n\\n</div>\\n\\n\\n          </div>\\n              </div>\\n\\n          \\n      <div class=\"shuffle-item no-gutter col-sm-12 col-md-6 col-lg-3\" data-groups=\"[&quot;field_article_category-54&quot;]\">\\n                  <div class=\"shuffle-inner\">\\n          <div data-history-node-id=\"251\" role=\"article\" about=\"/en/discovery/kuala-pahang-house\">\\n  \\n  \\n\\n<div class=\"portfolio\">\\n\\t<div class=\"portfolio-item\">\\n\\t\\t<div class=\"portfolio-img\">\\n\\t\\t  <a href=\"/en/discovery/kuala-pahang-house\"><img src=\"/sites/default/files/styles/480x480/public/portfolio/kphouse.jpg?itok=e_TKvgs8\" width=\"480\" height=\"480\" alt=\"kphouse-ump\" typeof=\"foaf:Image\" />\\n\\n</a>\\n\\n\\t\\t</div>\\n\\t\\t<div class=\"portfolio-overlay\">\\n\\t\\t\\t<div class=\"portfolio-label\">\\n\\t\\t\\t<h3 class=\"portfolio-title\"><a href=\"/en/discovery/kuala-pahang-house\"><span>Kuala Pahang House</span>\\n</a></h3>\\n\\t\\t\\t<div class=\"portfolio-term\"></div>\\n\\t\\t\\t</div>\\n\\t\\t</div>\\n\\t</div>\\n</div>\\n\\n</div>\\n\\n\\n          </div>\\n              </div>\\n\\n          \\n      <div class=\"shuffle-item no-gutter col-sm-12 col-md-6 col-lg-3\" data-groups=\"[&quot;field_article_category-51&quot;]\">\\n                  <div class=\"shuffle-inner\">\\n          <div data-history-node-id=\"255\" role=\"article\" about=\"/en/discovery/international-night\">\\n  \\n  \\n\\n<div class=\"portfolio\">\\n\\t<div class=\"portfolio-item\">\\n\\t\\t<div class=\"portfolio-img\">\\n\\t\\t  <a href=\"/en/discovery/international-night\"><img src=\"/sites/default/files/styles/480x480/public/portfolio/culture-night.jpg?itok=i7_3NmNg\" width=\"480\" height=\"480\" alt=\"culture-night\" typeof=\"foaf:Image\" />\\n\\n</a>\\n\\n\\t\\t</div>\\n\\t\\t<div class=\"portfolio-overlay\">\\n\\t\\t\\t<div class=\"portfolio-label\">\\n\\t\\t\\t<h3 class=\"portfolio-title\"><a href=\"/en/discovery/international-night\"><span>International Night</span>\\n</a></h3>\\n\\t\\t\\t<div class=\"portfolio-term\"></div>\\n\\t\\t\\t</div>\\n\\t\\t</div>\\n\\t</div>\\n</div>\\n\\n</div>\\n\\n\\n          </div>\\n              </div>\\n\\n          \\n      <div class=\"shuffle-item no-gutter col-sm-12 col-md-6 col-lg-3\" data-groups=\"[&quot;field_article_category-53&quot;]\">\\n                  <div class=\"shuffle-inner\">\\n          <div data-history-node-id=\"256\" role=\"article\" about=\"/en/discovery/ump-gallery\">\\n  \\n  \\n\\n<div class=\"portfolio\">\\n\\t<div class=\"portfolio-item\">\\n\\t\\t<div class=\"portfolio-img\">\\n\\t\\t  <a href=\"/en/discovery/ump-gallery\"><img src=\"/sites/default/files/styles/480x480/public/portfolio/galeri.jpg?itok=4IfmwfQM\" width=\"480\" height=\"480\" alt=\"ump-gallery\" typeof=\"foaf:Image\" />\\n\\n</a>\\n\\n\\t\\t</div>\\n\\t\\t<div class=\"portfolio-overlay\">\\n\\t\\t\\t<div class=\"portfolio-label\">\\n\\t\\t\\t<h3 class=\"portfolio-title\"><a href=\"/en/discovery/ump-gallery\"><span>UMP Gallery</span>\\n</a></h3>\\n\\t\\t\\t<div class=\"portfolio-term\"></div>\\n\\t\\t\\t</div>\\n\\t\\t</div>\\n\\t</div>\\n</div>\\n\\n</div>\\n\\n\\n          </div>\\n              </div>\\n\\n      </div>\\n</div>\\n  \\n  \\n\\n  \\n  \\n\\n      <footer>\\n      <div class=\"text-center mt-4\"><a href=\"https://www.umpsa.edu.my/en/discovery\" class=\"button\">More to discover</a></div>\\n    </footer>\\n  \\n  \\n</div>\\n</div>\\n</div>\\n  </div>\\n</div>\\n  </div>\\n\\n\\t</section>\\n\\t<!-- End content wide -->\\n\\t\\n\\t                                                                                                                                                                                                                        <footer\\n                                                                                                                                                                                                                            id=\"footer\" class=\"footer light-footer\">\\n                                                                                                                                                                                                                            <!-- start Footer -->\\n                                                                                                                                                                                                                                                                                                                                                                                                                                                            <div class=\"footer-widget\">\\n                                                                                                                                                                                                                                    <div class=\"container\">\\n                                                                                                                                                                                                                                        <div class=\"row\">\\n                                                                                                                                                                                                                                                                                                                                                                                                                                                                                            <!-- Start Footer First Region -->\\n                                                                                                                                                                                                                                                                                                                                                                                                                                                                                                        <div class=\"col-md-4 footer-widget-section\">\\n                                                                                                                                                                                                                                                                                                                                                                                                                                                                                                                  <div class=\"region region-footer-first\">\\n    \\n<div id=\"block-footer-about\" class=\"norm-width block-title-1 block-title-left block block-block-content block-block-contente120cb21-5f2d-40a8-92f8-5eaf4c23584f\" >\\n<div class=\"container-wrap clearfix\">\\n  \\n    \\n        <div class=\"block-content\">\\n            <div class=\"field field-body field-label-hidden field-item\"><div class=\"contact-ump text-center\"><img src=\"/img/logo-umpsa.png\" width=\"150px\" /><br />\\n\\xa0\\n<div class=\"text-center\">\\n<h4>UMPSA Pekan</h4>\\n(Main Campus)<br />\\nUniversiti Malaysia Pahang<br />\\nAl-Sultan Abdullah<br />\\n26600 Pekan<br />\\nPahang, Malaysia<br />\\n<br />\\nTel: +609 431 5000<br />\\nFax: +609 431 5555<br />\\nE-mail: pro@umpsa.edu.my<br />\\n\\xa0\\n<h4>UMPSA Gambang</h4>\\nUniversiti Malaysia Pahang<br />\\nAl-Sultan Abdullah<br />\\nLebuh Persiaran Tun Khalil Yaakob<br />\\n26300, Kuantan<br />\\nPahang, Malaysia</div>\\n<br />\\n<!--<br>\\n<a href=\"http://news.ump.edu.my\" target=\"_blank\" class=\"icobtn\"><i class=\"icon ion-ios-paper\"\"></i></a>\\n<a href=\"http://events.ump.edu.my/calendar\" target=\"_blank\" class=\"icobtn\"><i class=\"icon ion-android-calendar\"\"></i></a>\\n<a href=\"https://www.waze.com/ul?ll=3.54370180%2C103.42890600&navigate=yes\" target=\"_blank\" class=\"icobtn\"><i class=\"fab fa-waze osem\"\"></i></a>\\n<a href=\"https://goo.gl/maps/zAfKg2BdrCpLRpWA8\" target=\"_blank\" class=\"icobtn\"><i class=\"fas fa-map-marked-alt osem\"\"></i></a>\\n--><br />\\n\\xa0\\n<div class=\"text-center\"><a href=\"http://www.mohe.gov.my/\" target=\"_blank\"><img src=\"/img/logo-kpt.png\" width=\"100\" /></a><br />\\n<a href=\"https://www.malaysia.gov.my/\" target=\"_blank\"><img src=\"/sites/default/files/2019-12/mygovernment.jpg\" width=\"242\" /> </a></div>\\n<a href=\"https://www.malaysia.gov.my/\" target=\"_blank\"> </a> <a href=\"https://www.malaysia.gov.my/\" target=\"_blank\"> </a><br />\\n<a href=\"http://bem.org.my/\" target=\"_blank\"><img src=\"/img/bem.png\" width=\"80\" /> </a></div>\\n</div>\\n      </div>\\n  </div>\\n</div>\\n  </div>\\n\\n                                                                                                                                                                                                                                                    </div>\\n                                                                                                                                                                                                                                                    <!-- End Footer First Region -->\\n                                                                                                                                                                                                                                                \\n                                                                                                                                                                                                                                                                                                                                                                                                                                                                                                    <!-- Start Footer Second Region -->\\n                                                                                                                                                                                                                                                                                                                                                                                                                                                                                                                <div class=\"col-md-4 footer-widget-section\">\\n                                                                                                                                                                                                                                                                                                                                                                                                                                                                                                                          <div class=\"region region-footer-second\">\\n    \\n<div class=\"cta-style1\">\\n<div id=\"block-cta-2\" class=\"fullwidth framewidth text-light block-title-1 block-title-center block action-block block-block-content block-block-content0501b135-3732-406b-997a-10542d01d0cc\" style=\"background-image: url(&#039;/themes/pana/assets/images/bg/bg-utar-view.jpg&#039;);background-position: center center;background-repeat: no-repeat;background-size: cover;\">\\n<div class=\"container-wrap clearfix\">\\n  \\n  \\n  \\n  \\n\\t<div class=\"cta-wrap action-block-1 text-center\">\\n\\t  \\t\\t<div class=\"cta-text margin-bottom-20\">\\n            <div class=\"field field-body field-label-hidden field-item\"><h3>Our Location</h3>\\n\\n<p>Please use Waze or Google Map app by clicking the icon below.</p>\\n\\n<div class=\"row\">\\n<div class=\"column-map\"><a href=\"https://www.waze.com/ul?ll=3.54370180%2C103.42890600&amp;navigate=yes\" target=\"_blank\"><img src=\"/themes/pana/assets/images/waze-128.png\" width=\"48\" /></a>\\xa0\\xa0\\xa0<a href=\"https://goo.gl/maps/zAfKg2BdrCpLRpWA8\" target=\"_blank\"><img src=\"/themes/pana/assets/images/gmap-128.png\" width=\"48\" /></a><br />\\nPekan</div>\\n\\n<div class=\"column-map\"><a href=\"https://www.waze.com/ul?ll=3.71849250%2C103.12076400&amp;navigate=yes\" target=\"_blank\"><img src=\"/themes/pana/assets/images/waze-128.png\" width=\"48\" /></a>\\xa0\\xa0\\xa0<a href=\"https://goo.gl/maps/bVjQERgrszKd17uL6\" target=\"_blank\"><img src=\"/themes/pana/assets/images/gmap-128.png\" width=\"48\" /></a><br />\\nGambang</div>\\n</div>\\n\\n<p><a class=\"button button-default\" href=\"/campus-map\">Campus Map</a></p>\\n\\n<p>\\xa0</p>\\n\\n<p>\\xa0</p>\\n\\n<p>\\xa0</p>\\n\\n<p>\\xa0</p>\\n\\n<p>\\xa0</p>\\n\\n<p>\\xa0</p>\\n\\n<h3><a href=\"https://ump.spab.gov.my/\" target=\"_blank\">Feedback</a></h3>\\n\\n<p>Let your voice be heard.</p>\\n</div>\\n      </div>\\n\\t\\t\\t\\t<div class=\"nav menu cta-link\"><a href=\"https://ump.spab.gov.my\" class=\"button\">UMPSA Helpdesk</a></div>\\n\\t\\t\\t</div>\\n\\n \\n  </div>\\n</div>\\n</div>\\n  </div>\\n\\n                                                                                                                                                                                                                                                        </div>\\n                                                                                                                                                                                                                                                        <!-- End Footer Second Region -->\\n                                                                                                                                                                                                                                                    \\n                                                                                                                                                                                                                                                                                                                                                                                                                                                                                                            <!-- Start Footer Third Region -->\\n                                                                                                                                                                                                                                                                                                                                                                                                                                                                                                                        <div class=\"col-md-4 footer-widget-section\">\\n                                                                                                                                                                                                                                                                                                                                                                                                                                                                                                                                  <div class=\"region region-footer-third\">\\n    \\n<div id=\"block-footersupporten\" class=\"norm-width block-title-1 block-title-left block block-block-content block-block-content39c040d7-9ad5-4811-addc-e915510ba115\" >\\n<div class=\"container-wrap clearfix\">\\n  \\n    \\n        <div class=\"block-content\">\\n            <div class=\"field field-body field-label-hidden field-item\"><div class=\"text-center\"><a class=\"button btnlink-three\" href=\"/sites/default/files/2023-08/hebahan-pencarian-protege-2-aug-2023.pdf\" target=\"_blank\">Protege UMPSA</a>\\xa0<br />\\n<a class=\"button btnlink-three\" href=\"https://directory.ump.edu.my/\" target=\"_blank\">UMPSA\\xa0Directory</a><br />\\n<a class=\"button btnlink-three\" href=\"http://expert.ump.edu.my\" target=\"_blank\">Expert Directory</a><br />\\n<a class=\"button btnlink-three\" href=\"https://community.ump.edu.my/ecommstaff/Graduate/search_graduate.jsp\" target=\"_blank\">Graduate Search</a><br />\\n<a class=\"button btnlink-three\" href=\"https://aqua.ump.edu.my/aqua/cms/stdMgmt/index.jsp\" target=\"_blank\">Student Profile System</a><br />\\n<a class=\"button btnlink-three\" href=\"/faculties-departments\">Faculties/Departments</a><br />\\n<a class=\"button btnlink-three\" href=\"https://apps.ump.edu.my/ercmt/cms/ercmt/index.jsp\" target=\"_blank\">Career@UMPSA</a><br />\\n<a class=\"button btnlink-three\" href=\"https://apps.ump.edu.my/vendor/vendor/\" target=\"_blank\">Vendor@UMPSA</a><br />\\n<a class=\"button btnlink-three\" href=\"https://brand.umpsa.edu.my\" target=\"_blank\">UMPSA Brand</a></div>\\n</div>\\n      </div>\\n  </div>\\n</div>\\n  </div>\\n\\n                                                                                                                                                                                                                                                            </div>\\n                                                                                                                                                                                                                                                            <!-- End Footer Third Region -->\\n                                                                                                                                                                                                                                                        \\n                                                                                                                                                                                                                                                                                                                                                                                                                                                                                                                </div>\\n                                                                                                                                                                                                                                                    </div>\\n                                                                                                                                                                                                                                                </div>\\n                                                                                                                                                                                                                                            \\n                                                                                                                                                                                                                                            <!--End Footer -->\\n\\n                                                                                                                                                                                                                                                                                                                                                                                                                                                                                            <!-- Copyright -->\\n                                                                                                                                                                                                                                                <div class=\"footer-bottom\">\\n                                                                                                                                                                                                                                                    <div class=\"container\">\\n                                                                                                                                                                                                                                                        <div class=\"row\">\\n                                                                                                                                                                                                                                                            <div class=\"col-12\">\\n                                                                                                                                                                                                                                                                <div class=\"copyright text-center\">\\n                                                                                                                                                                                                                                                                                                                                                                                                                                                                                                                                              <div class=\"region region-footerbar\">\\n    <nav aria-labelledby=\"block-footer\" id=\"block-footer\" class=\"norm-width block-title-1 block-title-center block block-system\"  >\\n<div class=\"container-wrap clearfix menu-wrap\">\\n            \\n\\t  \\n\\n        \\n              <ul class=\"nav menu menu-parent\">\\n                    <li class=\"menu-item\">\\n        <a href=\"/en/legal-statement\" data-drupal-link-system-path=\"node/249\">Legal Statement</a>\\n              </li>\\n                <li class=\"menu-item\">\\n        <a href=\"/en/sitemap\" data-drupal-link-system-path=\"sitemap\">Sitemap</a>\\n              </li>\\n                <li class=\"menu-item\">\\n        <a href=\"https://brand.ump.edu.my\">UMPSA Brand</a>\\n              </li>\\n        </ul>\\n  \\n\\n\\n  </div>\\n</nav>\\n\\n  </div>\\n\\n                                                                                                                                                                                                                                                                                                                                                                                                                                                                                                                                        <p>Please use latest browser for the best view.<br>Copyright ©\\n                                                                                                                                                                                                                                                                            2023\\n                                                                                                                                                                                                                                                                            Official Portal - UMPSA Universiti Malaysia Pahang Al-Sultan Abdullah (Malaysia University) - Public University in Pahang· All rights reserved.\\n                                                                                                                                                                                                                                                                        </p>\\n                                                                                                                                                                                                                                                                    </div>\\n                                                                                                                                                                                                                                                                </div>\\n                                                                                                                                                                                                                                                            </div>\\n                                                                                                                                                                                                                                                        </div>\\n                                                                                                                                                                                                                                                    </div>\\n                                                                                                                                                                                                                                                    <!-- End Copyright -->\\n                                                                                                                                                                                                                                                                                                                                                                                                                                                                                                              <div class=\"region region-sticky-footer\">\\n    \\n<div id=\"block-stickyfooteren\" class=\"norm-width block-title-1 block-title-center block block-block-content block-block-contentada708a0-68c9-42a3-b59a-256063d44496\" >\\n<div class=\"container-wrap clearfix\">\\n  \\n    \\n        <div class=\"block-content\">\\n            <div class=\"field field-body field-label-hidden field-item\"><div id=\"sticky-footer\">\\n<div class=\"menufooter\">\\n    <div class=\"menuitemfooter\"><a class=\"btnfooter use-ajax\" data-dialog-options=\"{&quot;width&quot;:800}\" data-dialog-type=\"modal\" href=\"/online-app\"><span><i class=\"fas fa-desktop icon-sticky\"></i><br />Applications</span></a></div>\\n    <div class=\"menuitemfooter\"><a class=\"btnfooter use-ajax\" data-dialog-options=\"{&quot;width&quot;:800}\" data-dialog-type=\"modal\" href=\"/personalization\"><span><i class=\"far fa-user-circle icon-sticky\"></i><br />User</span></a></div>\\n    <div class=\"menuitemfooter\"><a href=\"/3333\"><span style=\"color:red;\"><i class=\"fas fa-hand-holding-heart icon-sticky\"></i><br />Res-Q</span></a></div>\\n    <!--<div class=\"menuitemfooter\"><a href=\"/covid-19\"><span style=\"color:red;\"><i class=\"fas fa-virus icon-sticky\"></i><br />Covid-19</span></a></div>-->\\n    <div class=\"menuitemfooter\"><a class=\"btnfooter use-ajax\" data-dialog-options=\"{&quot;width&quot;:800}\" data-dialog-type=\"modal\" href=\"/ms/search/google\"><span><i class=\"fas fa-search icon-sticky\"></i><br />Search</span></a></div>\\n    <div class=\"menuitemfooter\"><a class=\"btnfooter\" href=\"https://ecomm.ump.edu.my\" target=\"_blank\"><i class=\"fas fa-id-badge icon-sticky\"></i><br />E-Comm</a></div>\\n</div>\\n</div>\\n</div>\\n      </div>\\n  </div>\\n</div>\\n  </div>\\n\\n                                                                                                                                                                                                                                                    \\n                                                                                                                                                                                                                                                                                                                                                                                                                                                                                            </footer>\\n                                                                                                                                                                                                                                            \\n                                                                                                                                                                                                                                            <script type=\\'text/javascript\\'>\\n                                                                                                                                                                                                                                                var onWebChat = {\\n                                                                                                                                                                                                                                                    ar: [],\\n                                                                                                                                                                                                                                                    set: function (a, b) {\\n                                                                                                                                                                                                                                                        if (typeof onWebChat_ === \\'undefined\\') {\\n                                                                                                                                                                                                                                                            this.ar.push([a, b]);\\n                                                                                                                                                                                                                                                        } else {\\n                                                                                                                                                                                                                                                            onWebChat_.set(a, b);\\n                                                                                                                                                                                                                                                        }\\n                                                                                                                                                                                                                                                    },\\n                                                                                                                                                                                                                                                    get: function (a) {\\n                                                                                                                                                                                                                                                        return(onWebChat_.get(a));\\n                                                                                                                                                                                                                                                    },\\n                                                                                                                                                                                                                                                    w: (function () {\\n                                                                                                                                                                                                                                                        var ga = document.createElement(\\'script\\');\\n                                                                                                                                                                                                                                                        ga.type = \\'text/javascript\\';\\n                                                                                                                                                                                                                                                        ga.async = 1;\\n                                                                                                                                                                                                                                                        ga.src = (\\n                                                                                                                                                                                                                                                            \\'https:\\' == document.location.protocol\\n                                                                                                                                                                                                                                                                ? \\'https:\\'\\n                                                                                                                                                                                                                                                                : \\'http:\\'\\n                                                                                                                                                                                                                                                        ) + \\'//www.onwebchat.com/clientchat/8be3bacf3b75f3cf2231cf8b7f2027c5\\';\\n                                                                                                                                                                                                                                                        var s = document.getElementsByTagName(\\'script\\')[0];\\n                                                                                                                                                                                                                                                        s.parentNode.insertBefore(ga, s);\\n                                                                                                                                                                                                                                                    })()\\n                                                                                                                                                                                                                                                }\\n                                                                                                                                                                                                                                            </script>\\n</div>\\n</div>\\n\\n  </div>\\n\\n    \\n    <script type=\"application/json\" data-drupal-selector=\"drupal-settings-json\">{\"path\":{\"baseUrl\":\"\\\\/\",\"scriptPath\":null,\"pathPrefix\":\"en\\\\/\",\"currentPath\":\"node\\\\/217\",\"currentPathIsAdmin\":false,\"isFront\":true,\"currentLanguage\":\"en\"},\"pluralDelimiter\":\"\\\\u0003\",\"ajaxPageState\":{\"libraries\":\"core\\\\/html5shiv,field_timer\\\\/init,field_timer\\\\/jquery.countdown,fontawesome\\\\/fontawesome.webfonts,google_analytics\\\\/google_analytics,pana\\\\/animation,pana\\\\/bootstrap,pana\\\\/bootstrap-number-input,pana\\\\/font-awesome,pana\\\\/fonts,pana\\\\/global-components,pana\\\\/ionicons,pana\\\\/niceselect,pana\\\\/owl-carousel,pana\\\\/slimscroll,pana\\\\/smartmenus,portfolio\\\\/shuffle,statistics\\\\/drupal.statistics,system\\\\/base,views\\\\/views.module\",\"theme\":\"pana\",\"theme_token\":null},\"ajaxTrustedUrl\":[],\"google_analytics\":{\"trackOutbound\":true,\"trackMailto\":true,\"trackDownload\":true,\"trackDownloadExtensions\":\"7z|aac|arc|arj|asf|asx|avi|bin|csv|doc(x|m)?|dot(x|m)?|exe|flv|gif|gz|gzip|hqx|jar|jpe?g|js|mp(2|3|4|e?g)|mov(ie)?|msi|msp|pdf|phps|png|ppt(x|m)?|pot(x|m)?|pps(x|m)?|ppam|sld(x|m)?|thmx|qtm?|ra(m|r)?|sea|sit|tar|tgz|torrent|txt|wav|wma|wmv|wpd|xls(x|m|b)?|xlt(x|m)|xlam|xml|z|zip\",\"trackColorbox\":true},\"statistics\":{\"data\":{\"nid\":\"217\"},\"url\":\"\\\\/core\\\\/modules\\\\/statistics\\\\/statistics.php\"},\"field_timer\":[],\"portfolio\":{\"views-portfolio-discovery-latest-discovery\":{\"display\":\"latest_discovery\",\"viewname\":\"discovery\",\"speed\":\"250\",\"easing\":\"ease-out\",\"lg\":\"3\",\"md\":\"6\",\"sm\":\"12\",\"nogutter\":1,\"filter\":\"field_article_category\"}},\"user\":{\"uid\":0,\"permissionsHash\":\"ff19a559b980ba3b76f0486f502e65eaf8e10acf0f8c9516e0d574badf84e41f\"}}</script>\\n<script src=\"/core/assets/vendor/domready/ready.min.js?v=1.0.8\"></script>\\n<script src=\"/core/assets/vendor/jquery/jquery.min.js?v=3.2.1\"></script>\\n<script src=\"/core/assets/vendor/jquery-once/jquery.once.min.js?v=2.2.0\"></script>\\n<script src=\"/core/misc/drupalSettingsLoader.js?v=8.6.13\"></script>\\n<script src=\"/core/misc/drupal.js?v=8.6.13\"></script>\\n<script src=\"/core/misc/drupal.init.js?v=8.6.13\"></script>\\n<script src=\"/core/assets/vendor/jquery.ui/ui/data-min.js?v=1.12.1\"></script>\\n<script src=\"/core/assets/vendor/jquery.ui/ui/disable-selection-min.js?v=1.12.1\"></script>\\n<script src=\"/core/assets/vendor/jquery.ui/ui/form-min.js?v=1.12.1\"></script>\\n<script src=\"/core/assets/vendor/jquery.ui/ui/labels-min.js?v=1.12.1\"></script>\\n<script src=\"/core/assets/vendor/jquery.ui/ui/jquery-1-7-min.js?v=1.12.1\"></script>\\n<script src=\"/core/assets/vendor/jquery.ui/ui/scroll-parent-min.js?v=1.12.1\"></script>\\n<script src=\"/core/assets/vendor/jquery.ui/ui/tabbable-min.js?v=1.12.1\"></script>\\n<script src=\"/core/assets/vendor/jquery.ui/ui/unique-id-min.js?v=1.12.1\"></script>\\n<script src=\"/core/assets/vendor/jquery.ui/ui/version-min.js?v=1.12.1\"></script>\\n<script src=\"/core/assets/vendor/jquery.ui/ui/focusable-min.js?v=1.12.1\"></script>\\n<script src=\"/core/assets/vendor/jquery.ui/ui/ie-min.js?v=1.12.1\"></script>\\n<script src=\"/core/assets/vendor/jquery.ui/ui/keycode-min.js?v=1.12.1\"></script>\\n<script src=\"/core/assets/vendor/jquery.ui/ui/plugin-min.js?v=1.12.1\"></script>\\n<script src=\"/core/assets/vendor/jquery.ui/ui/safe-active-element-min.js?v=1.12.1\"></script>\\n<script src=\"/core/assets/vendor/jquery.ui/ui/safe-blur-min.js?v=1.12.1\"></script>\\n<script src=\"/core/assets/vendor/jquery.ui/ui/widget-min.js?v=1.12.1\"></script>\\n<script src=\"/modules/custom/google_analytics/js/google_analytics.js?v=8.6.13\"></script>\\n<script src=\"/themes/pana/assets/lib/bootstrap/js/bootstrap.min.js?v=8.6.13\"></script>\\n<script src=\"/themes/pana/assets/lib/bootstrap/js/bootstrap-number-input-init.js?v=8.6.13\"></script>\\n<script src=\"/themes/pana/assets/lib/bootstrap/js/bootstrap-number-input.js?v=8.6.13\"></script>\\n<script src=\"/themes/pana/assets/lib/owl-carousel/owl.carousel.min.js?v=8.6.13\"></script>\\n<script src=\"/themes/pana/assets/lib/shuffle/js/shuffle.modernizr.min.js?v=8.6.13\"></script>\\n<script src=\"/themes/pana/assets/lib/shuffle/js/shuffle.min.js?v=8.6.13\"></script>\\n<script src=\"/themes/pana/assets/lib/jQuery-slimScroll/jquery.slimscroll.min.js?v=8.6.13\"></script>\\n<script src=\"/themes/pana/assets/lib/nice-select/js/jquery.nice-select.min.js?v=8.6.13\"></script>\\n<script src=\"/themes/pana/assets/lib/smartmenus/jquery.smartmenus.min.js?v=8.6.13\"></script>\\n<script src=\"/core/misc/progress.js?v=8.6.13\"></script>\\n<script src=\"/core/misc/ajax.js?v=8.6.13\"></script>\\n<script src=\"/core/misc/debounce.js?v=8.6.13\"></script>\\n<script src=\"/core/misc/displace.js?v=8.6.13\"></script>\\n<script src=\"/core/assets/vendor/jquery.ui/ui/widgets/button-min.js?v=1.12.1\"></script>\\n<script src=\"/core/assets/vendor/jquery.ui/ui/widgets/mouse-min.js?v=1.12.1\"></script>\\n<script src=\"/core/assets/vendor/jquery.ui/ui/widgets/draggable-min.js?v=1.12.1\"></script>\\n<script src=\"/core/assets/vendor/jquery.ui/ui/position-min.js?v=1.12.1\"></script>\\n<script src=\"/core/assets/vendor/jquery.ui/ui/widgets/resizable-min.js?v=1.12.1\"></script>\\n<script src=\"/core/assets/vendor/jquery.ui/ui/widgets/dialog-min.js?v=1.12.1\"></script>\\n<script src=\"/core/misc/dialog/dialog.js?v=8.6.13\"></script>\\n<script src=\"/core/misc/dialog/dialog.position.js?v=8.6.13\"></script>\\n<script src=\"/core/misc/dialog/dialog.jquery-ui.js?v=8.6.13\"></script>\\n<script src=\"/core/misc/dialog/dialog.ajax.js?v=8.6.13\"></script>\\n<script src=\"/themes/pana/assets/js/jquery.easing.min.js?s692ch\"></script>\\n<script src=\"/themes/pana/assets/js/jquery.appear.js?s692ch\"></script>\\n<script src=\"/themes/pana/assets/js/jquery.easypiechart.min.js?s692ch\"></script>\\n<script src=\"/themes/pana/assets/js/jquery.countTo.js?s692ch\"></script>\\n<script src=\"/themes/pana/assets/js/progress-bar.js?s692ch\"></script>\\n<script src=\"/themes/pana/assets/js/script.js?s692ch\"></script>\\n<script src=\"/libraries/ddslick/jquery.ddslick.min.js?s692ch\"></script>\\n<script src=\"/core/modules/statistics/statistics.js?v=8.6.13\"></script>\\n<script src=\"/libraries/jquery.countdown/js/jquery.plugin.min.js?v=2.1.0\"></script>\\n<script src=\"/libraries/jquery.countdown/js/jquery.countdown.min.js?v=2.1.0\"></script>\\n<script src=\"/modules/contrib/field_timer/js/field_timer.js?v=8.6.13\"></script>\\n<script src=\"/modules/custom/portfolio/js/shuffle.js?s692ch\"></script>\\n\\n\\t</body>\\n</html>'"
      ]
     },
     "execution_count": 5,
     "metadata": {},
     "output_type": "execute_result"
    }
   ],
   "source": [
    "res.text"
   ]
  },
  {
   "cell_type": "markdown",
   "metadata": {},
   "source": [
    "Now we use BeautifulSoup to analyze the extracted page. Technically we could use our own custom script to loook for items in the string of res.text but the BeautifulSoup library already has lots of built-in tools and methods to grab information from a string of this nature (basically an HTML file). Using BeautifulSoup we can create a “soup” object that contains all the “ingredients” of the webpage."
   ]
  },
  {
   "cell_type": "code",
   "execution_count": 6,
   "metadata": {},
   "outputs": [],
   "source": [
    "import bs4"
   ]
  },
  {
   "cell_type": "code",
   "execution_count": 7,
   "metadata": {},
   "outputs": [],
   "source": [
    "soup = bs4.BeautifulSoup(res.text,\"lxml\")"
   ]
  },
  {
   "cell_type": "code",
   "execution_count": 8,
   "metadata": {},
   "outputs": [
    {
     "data": {
      "text/plain": [
       "<!DOCTYPE html>\n",
       "<html dir=\"ltr\" lang=\"en\" prefix=\"content: http://purl.org/rss/1.0/modules/content/  dc: http://purl.org/dc/terms/  foaf: http://xmlns.com/foaf/0.1/  og: http://ogp.me/ns#  rdfs: http://www.w3.org/2000/01/rdf-schema#  schema: http://schema.org/  sioc: http://rdfs.org/sioc/ns#  sioct: http://rdfs.org/sioc/types#  skos: http://www.w3.org/2004/02/skos/core#  xsd: http://www.w3.org/2001/XMLSchema# \">\n",
       "<head>\n",
       "<meta charset=\"utf-8\"/>\n",
       "<script>(function(i,s,o,g,r,a,m){i[\"GoogleAnalyticsObject\"]=r;i[r]=i[r]||function(){(i[r].q=i[r].q||[]).push(arguments)},i[r].l=1*new Date();a=s.createElement(o),m=s.getElementsByTagName(o)[0];a.async=1;a.src=g;m.parentNode.insertBefore(a,m)})(window,document,\"script\",\"https://www.google-analytics.com/analytics.js\",\"ga\");ga(\"create\", \"UA-23032201-1\", {\"cookieDomain\":\"auto\"});ga(\"set\", \"anonymizeIp\", true);ga(\"send\", \"pageview\");</script>\n",
       "<meta content=\"Drupal 8 (https://www.drupal.org)\" name=\"Generator\"/>\n",
       "<meta content=\"width\" name=\"MobileOptimized\"/>\n",
       "<meta content=\"true\" name=\"HandheldFriendly\"/>\n",
       "<meta content=\"width=device-width, initial-scale=1.0\" name=\"viewport\"/>\n",
       "<link href=\"/themes/pana/favicon.ico\" rel=\"shortcut icon\" type=\"image/vnd.microsoft.icon\"/>\n",
       "<link href=\"https://www.umpsa.edu.my/en/ump\" hreflang=\"en\" rel=\"alternate\"/>\n",
       "<link href=\"/en/ump\" rel=\"canonical\"/>\n",
       "<link href=\"/en/node/217\" rel=\"shortlink\"/>\n",
       "<link href=\"/en/ump\" rel=\"revision\"/>\n",
       "<title>UMPSA Frontpage | Official Portal - UMPSA Universiti Malaysia Pahang Al-Sultan Abdullah (Malaysia University) - Public University in Pahang</title>\n",
       "<style media=\"all\">\n",
       "@import url(\"/modules/custom/portfolio/css/shuffle.css?s692ch\");\n",
       "@import url(\"/core/themes/stable/css/system/components/ajax-progress.module.css?s692ch\");\n",
       "@import url(\"/core/themes/stable/css/system/components/align.module.css?s692ch\");\n",
       "@import url(\"/core/themes/stable/css/system/components/autocomplete-loading.module.css?s692ch\");\n",
       "@import url(\"/core/themes/stable/css/system/components/fieldgroup.module.css?s692ch\");\n",
       "@import url(\"/core/themes/stable/css/system/components/container-inline.module.css?s692ch\");\n",
       "@import url(\"/core/themes/stable/css/system/components/clearfix.module.css?s692ch\");\n",
       "@import url(\"/core/themes/stable/css/system/components/details.module.css?s692ch\");\n",
       "@import url(\"/core/themes/stable/css/system/components/hidden.module.css?s692ch\");\n",
       "@import url(\"/core/themes/stable/css/system/components/item-list.module.css?s692ch\");\n",
       "@import url(\"/core/themes/stable/css/system/components/js.module.css?s692ch\");\n",
       "@import url(\"/core/themes/stable/css/system/components/nowrap.module.css?s692ch\");\n",
       "@import url(\"/core/themes/stable/css/system/components/position-container.module.css?s692ch\");\n",
       "@import url(\"/core/themes/stable/css/system/components/progress.module.css?s692ch\");\n",
       "@import url(\"/core/themes/stable/css/system/components/reset-appearance.module.css?s692ch\");\n",
       "@import url(\"/core/themes/stable/css/system/components/resize.module.css?s692ch\");\n",
       "@import url(\"/core/themes/stable/css/system/components/sticky-header.module.css?s692ch\");\n",
       "@import url(\"/core/themes/stable/css/system/components/system-status-counter.css?s692ch\");\n",
       "@import url(\"/core/themes/stable/css/system/components/system-status-report-counters.css?s692ch\");\n",
       "@import url(\"/core/themes/stable/css/system/components/system-status-report-general-info.css?s692ch\");\n",
       "@import url(\"/core/themes/stable/css/system/components/tabledrag.module.css?s692ch\");\n",
       "@import url(\"/core/themes/stable/css/system/components/tablesort.module.css?s692ch\");\n",
       "@import url(\"/core/themes/stable/css/system/components/tree-child.module.css?s692ch\");\n",
       "@import url(\"/core/assets/vendor/jquery.ui/themes/base/core.css?s692ch\");\n",
       "@import url(\"/core/assets/vendor/jquery.ui/themes/base/resizable.css?s692ch\");\n",
       "@import url(\"/core/assets/vendor/jquery.ui/themes/base/dialog.css?s692ch\");\n",
       "@import url(\"/core/themes/stable/css/views/views.module.css?s692ch\");\n",
       "@import url(\"/libraries/jquery.countdown/css/jquery.countdown.css?s692ch\");\n",
       "@import url(\"/modules/contrib/field_timer/css/field_timer.css?s692ch\");\n",
       "@import url(\"/libraries/fontawesome/css/all.min.css?s692ch\");\n",
       "@import url(\"/core/assets/vendor/jquery.ui/themes/base/theme.css?s692ch\");\n",
       "</style>\n",
       "<link href=\"https://fonts.googleapis.com/css?family=Poppins:400,100,300,700,900\" media=\"all\" rel=\"stylesheet\"/>\n",
       "<style media=\"all\">\n",
       "@import url(\"/themes/pana/assets/lib/bootstrap/css/bootstrap.min.css?s692ch\");\n",
       "@import url(\"/libraries/fontawesome/css/fontawesome.min.css?s692ch\");\n",
       "@import url(\"/themes/pana/assets/lib/ionicons/css/ionicons.min.css?s692ch\");\n",
       "@import url(\"/themes/pana/assets/lib/owl-carousel/assets/owl.carousel.min.css?s692ch\");\n",
       "@import url(\"/themes/pana/assets/lib/owl-carousel/assets/owl.theme.default.min.css?s692ch\");\n",
       "@import url(\"/themes/pana/assets/lib/shuffle/css/shuffle.css?s692ch\");\n",
       "@import url(\"/themes/pana/assets/lib/animate.css/animate.min.css?s692ch\");\n",
       "@import url(\"/themes/pana/assets/lib/nice-select/css/nice-select.css?s692ch\");\n",
       "@import url(\"/themes/pana/assets/lib/smartmenus/css/smartmenus.css?s692ch\");\n",
       "@import url(\"/themes/pana/assets/css/style.css?s692ch\");\n",
       "@import url(\"/themes/pana/assets/css/media.css?s692ch\");\n",
       "@import url(\"/sites/default/files/color/pana-7b290167/colors.css?s692ch\");\n",
       "</style>\n",
       "<!--[if lte IE 8]>\n",
       "<script src=\"/core/assets/vendor/html5shiv/html5shiv.min.js?v=3.7.3\"></script>\n",
       "<![endif]-->\n",
       "<meta content=\"211192305607973\" property=\"fb:pages\"/>\n",
       "</head>\n",
       "<body class=\"page-node-217 path-frontpage page-node-type-page page-ump single-page\" data-offset=\"70\" data-spy=\"scroll\" data-target=\".single-page-menu\">\n",
       "<div id=\"home\"></div>\n",
       "<a class=\"visually-hidden focusable\" href=\"#main-content\">\n",
       "\t  Skip to main content\n",
       "\t</a>\n",
       "<div class=\"dialog-off-canvas-main-canvas\" data-off-canvas-main-canvas=\"\">\n",
       "<div class=\"wrapper wide-layout header-transparent\" id=\"wrapper\">\n",
       "<div class=\"layout-wrap sticky-header\">\n",
       "<!-- Header Start x -->\n",
       "<div id=\"menuslider\" style=\"display: none;\"> </div>\n",
       "<div id=\"topbar\">\n",
       "<div class=\"topbar-inner\">\n",
       "<div id=\"tb-left\">\n",
       "            UMPSA - Official\n",
       "        </div>\n",
       "<div id=\"tb-center\">\n",
       "<a href=\"http://yayasan.umpsa.edu.my\" target=\"_blank\">Giving to UMPSA</a>\n",
       "</div>\n",
       "<div id=\"tb-right\">\n",
       "</div>\n",
       "</div>\n",
       "</div>\n",
       "<header class=\"header\">\n",
       "<div class=\"header-content\">\n",
       "<div class=\"navbar navbar-expand-md navbar-dark nav-default\">\n",
       "<div class=\"container\">\n",
       "<div class=\"navbar-brand header-brand\">\n",
       "<div class=\"region region-branding\">\n",
       "<div class=\"site-branding block block-system block-system-branding-block\" id=\"block-pana-branding\">\n",
       "<div class=\"container-wrap clearfix\">\n",
       "<div class=\"brand logo\">\n",
       "<a class=\"site-branding-logo\" href=\"/en\" rel=\"home\" title=\"Home\">\n",
       "<img alt=\"Home\" src=\"/img/logo-umpsa.png\"/>\n",
       "</a>\n",
       "</div>\n",
       "</div>\n",
       "</div>\n",
       "</div>\n",
       "</div>\n",
       "<div class=\"primary-navbar collapse navbar-collapse text-md-right\" id=\"main-menu\">\n",
       "<div class=\"region region-primary-menu\">\n",
       "<nav aria-labelledby=\"block-pana-main-menu\" class=\"norm-width block-title-1 block-title-left block block-system\" id=\"block-pana-main-menu\">\n",
       "<div class=\"container-wrap clearfix menu-wrap\">\n",
       "<ul class=\"nav menu menu-parent\">\n",
       "<li class=\"menu-item\">\n",
       "<a class=\"is-active\" data-drupal-link-system-path=\"&lt;front&gt;\" href=\"/en\">Home</a>\n",
       "</li>\n",
       "<li class=\"menu-item menu-item--expanded\">\n",
       "<a data-drupal-link-system-path=\"node/209\" href=\"/en/about\">About</a>\n",
       "<ul class=\"menu\">\n",
       "<li class=\"menu-item\">\n",
       "<a data-drupal-link-system-path=\"node/245\" href=\"/en/vice-chancellors-note\">Vice Chancellor's Note</a>\n",
       "</li>\n",
       "<li class=\"menu-item\">\n",
       "<a data-drupal-link-system-path=\"node/209\" href=\"/en/about\">About UMP</a>\n",
       "</li>\n",
       "<li class=\"menu-item menu-item--expanded\">\n",
       "<a class=\"is-active\" data-drupal-link-system-path=\"&lt;front&gt;\" href=\"\">Corporate Information</a>\n",
       "<ul class=\"menu\">\n",
       "<li class=\"menu-item\">\n",
       "<a data-drupal-link-system-path=\"node/258\" href=\"/en/about/corporate-information\">General Info</a>\n",
       "</li>\n",
       "<li class=\"menu-item\">\n",
       "<a data-drupal-link-system-path=\"node/260\" href=\"/en/clients-charter\">Client's Charter</a>\n",
       "</li>\n",
       "<li class=\"menu-item\">\n",
       "<a data-drupal-link-system-path=\"node/367\" href=\"/en/chancellor\">Chancellor</a>\n",
       "</li>\n",
       "<li class=\"menu-item\">\n",
       "<a data-drupal-link-system-path=\"node/368\" href=\"/en/pro-chancellor\">Pro-Chancellor</a>\n",
       "</li>\n",
       "<li class=\"menu-item\">\n",
       "<a data-drupal-link-system-path=\"node/278\" href=\"/en/board-directors\">Board of Directors</a>\n",
       "</li>\n",
       "<li class=\"menu-item\">\n",
       "<a data-drupal-link-system-path=\"node/304\" href=\"/en/senate\">Senate</a>\n",
       "</li>\n",
       "<li class=\"menu-item\">\n",
       "<a data-drupal-link-system-path=\"node/277\" href=\"/en/top-management\">Top Management</a>\n",
       "</li>\n",
       "<li class=\"menu-item\">\n",
       "<a data-drupal-link-system-path=\"node/298\" href=\"/en/deans-directors\">Deans &amp; Directors</a>\n",
       "</li>\n",
       "</ul>\n",
       "</li>\n",
       "<li class=\"menu-item\">\n",
       "<a data-drupal-link-system-path=\"node/455\" href=\"/en/corporate-identity\">Corporate Identity</a>\n",
       "</li>\n",
       "<li class=\"menu-item menu-item--expanded\">\n",
       "<a data-drupal-link-system-path=\"node/474\" href=\"/en/publications\">Publications</a>\n",
       "<ul class=\"menu\">\n",
       "<li class=\"menu-item\">\n",
       "<a data-drupal-link-system-path=\"node/430\" href=\"/en/publications/annual-report\">Annual Report</a>\n",
       "</li>\n",
       "<li class=\"menu-item\">\n",
       "<a data-drupal-link-system-path=\"node/643\" href=\"/en/convocation\">Convocation</a>\n",
       "</li>\n",
       "<li class=\"menu-item\">\n",
       "<a data-drupal-link-system-path=\"node/476\" href=\"/en/publications/create\">Create</a>\n",
       "</li>\n",
       "<li class=\"menu-item\">\n",
       "<a data-drupal-link-system-path=\"node/475\" href=\"/en/publications/pekan-review\">Pekan Review</a>\n",
       "</li>\n",
       "</ul>\n",
       "</li>\n",
       "<li class=\"menu-item\">\n",
       "<a data-drupal-link-system-path=\"node/369\" href=\"/en/faculties-departments\">Faculties/Departments</a>\n",
       "</li>\n",
       "</ul>\n",
       "</li>\n",
       "<li class=\"menu-item\">\n",
       "<a href=\"http://admission.umpsa.edu.my\">ADMISSION</a>\n",
       "</li>\n",
       "<li class=\"menu-item menu-item--expanded\">\n",
       "<a data-drupal-link-system-path=\"node/246\" href=\"/en/academic\">Academic</a>\n",
       "<ul class=\"menu\">\n",
       "<li class=\"menu-item\">\n",
       "<a data-drupal-link-system-path=\"node/422\" href=\"/en/academic-calendar\">Academic Calendar</a>\n",
       "</li>\n",
       "<li class=\"menu-item\">\n",
       "<a data-drupal-link-system-path=\"node/369\" href=\"/en/faculties-departments\">College &amp; Faculty</a>\n",
       "</li>\n",
       "<li class=\"menu-item\">\n",
       "<a data-drupal-link-system-path=\"node/369\" href=\"/en/faculties-departments#academic-centre\">Academic Centre</a>\n",
       "</li>\n",
       "</ul>\n",
       "</li>\n",
       "<li class=\"menu-item menu-item--expanded\">\n",
       "<a data-drupal-link-system-path=\"node/247\" href=\"/en/research\">Research</a>\n",
       "<ul class=\"menu\">\n",
       "<li class=\"menu-item\">\n",
       "<a data-drupal-link-system-path=\"node/369\" href=\"/en/faculties-departments#coe\">Centre of Excellence</a>\n",
       "</li>\n",
       "<li class=\"menu-item\">\n",
       "<a href=\"https://news.umpsa.edu.my/research\">Awards &amp; Achievements</a>\n",
       "</li>\n",
       "<li class=\"menu-item\">\n",
       "<a href=\"https://research.umpsa.edu.my/index.php/research\">Grant and Funding</a>\n",
       "</li>\n",
       "<li class=\"menu-item\">\n",
       "<a href=\"https://research.umpsa.edu.my/index.php/en/policies\">Policy</a>\n",
       "</li>\n",
       "</ul>\n",
       "</li>\n",
       "<li class=\"menu-item menu-item--expanded\">\n",
       "<a data-drupal-link-system-path=\"node/248\" href=\"/en/student-life\">Student Life</a>\n",
       "<ul class=\"menu\">\n",
       "<li class=\"menu-item\">\n",
       "<a href=\"https://campuspantry.umpsa.edu.my/\">Campus Pantry</a>\n",
       "</li>\n",
       "<li class=\"menu-item\">\n",
       "<a data-drupal-link-system-path=\"node/588\" href=\"/en/student-disability\">Student With Disability</a>\n",
       "</li>\n",
       "</ul>\n",
       "</li>\n",
       "<li class=\"menu-item\">\n",
       "<a data-drupal-link-system-path=\"node/354\" href=\"/en/international\">International</a>\n",
       "</li>\n",
       "</ul>\n",
       "</div>\n",
       "</nav>\n",
       "</div>\n",
       "</div>\n",
       "<button aria-controls=\"main-menu\" aria-expanded=\"false\" aria-label=\"Toggle navigation\" class=\"navbar-toggler nav-button nav-button2\" data-target=\"#main-menu\" data-toggle=\"collapse\" type=\"button\">\n",
       "<i class=\"fas fa-bars\"></i>\n",
       "</button>\n",
       "</div>\n",
       "</div>\n",
       "</div>\n",
       "</header>\n",
       "<!-- Header End -->\n",
       "<!-- Slider -->\n",
       "<section class=\"clearfix\" id=\"slider\">\n",
       "<div id=\"slider-wrap\">\n",
       "<div class=\"container-fluid\">\n",
       "<div class=\"row\">\n",
       "<div class=\"region region-slider\">\n",
       "<div class=\"fullwidth block-title-1 block-title-left block slide-block block-block-content block-block-content74b94124-2fc9-49c7-bbfe-5c3fdf1e07f9\" id=\"umpslidervideo\">\n",
       "<div class=\"container-wrap clearfix\">\n",
       "<div class=\"hero slide-carousel owl-carousel\" data-autoplay=\"true\" data-autoplayspeed=\"1500\" data-autoplaytimeout=\"28000\" data-dots=\"false\" data-items=\"1\" data-loop=\"true\" data-nav=\"true\">\n",
       "<div><div about=\"/en/slide/ump-umpsa\" data-history-node-id=\"713\" role=\"article\">\n",
       "<div class=\"slide-image\"><img alt=\"ump-umpsa\" src=\"/sites/default/files/slider/ump-umpsa.jpg\"/></div>\n",
       "<div class=\"slide-content-wrap\">\n",
       "<div class=\"container slide-wrap\">\n",
       "<div class=\"slide-content\">\n",
       "<div class=\"slide-content-main\">\n",
       "</div>\n",
       "</div>\n",
       "</div>\n",
       "</div>\n",
       "</div></div>\n",
       "<div><div about=\"/en/node/757\" data-history-node-id=\"757\" role=\"article\">\n",
       "<div class=\"slide-image\"><img alt=\"Sembah Tahniah Pemasyuran\" src=\"/sites/default/files/slider/ebanner-SEMBAH-TAHNIAH-PRO-CANSELOR.jpg\"/></div>\n",
       "<div class=\"slide-content-wrap\">\n",
       "<div class=\"container slide-wrap\">\n",
       "<div class=\"slide-content\">\n",
       "<div class=\"slide-content-main\">\n",
       "</div>\n",
       "</div>\n",
       "</div>\n",
       "</div>\n",
       "</div></div>\n",
       "<div><div about=\"/en/slide/pemasyhuran-pro-canselor-umpsa\" data-history-node-id=\"750\" role=\"article\">\n",
       "<div class=\"slide-image\"><img alt=\"Pemasyhuran Pro-Canselor UMPSA\" src=\"/sites/default/files/slider/pro-canselor-umpsa.jpg\"/></div>\n",
       "<div class=\"slide-content-wrap\">\n",
       "<div class=\"container slide-wrap\">\n",
       "<div class=\"slide-content text-light\">\n",
       "<div class=\"slide-content-main float-center text-center\">\n",
       "<div class=\"slide-content-body\" data-animation-in=\"slideInRight\" data-animation-out=\"animate-out fadeOut\">\n",
       "<div class=\"field field-body field-label-hidden field-item\"><h2 class=\"bannerTitle\"> </h2>\n",
       "<h2 class=\"bannerTitle\"> </h2>\n",
       "<p> </p>\n",
       "<p> </p>\n",
       "<p> </p>\n",
       "<p> </p>\n",
       "<p> </p>\n",
       "<p> </p>\n",
       "<p> </p>\n",
       "<h3 class=\"bannerTitle\">KDYMM Pemangku Raja Pahang, Tengku Hassanal Ibrahim Alam Shah dimasyhurkan sebagai Pro-Canselor UMPSA</h3>\n",
       "</div>\n",
       "</div>\n",
       "<div class=\"nav menu slide-button\" data-animation-in=\"bounceInUp\" data-animation-out=\"animate-out slideOutDown\">\n",
       "<a class=\"slide-button-link button\" href=\"https://news.umpsa.edu.my/convocation/kdymm-pemangku-raja-pahang-tengku-hassanal-ibrahim-alam-shah-dimasyhurkan-sebagai-pro\">Read more</a>\n",
       "</div>\n",
       "</div>\n",
       "</div>\n",
       "</div>\n",
       "</div>\n",
       "</div></div>\n",
       "<div><div about=\"/en/node/763\" data-history-node-id=\"763\" role=\"article\">\n",
       "<div class=\"slide-image\"><img alt=\"domain-migrate\" src=\"/sites/default/files/slider/ebanner-umpsa-%280%29.jpg\"/></div>\n",
       "<div class=\"slide-content-wrap\">\n",
       "<div class=\"container slide-wrap\">\n",
       "<div class=\"slide-content\">\n",
       "<div class=\"slide-content-main\">\n",
       "</div>\n",
       "</div>\n",
       "</div>\n",
       "</div>\n",
       "</div></div>\n",
       "<div><div about=\"/en/slide/kajian-kepuasan-pelanggan-0\" data-history-node-id=\"762\" role=\"article\">\n",
       "<div class=\"slide-image\"><img alt=\"kajian kepuasan pelanggan\" src=\"/sites/default/files/slider/ebaner-kajian-kepuasan-pelangan-301123%5B1%5D.jpg\"/></div>\n",
       "<div class=\"slide-content-wrap\">\n",
       "<div class=\"container slide-wrap\">\n",
       "<div class=\"slide-content\">\n",
       "<div class=\"slide-content-main\">\n",
       "</div>\n",
       "</div>\n",
       "</div>\n",
       "</div>\n",
       "</div></div>\n",
       "<div><div about=\"/en/slide/news-umpsa\" data-history-node-id=\"758\" role=\"article\">\n",
       "<div class=\"slide-image\"><img alt=\"news-umpsa\" src=\"/sites/default/files/slider/ebaner%20UMPSA-small2.jpg\"/></div>\n",
       "<div class=\"slide-content-wrap\">\n",
       "<div class=\"container slide-wrap\">\n",
       "<div class=\"slide-content text-dark\">\n",
       "<div class=\"slide-content-main float-center text-center\">\n",
       "<div class=\"slide-content-body\" data-animation-in=\"slideInRight\" data-animation-out=\"animate-out fadeOut\">\n",
       "<div class=\"field field-body field-label-hidden field-item\"><p><a class=\"button btnlink-ecomm2\" href=\"https://news.umpsa.edu.my/\"><strong>https://news.umpsa.edu.my/</strong></a></p>\n",
       "</div>\n",
       "</div>\n",
       "</div>\n",
       "</div>\n",
       "</div>\n",
       "</div>\n",
       "</div></div>\n",
       "</div>\n",
       "</div>\n",
       "</div>\n",
       "</div>\n",
       "</div>\n",
       "</div>\n",
       "</div>\n",
       "</section>\n",
       "<!-- End Slider -->\n",
       "<!-- Start content top -->\n",
       "<section class=\"content-wide\" id=\"content-wide-top\">\n",
       "<div class=\"region region-content-wide-top\">\n",
       "<div class=\"norm-width block-title-1 block-title-center block block-block-content block-block-content0b0c2bee-493d-4cf1-8140-71199873be7e\" id=\"block-rankingump\" style=\"background-image: url('themes/pana/assets/images/bg/bg2.jpg');background-position: center center;background-repeat: no-repeat;\">\n",
       "<div class=\"container-wrap clearfix\">\n",
       "<div class=\"block-content\">\n",
       "<div class=\"field field-body field-label-hidden field-item\"><div class=\"text-center\"><img src=\"/img/ranking-umpsa-2023.png\"/><br/>\n",
       "<a class=\"button btnlink-border\" href=\"/ranking\">Ranking Information</a></div>\n",
       "</div>\n",
       "</div>\n",
       "</div>\n",
       "</div>\n",
       "<div class=\"cta-style2\">\n",
       "<div class=\"pad20 norm-width block-title-1 block-title-left block action-block block-block-content block-block-content4e5263e3-e1ef-4b5f-8da0-1f388bbd899e\" id=\"block-umphelpdesken\" style=\"background-image: url('themes/pana/assets/images/bg/bg-yellow.jpg');background-position: center center;background-repeat: no-repeat;background-size: cover;\">\n",
       "<div class=\"container-wrap clearfix\">\n",
       "<div class=\"cta-wrap action-block-2 row\">\n",
       "<div class=\"col-sm-9 cta-text\">\n",
       "<div class=\"field field-body field-label-hidden field-item\"><h3>Your feedback is important to us.</h3>\n",
       "<p>We're here to help and answer any question you might have. We look forward to hearing from you.</p></div>\n",
       "</div>\n",
       "<div class=\"nav menu col-sm-3 text-middle cta-link\"><a class=\"button\" href=\"https://ump.spab.gov.my/\">UMPSA Helpdesk</a></div>\n",
       "</div>\n",
       "</div>\n",
       "</div>\n",
       "</div>\n",
       "<div class=\"cta-style2\">\n",
       "<div class=\"pad20 norm-width text-light block-title-1 block-title-left block action-block block-block-content block-block-content153cba95-2611-401f-be8d-79981a7b506e\" id=\"block-admissionresultdiploma\" style=\"background-image: url('/sites/default/files/2019-07/cta-bg1.jpg');background-position: center center;background-repeat: no-repeat;background-size: cover;\">\n",
       "<div class=\"container-wrap clearfix\">\n",
       "<div class=\"cta-wrap action-block-2 row\">\n",
       "<div class=\"col-sm-9 cta-text\">\n",
       "<div class=\"field field-body field-label-hidden field-item\"><h4>Admission Result for Undergraduate Programmes</h4></div>\n",
       "</div>\n",
       "<div class=\"nav menu col-sm-3 text-middle cta-link\"><a class=\"button\" href=\"https://admission.umpsa.edu.my/semakan\">Check it out</a></div>\n",
       "</div>\n",
       "</div>\n",
       "</div>\n",
       "</div>\n",
       "<div class=\"norm-width block-title-1 block-title-left block block-block-content block-block-content886fc532-bed7-4cd3-bbf2-70d922a4cdf8\" id=\"block-admission2\">\n",
       "<div class=\"container-wrap clearfix\">\n",
       "<div class=\"block-content\">\n",
       "<div class=\"field field-body field-label-hidden field-item\"><div class=\"row\">\n",
       "<div align=\"justify\" class=\"column2 admission-left\">\n",
       "<div class=\"text-center\"> \n",
       "<h2 style=\"color: #ffffff;\">Admission</h2>\n",
       " \n",
       "\n",
       "<form action=\"https://admission.umpsa.edu.my/search\" id=\"findcourse\" method=\"post\" name=\"findcourse\"><input name=\"searchword\" placeholder=\"Find a programme\" size=\"20\" type=\"text\"/><br/>\n",
       "<input class=\"button-submit-2 button js-form-submit form-submit\" type=\"submit\" value=\"Search\"/> </form>\n",
       "</div>\n",
       " \n",
       "\n",
       "<div class=\"text-center\">\n",
       "<p>Our programmes prepare students to be successful in their chosen disciplines by providing professional training and the opportunity to use classroom learning to solve real-world problems.</p>\n",
       "</div>\n",
       "<div class=\"mt-4 fact-wrapper\">\n",
       "<div class=\"row\">\n",
       "<div class=\"col-md-4 col-6 fact\">\n",
       "<h2 class=\"count-number counter\" data-from=\"5000\" data-speed=\"2500\" data-to=\"17231\"><!-- fact-1 --></h2>\n",
       "<h5 class=\"fact-title\">Students</h5>\n",
       "</div>\n",
       "<!-- fact-1 -->\n",
       "<div class=\"col-md-4 col-6 fact\">\n",
       "<h2 class=\"count-number counter\" data-from=\"15000\" data-speed=\"2500\" data-to=\"43238\"><!-- fact-2 --></h2>\n",
       "<h5 class=\"fact-title\">Graduates</h5>\n",
       "</div>\n",
       "<!-- fact-2 -->\n",
       "<div class=\"col-md-4 col-6 fact\">\n",
       "<h2 class=\"count-number\">98.67%</h2>\n",
       "<h5 class=\"fact-title\">Employability</h5>\n",
       "</div>\n",
       "<!-- fact-3 --></div>\n",
       "</div>\n",
       "<div class=\"text-center\"><font size=\"1.0em\"><i>*PPA,IPS DAN UMPA, December 2023</i></font></div>\n",
       "</div>\n",
       "<div align=\"justify\" class=\"column1 admission-right\">\n",
       "<div class=\"row\">\n",
       "<div align=\"justify\" class=\"column\">\n",
       "<div class=\"imgheader\"><a href=\"http://admission.umpsa.edu.my/undergraduate\" target=\"_blank\"><img src=\"/sites/default/files/2023-12/a-undergraduate-122023_0.jpg\"/> </a>\n",
       "<div class=\"text-light top-left\">\n",
       "<h4><a href=\"http://admission.umpsa.edu.my/undergraduate\" target=\"_blank\">Undergraduate</a></h4>\n",
       "</div>\n",
       "<a href=\"http://admission.umpsa.edu.my/undergraduate\" target=\"_blank\"> </a>\n",
       "<div class=\"text-light bottom-left\"><a href=\"http://admission.umpsa.edu.my/undergraduate\" target=\"_blank\">Diploma and Degree</a></div>\n",
       "</div>\n",
       "</div>\n",
       "<div align=\"justify\" class=\"column\">\n",
       "<div class=\"imgheader\"><a href=\"https://ips.umpsa.edu.my/index.php/en/admission-ips\" target=\"_blank\"><img src=\"/sites/default/files/2023-12/a-postgraduate-122023.png\"/> </a>\n",
       "<div class=\"text-light top-left\">\n",
       "<h4><a href=\"https://ips.umpsa.edu.my/index.php/en/admission-ips\" target=\"_blank\">Postgraduate</a></h4>\n",
       "</div>\n",
       "<a href=\"http://admission.umpsa.edu.my/postgraduate\" target=\"_blank\"> </a>\n",
       "<div class=\"text-light bottom-left\"><a href=\"https://ips.umpsa.edu.my/index.php/en/admission-ips\" target=\"_blank\">Master and PhD</a></div>\n",
       "</div>\n",
       "</div>\n",
       "</div>\n",
       "<div class=\"row\">\n",
       "<div align=\"justify\" class=\"column\">\n",
       "<div class=\"imgheader\"><a href=\"https://umpadvanced.edu.my/\" target=\"_blank\"><img src=\"/sites/default/files/2023-12/a-lifelong-learning-122023_1.jpg\"/></a>\n",
       "<div class=\"text-light top-left\">\n",
       "<h4><a href=\"https://umpadvanced.edu.my/\" target=\"_blank\">UMP Advanced</a></h4>\n",
       "</div>\n",
       "<a href=\"https://umpadvanced.edu.my/\" target=\"_blank\"> </a>\n",
       "<div class=\"text-light bottom-left\"><a href=\"https://umpadvanced.edu.my/\" target=\"_blank\">Professional &amp; Continuing Education</a></div>\n",
       "</div>\n",
       "</div>\n",
       "<div align=\"justify\" class=\"column\">\n",
       "<div class=\"imgheader\"><a href=\"https://ilmu.umpadvanced.edu.my/ILMU/\" target=\"_blank\"><img src=\"/sites/default/files/2020-02/a-online-course-1.jpg\"/></a>\n",
       "<div class=\"text-light top-left\">\n",
       "<h4><a href=\"https://ilmu.umpadvanced.edu.my/ILMU/\" target=\"_blank\">Online Courses</a></h4>\n",
       "</div>\n",
       "<a href=\"https://ilmu.umpadvanced.edu.my/\" target=\"_blank\"> </a>\n",
       "<div class=\"text-light bottom-left\"><a href=\"https://ilmu.umpadvanced.edu.my/ILMU/\" target=\"_blank\">E-Learning</a></div>\n",
       "</div>\n",
       "</div>\n",
       "</div>\n",
       "</div>\n",
       "</div>\n",
       "</div>\n",
       "</div>\n",
       "</div>\n",
       "</div><div class=\"pad20 norm-width block-title-1 block-title-left block feature-block block-block-content block-block-content2846e5a0-bb94-4ab5-83b8-81ab3f2ba897\" id=\"block-amanatnc\">\n",
       "<div class=\"container-wrap feature-block-layout2 clearfix\">\n",
       "<div class=\"row-wrap block-content\">\n",
       "<div class=\"row feature-block-wrap feature-block-image-right\">\n",
       "<div class=\"col-12 col-md-6 feat-block-content\">\n",
       "<div class=\"feat-content-wrap\">\n",
       "<div class=\"feat-block-text\">\n",
       "<div class=\"field field-body field-label-hidden field-item\"><h4>Amanat Naib Canselor UMPSA 2023</h4>\n",
       "<p style=\"font-size: 22px;\"><em>‘MELESTARIKAN KECEMERLANGAN’</em><br/>\n",
       "TEKNOLOGI UNTUK MASYARAKAT</p>\n",
       "<p><a class=\"button\" href=\"/download/Amanat Tahunan NC UMP 2023 (Edited 2023).pdf\" target=\"_blank\">Teks Ucapan</a> <a class=\"button\" href=\"/download/SLIDE AMANAT NAIB CANSELOR 2023.pdf\" target=\"_blank\">Slaid</a></p>\n",
       "</div>\n",
       "</div> </div>\n",
       "</div>\n",
       "<div class=\"col-12 col-md-6 feat-block-image-wrap static-image\">\n",
       "<div class=\"feat-block-image\">\n",
       "<div class=\"field field-field-image field-label-hidden field-item\"> <img alt=\"ump-amanat-nc-202\" height=\"428\" src=\"/sites/default/files/features/ump-amanat-nc-2023.jpg\" typeof=\"foaf:Image\" width=\"760\"/>\n",
       "</div>\n",
       "</div>\n",
       "</div>\n",
       "</div>\n",
       "</div>\n",
       "</div>\n",
       "</div><div class=\"pad20 norm-width block-title-1 block-title-left block feature-block block-block-content block-block-contentc523ff25-fa53-4ab3-88c2-fe1556f229da\" id=\"block-ump25\" style=\"background-color: #eaeaea;\">\n",
       "<div class=\"container-wrap feature-block-layout1 clearfix\">\n",
       "<div class=\"row-wrap block-content\">\n",
       "<div class=\"row feature-block-wrap feature-block-image-left\">\n",
       "<div class=\"col-12 col-md-6 feat-block-image-wrap static-image\">\n",
       "<div class=\"feat-block-image\">\n",
       "<div class=\"field field-field-image field-label-hidden field-item\"> <img alt=\"image-ump-25\" height=\"428\" src=\"/sites/default/files/features/image-ump-25.png\" typeof=\"foaf:Image\" width=\"760\"/>\n",
       "</div>\n",
       "</div>\n",
       "</div>\n",
       "<div class=\"col-12 col-md-6 feat-block-content\">\n",
       "<div class=\"feat-content-wrap\">\n",
       "<div class=\"feat-block-text\">\n",
       "<div class=\"field field-body field-label-hidden field-item\"><h4>Pelan Strategik Universiti Malaysia Pahang<br/>\n",
       "Al-Sultan Abdullah <br/>\n",
       "2021-2025</h4>\n",
       "<p><a class=\"button\" href=\"/download/Buku Induk Pelan Strategik UMP 2021-2025.pdf\" target=\"_blank\">Download</a></p>\n",
       "</div>\n",
       "</div> </div>\n",
       "</div>\n",
       "</div>\n",
       "</div>\n",
       "</div>\n",
       "</div>\n",
       "</div>\n",
       "</section>\n",
       "<!-- End content top -->\n",
       "<!-- layout -->\n",
       "<section class=\"page-wrapper\" id=\"page-wrapper\">\n",
       "<div class=\"container\">\n",
       "<div class=\"row content-layout\">\n",
       "<!--- Start content -->\n",
       "<div class=\"col-md-8 main-content\">\n",
       "<div class=\"region region-content\">\n",
       "<div class=\"views-element-container norm-width block-title-1 block-title-left block block-views block-views-blockfeed-ump-block-5\" id=\"block-views-block-feed-ump-block-5\">\n",
       "<div class=\"container-wrap clearfix\">\n",
       "<div class=\"block-title-wrap clearfix\">\n",
       "<div class=\"block-title-content\">\n",
       "<h2 class=\"block-title\">Highlights</h2>\n",
       "<h5 class=\"block-subtitle\">Learn how our transformative education and our expertise impacted society and transformed lives for the better.</h5> </div>\n",
       "</div>\n",
       "<div class=\"block-content\"><div><div class=\"js-view-dom-id-fa9fc1b351b866865a1f62702b2b9b2685a0ccb515a4b550712ebb44b9b259b2\">\n",
       "<div class=\"row grid-wrapper\">\n",
       "<div class=\"col-12 col-sm-12 col-md-6 col-lg-6 grid-item\"><div class=\"views-field views-field-nothing\"><span class=\"field-content\"><div class=\"umpnews\">\n",
       "<a href=\"https://news.umpsa.edu.my/general/umpsa-and-umw-collaboration-planted-2000-mangrove-trees-cherating\" target=\"_blank\"> <img alt=\"UMPSA and UMW collaboration planted 2,000 Mangrove trees in Cherating\" height=\"250\" src=\"https://news.umpsa.edu.my/sites/default/files/styles/newsthumb_400xany/public/articles/Kolaborasi%20UMPSA%20dan%20UMW%20tanam%202%2C000%20pokok%20Bakau%20di%20Cherating%20%281%29.jpg?itok=7xBXgFdp\" typeof=\"Image\" width=\"400\"/></a>\n",
       "<div class=\"newstitle\"><a href=\"https://news.umpsa.edu.my/general/umpsa-and-umw-collaboration-planted-2000-mangrove-trees-cherating\" target=\"_blank\"></a><a href=\"https://news.umpsa.edu.my/general/umpsa-and-umw-collaboration-planted-2000-mangrove-trees-cherating\">UMPSA and UMW collaboration planted 2,000 Mangrove trees in Cherating</a></div>\n",
       "</div></span></div></div>\n",
       "<div class=\"col-12 col-sm-12 col-md-6 col-lg-6 grid-item\"><div class=\"views-field views-field-nothing\"><span class=\"field-content\"><div class=\"umpnews\">\n",
       "<a href=\"https://news.umpsa.edu.my/academic/global-leadership-summit-programme-revealed-creativity-mrsm-students\" target=\"_blank\"> <img alt=\"The Global Leadership Summit programme revealed the creativity of MRSM students\" height=\"250\" src=\"https://news.umpsa.edu.my/sites/default/files/styles/newsthumb_400xany/public/articles/MRSM_0.jpg?itok=BvZvFSV2\" typeof=\"Image\" width=\"400\"/></a>\n",
       "<div class=\"newstitle\"><a href=\"https://news.umpsa.edu.my/academic/global-leadership-summit-programme-revealed-creativity-mrsm-students\" target=\"_blank\"></a><a href=\"https://news.umpsa.edu.my/academic/global-leadership-summit-programme-revealed-creativity-mrsm-students\">The Global Leadership Summit programme revealed the creativity of MRSM students</a></div>\n",
       "</div></span></div></div>\n",
       "</div>\n",
       "</div>\n",
       "</div>\n",
       "</div>\n",
       "</div>\n",
       "</div>\n",
       "<div class=\"block block-system block-system-main-block\" id=\"block-pana-content--2\">\n",
       "<div class=\"container-wrap clearfix\">\n",
       "<div class=\"block-content\">\n",
       "<div about=\"/en/ump\" class=\"node node--type-page node--view-mode-full\" data-history-node-id=\"217\" role=\"article\" typeof=\"schema:WebPage\">\n",
       "<span class=\"hidden\" content=\"UMPSA Frontpage\" property=\"schema:name\"></span>\n",
       "<div class=\"node-content\">\n",
       "<div class=\"field field-body field-label-hidden field-item\" property=\"schema:text\"><style type=\"text/css\">\n",
       "<!--/*--><![CDATA[/* ><!--*/\n",
       "#page-title {display: none;}\n",
       "\n",
       "/*--><!]]>*/\n",
       "</style>\n",
       "</div>\n",
       "</div>\n",
       "</div>\n",
       "</div>\n",
       "</div>\n",
       "</div>\n",
       "</div>\n",
       "</div>\n",
       "<!---End content -->\n",
       "<!--- Start Right SideBar -->\n",
       "<div class=\"col-md-4 sidebar\">\n",
       "<div class=\"region region-sidebar-second\">\n",
       "<div class=\"norm-width block-title-1 block-title-left block block-block-content block-block-contentc759f7b7-ffa3-46a5-93a4-6c2ba689b3d8\" id=\"block-logoumptv\">\n",
       "<div class=\"container-wrap clearfix\">\n",
       "<div class=\"block-content\">\n",
       "<div class=\"field field-body field-label-hidden field-item\"><div class=\"text-center\"><a href=\"http://news.umpsa.edu.my/videos\" target=\"_blank\"><img class=\"img-umptv\" src=\"/img/logo-umpsa-tv.png\"/></a></div>\n",
       "</div>\n",
       "</div>\n",
       "</div>\n",
       "</div>\n",
       "<div class=\"views-element-container norm-width block-title-1 block-title-left block block-views block-views-blockfeed-ump-block-9\" id=\"block-umptv\">\n",
       "<div class=\"container-wrap clearfix\">\n",
       "<div class=\"block-content\"><div><div class=\"js-view-dom-id-fe55c04640013d5c3f0df9a3f634442ce8382a793921329ad23ed8616e0061e7\">\n",
       "<div class=\"umptv-row views-row\">\n",
       "<div class=\"views-field views-field-nothing\"><span class=\"field-content\"><div>\n",
       "<a href=\"https://news.umpsa.edu.my/lawatan-pengerusi-lpu-ke-umpsa-gambang-dan-ump-holdings\" target=\"_blank\"> <img alt=\"Lawatan Pengerusi LPU ke UMPSA Gambang dan UMP Holdings\" height=\"250\" src=\"https://news.umpsa.edu.my/sites/default/files/styles/newsthumb_400xany/public/video/Lawatan%20Pengerusi%20LPU%20ke%20UMPSA%20Gambang%20dan%20UMP%20Holdings.jpg?itok=315d1JeR\" typeof=\"Image\" width=\"400\"/></a><br/>\n",
       "<div class=\"newstitle2\"><a href=\"https://news.umpsa.edu.my/lawatan-pengerusi-lpu-ke-umpsa-gambang-dan-ump-holdings\" target=\"_blank\"></a><a href=\"https://news.umpsa.edu.my/lawatan-pengerusi-lpu-ke-umpsa-gambang-dan-ump-holdings\">Lawatan Pengerusi LPU ke UMPSA Gambang dan UMP Holdings</a></div>\n",
       "</div>\n",
       "<div class=\"vicon\"><a href=\"https://news.umpsa.edu.my/lawatan-pengerusi-lpu-ke-umpsa-gambang-dan-ump-holdings\" target=\"_blank\"><h2><i class=\"far fa-play-circle icon-umptv\"></i></h2></a></div> </span></div>\n",
       "</div>\n",
       "</div>\n",
       "</div>\n",
       "</div>\n",
       "</div>\n",
       "</div>\n",
       "</div>\n",
       "</div>\n",
       "<!---End Right SideBar -->\n",
       "</div>\n",
       "</div>\n",
       "</section>\n",
       "<!-- End layout -->\n",
       "<section class=\"page-wrapper\" id=\"page-wrapper\">\n",
       "<div class=\"container\">\n",
       "<div class=\"content-layout\">\n",
       "<div class=\"row\">\n",
       "<div class=\"column\">\n",
       "<div class=\"region region-content-split-topl\">\n",
       "<div class=\"views-element-container fullwidth framewidth block-title-1 block-title-center block block-views block-views-blockfeed-ump-block-10\" id=\"block-views-block-feed-ump-block-10\">\n",
       "<div class=\"container-wrap clearfix\">\n",
       "<div class=\"block-title-wrap clearfix\">\n",
       "<div class=\"block-title-content\">\n",
       "<h2 class=\"block-title\">Latest News</h2>\n",
       "</div>\n",
       "</div>\n",
       "<div class=\"block-content\"><div><div class=\"js-view-dom-id-13ae3e373e9c81745501627d94b2b01a81f1a86425f28704258ea329d05b16d4\">\n",
       "<div class=\"views-row\">\n",
       "<div class=\"views-field views-field-nothing\"><span class=\"field-content\"><div class=\"umpnews-panel\">\n",
       "<div class=\"umpnews-panel-title\"><a href=\"https://news.umpsa.edu.my/general/umpsa-and-umw-collaboration-planted-2000-mangrove-trees-cherating\" target=\"_blank\">UMPSA and UMW collaboration planted 2,000 Mangrove trees in Cherating</a></div>\n",
       "<span class=\"umpnews-panel-date\">Friday, 22 Dec 2023</span>\n",
       "</div></span></div>\n",
       "</div>\n",
       "<div class=\"views-row\">\n",
       "<div class=\"views-field views-field-nothing\"><span class=\"field-content\"><div class=\"umpnews-panel\">\n",
       "<div class=\"umpnews-panel-title\"><a href=\"https://news.umpsa.edu.my/academic/global-leadership-summit-programme-revealed-creativity-mrsm-students\" target=\"_blank\">The Global Leadership Summit programme revealed the creativity of MRSM students</a></div>\n",
       "<span class=\"umpnews-panel-date\">Friday, 22 Dec 2023</span>\n",
       "</div></span></div>\n",
       "</div>\n",
       "<div class=\"views-row\">\n",
       "<div class=\"views-field views-field-nothing\"><span class=\"field-content\"><div class=\"umpnews-panel\">\n",
       "<div class=\"umpnews-panel-title\"><a href=\"https://news.umpsa.edu.my/community/umpsa-treats-people-dolokgede-village-bojonegoro-indonesia-through-umpsa-foundations\" target=\"_blank\">UMPSA treats the people of Dolokgede Village, Bojonegoro, Indonesia through the UMPSA Foundation's ASEAN Exploration Adventure programme</a></div>\n",
       "<span class=\"umpnews-panel-date\">Friday, 22 Dec 2023</span>\n",
       "</div></span></div>\n",
       "</div>\n",
       "<div class=\"views-row\">\n",
       "<div class=\"views-field views-field-nothing\"><span class=\"field-content\"><div class=\"umpnews-panel\">\n",
       "<div class=\"umpnews-panel-title\"><a href=\"https://news.umpsa.edu.my/industry/university-industry-collaboration-strengthens-3-hb-approach\" target=\"_blank\">University-Industry collaboration strengthens with '3 HB' approach</a></div>\n",
       "<span class=\"umpnews-panel-date\">Friday, 22 Dec 2023</span>\n",
       "</div></span></div>\n",
       "</div>\n",
       "<div class=\"views-row\">\n",
       "<div class=\"views-field views-field-nothing\"><span class=\"field-content\"><div class=\"umpnews-panel\">\n",
       "<div class=\"umpnews-panel-title\"><a href=\"https://news.umpsa.edu.my/campus-life/chairman-university-board-directors-visited-umpsa-gambang-campus-and-its-subsidiary-ump\" target=\"_blank\">The Chairman of the University Board of Directors visited UMPSA Gambang Campus and its subsidiary, UMP Holdings</a></div>\n",
       "<span class=\"umpnews-panel-date\">Friday, 22 Dec 2023</span>\n",
       "</div></span></div>\n",
       "</div>\n",
       "<footer>\n",
       "<div class=\"text-center\"><a class=\"button\" href=\"http://news.umpsa.edu.my\" target=\"_blank\">See more News</a></div>\n",
       "</footer>\n",
       "</div>\n",
       "</div>\n",
       "</div>\n",
       "</div>\n",
       "</div>\n",
       "</div>\n",
       "</div>\n",
       "<div class=\"column\">\n",
       "<div class=\"region region-content-split-topr\">\n",
       "<div class=\"views-element-container fullwidth framewidth block-title-1 block-title-center block block-views block-views-blockfeed-ump-block-8\" id=\"block-views-block-feed-ump-block-8-3\">\n",
       "<div class=\"container-wrap clearfix\">\n",
       "<div class=\"block-title-wrap clearfix\">\n",
       "<div class=\"block-title-content\">\n",
       "<h2 class=\"block-title\">Upcoming Events</h2>\n",
       "</div>\n",
       "</div>\n",
       "<div class=\"block-content\"><div><div class=\"js-view-dom-id-3db48bc286d2908a07f34c65278dccdedff49434c4cea241699b99bd0082e702\">\n",
       "</div>\n",
       "</div>\n",
       "</div>\n",
       "</div>\n",
       "</div>\n",
       "</div>\n",
       "</div>\n",
       "</div>\n",
       "</div></div>\n",
       "</section>\n",
       "<!-- Start content wide -->\n",
       "<section class=\"content-wide\" id=\"content-wide\">\n",
       "<div class=\"region region-content-wide\">\n",
       "<div class=\"norm-width block-title-1 block-title-left block feature-block block-block-content block-block-content711d4f08-b8a2-41ab-b34d-c34c9f1e835d\" id=\"block-umpgerman\" style=\"background-image: url('/themes/pana/assets/images/bg/bg-d1.jpg');background-position: center center;background-repeat: no-repeat;\">\n",
       "<div class=\"container-wrap feature-block-layout1 clearfix\">\n",
       "<div class=\"row-wrap block-content\">\n",
       "<div class=\"row feature-block-wrap feature-block-image-left\">\n",
       "<div class=\"col-12 col-md-6 feat-block-image-wrap static-image\">\n",
       "<div class=\"feat-block-image\">\n",
       "<div class=\"field field-field-image field-label-hidden field-item\"> <img alt=\"karlsruhe-ump\" height=\"560\" src=\"/sites/default/files/features/karlsruhe-ump.jpg\" typeof=\"foaf:Image\" width=\"760\"/>\n",
       "</div>\n",
       "</div>\n",
       "</div>\n",
       "<div class=\"col-12 col-md-6 feat-block-content\">\n",
       "<div class=\"feat-content-wrap\">\n",
       "<div class=\"feat-block-text\">\n",
       "<div class=\"field field-body field-label-hidden field-item\"><h2>German Engineering @ UMPSA</h2>\n",
       "<h5>UMPSA partnership with Hochschule Karlsruhe (HKA) &amp; Hochschule Reutlingen (HsRT)</h5>\n",
       "<p>The dual-degree programmes between UMPSA and HKA are the bachelor’s degree in mechatronics engineering and automotive engineering. We also offered dual-degree master of automotive engineering. Graduates will be equipped with remarkable German engineering and technology for automotive and mechatronics applications.</p>\n",
       "<p>The dual-degree programme between UMPSA and HsRT is the bachelor’s degree in business engineering. Executives equipped with the technical skills and knowledge in business management were said to be the most sought after workers, especially in meeting demands and challenges expected in the Industrial Revolution.</p>\n",
       "<p> </p></div>\n",
       "</div> </div>\n",
       "</div>\n",
       "</div>\n",
       "</div>\n",
       "</div>\n",
       "</div>\n",
       "<div class=\"views-element-container norm-width text-light parallax-bg block-title-1 block-title-left block block-views block-views-blockdiscovery-latest-discovery\" id=\"block-views-block-discovery-latest-discovery\" style=\"background-image: url('/themes/pana/assets/images/bg/bg-main.jpg');background-position: center center;background-repeat: repeat;\">\n",
       "<div class=\"container-wrap clearfix\">\n",
       "<div class=\"block-title-wrap clearfix\">\n",
       "<div class=\"block-title-content\">\n",
       "<h2 class=\"block-title\">Discover UMPSA</h2>\n",
       "<h5 class=\"block-subtitle\">Why browse through the rest when you’ve already found the best at UMPSA</h5> </div>\n",
       "</div>\n",
       "<div class=\"block-content\"><div><div class=\"js-view-dom-id-19980d02a3f7443342d3b0b0ca23f84ef49a725c238474d7e363acb6f091de7d\">\n",
       "<div class=\"views-portfolio-discovery-latest-discovery portfolio-wrapper no-gutter-wrapper\">\n",
       "<div class=\"clearfix shuffle-filters-wrap\">\n",
       "<div class=\"shuffle-filters-container\">\n",
       "<ul class=\"shuffle-filters filter-options\">\n",
       "<li class=\"shuffle-filters-all shuffle-filters-item active\" data-group=\"all\">All</li>\n",
       "</ul>\n",
       "<ul class=\"shuffle-filters filter-options\"><li class=\"shuffle-filters-item\" data-group=\"field_article_category-54\">Beyond Us</li><li class=\"shuffle-filters-item\" data-group=\"field_article_category-51\">Culture</li><li class=\"shuffle-filters-item\" data-group=\"field_article_category-53\">Landmarks</li></ul>\n",
       "</div>\n",
       "</div>\n",
       "<div class=\"shuffle-container\">\n",
       "<div class=\"shuffle-item no-gutter col-sm-12 col-md-6 col-lg-3\" data-groups='[\"field_article_category-54\"]'>\n",
       "<div class=\"shuffle-inner\">\n",
       "<div about=\"/en/discovery/adams-chair\" data-history-node-id=\"387\" role=\"article\">\n",
       "<div class=\"portfolio\">\n",
       "<div class=\"portfolio-item\">\n",
       "<div class=\"portfolio-img\">\n",
       "<a href=\"/en/discovery/adams-chair\"><img alt=\"FKM Reka Kerusi Buat Adam\" height=\"480\" src=\"/sites/default/files/styles/480x480/public/portfolio/FKM%20Reka%20Kerusi%20Buat%20Adam.jpg?itok=5-L_5wCX\" typeof=\"foaf:Image\" width=\"480\"/>\n",
       "</a>\n",
       "</div>\n",
       "<div class=\"portfolio-overlay\">\n",
       "<div class=\"portfolio-label\">\n",
       "<h3 class=\"portfolio-title\"><a href=\"/en/discovery/adams-chair\"><span>Adam’s Chair</span>\n",
       "</a></h3>\n",
       "<div class=\"portfolio-term\"></div>\n",
       "</div>\n",
       "</div>\n",
       "</div>\n",
       "</div>\n",
       "</div>\n",
       "</div>\n",
       "</div>\n",
       "<div class=\"shuffle-item no-gutter col-sm-12 col-md-6 col-lg-3\" data-groups='[\"field_article_category-54\"]'>\n",
       "<div class=\"shuffle-inner\">\n",
       "<div about=\"/en/discovery/kuala-pahang-house\" data-history-node-id=\"251\" role=\"article\">\n",
       "<div class=\"portfolio\">\n",
       "<div class=\"portfolio-item\">\n",
       "<div class=\"portfolio-img\">\n",
       "<a href=\"/en/discovery/kuala-pahang-house\"><img alt=\"kphouse-ump\" height=\"480\" src=\"/sites/default/files/styles/480x480/public/portfolio/kphouse.jpg?itok=e_TKvgs8\" typeof=\"foaf:Image\" width=\"480\"/>\n",
       "</a>\n",
       "</div>\n",
       "<div class=\"portfolio-overlay\">\n",
       "<div class=\"portfolio-label\">\n",
       "<h3 class=\"portfolio-title\"><a href=\"/en/discovery/kuala-pahang-house\"><span>Kuala Pahang House</span>\n",
       "</a></h3>\n",
       "<div class=\"portfolio-term\"></div>\n",
       "</div>\n",
       "</div>\n",
       "</div>\n",
       "</div>\n",
       "</div>\n",
       "</div>\n",
       "</div>\n",
       "<div class=\"shuffle-item no-gutter col-sm-12 col-md-6 col-lg-3\" data-groups='[\"field_article_category-51\"]'>\n",
       "<div class=\"shuffle-inner\">\n",
       "<div about=\"/en/discovery/international-night\" data-history-node-id=\"255\" role=\"article\">\n",
       "<div class=\"portfolio\">\n",
       "<div class=\"portfolio-item\">\n",
       "<div class=\"portfolio-img\">\n",
       "<a href=\"/en/discovery/international-night\"><img alt=\"culture-night\" height=\"480\" src=\"/sites/default/files/styles/480x480/public/portfolio/culture-night.jpg?itok=i7_3NmNg\" typeof=\"foaf:Image\" width=\"480\"/>\n",
       "</a>\n",
       "</div>\n",
       "<div class=\"portfolio-overlay\">\n",
       "<div class=\"portfolio-label\">\n",
       "<h3 class=\"portfolio-title\"><a href=\"/en/discovery/international-night\"><span>International Night</span>\n",
       "</a></h3>\n",
       "<div class=\"portfolio-term\"></div>\n",
       "</div>\n",
       "</div>\n",
       "</div>\n",
       "</div>\n",
       "</div>\n",
       "</div>\n",
       "</div>\n",
       "<div class=\"shuffle-item no-gutter col-sm-12 col-md-6 col-lg-3\" data-groups='[\"field_article_category-53\"]'>\n",
       "<div class=\"shuffle-inner\">\n",
       "<div about=\"/en/discovery/ump-gallery\" data-history-node-id=\"256\" role=\"article\">\n",
       "<div class=\"portfolio\">\n",
       "<div class=\"portfolio-item\">\n",
       "<div class=\"portfolio-img\">\n",
       "<a href=\"/en/discovery/ump-gallery\"><img alt=\"ump-gallery\" height=\"480\" src=\"/sites/default/files/styles/480x480/public/portfolio/galeri.jpg?itok=4IfmwfQM\" typeof=\"foaf:Image\" width=\"480\"/>\n",
       "</a>\n",
       "</div>\n",
       "<div class=\"portfolio-overlay\">\n",
       "<div class=\"portfolio-label\">\n",
       "<h3 class=\"portfolio-title\"><a href=\"/en/discovery/ump-gallery\"><span>UMP Gallery</span>\n",
       "</a></h3>\n",
       "<div class=\"portfolio-term\"></div>\n",
       "</div>\n",
       "</div>\n",
       "</div>\n",
       "</div>\n",
       "</div>\n",
       "</div>\n",
       "</div>\n",
       "</div>\n",
       "</div>\n",
       "<footer>\n",
       "<div class=\"text-center mt-4\"><a class=\"button\" href=\"https://www.umpsa.edu.my/en/discovery\">More to discover</a></div>\n",
       "</footer>\n",
       "</div>\n",
       "</div>\n",
       "</div>\n",
       "</div>\n",
       "</div>\n",
       "</div>\n",
       "</section>\n",
       "<!-- End content wide -->\n",
       "<footer class=\"footer light-footer\" id=\"footer\">\n",
       "<!-- start Footer -->\n",
       "<div class=\"footer-widget\">\n",
       "<div class=\"container\">\n",
       "<div class=\"row\">\n",
       "<!-- Start Footer First Region -->\n",
       "<div class=\"col-md-4 footer-widget-section\">\n",
       "<div class=\"region region-footer-first\">\n",
       "<div class=\"norm-width block-title-1 block-title-left block block-block-content block-block-contente120cb21-5f2d-40a8-92f8-5eaf4c23584f\" id=\"block-footer-about\">\n",
       "<div class=\"container-wrap clearfix\">\n",
       "<div class=\"block-content\">\n",
       "<div class=\"field field-body field-label-hidden field-item\"><div class=\"contact-ump text-center\"><img src=\"/img/logo-umpsa.png\" width=\"150px\"/><br/>\n",
       " \n",
       "<div class=\"text-center\">\n",
       "<h4>UMPSA Pekan</h4>\n",
       "(Main Campus)<br/>\n",
       "Universiti Malaysia Pahang<br/>\n",
       "Al-Sultan Abdullah<br/>\n",
       "26600 Pekan<br/>\n",
       "Pahang, Malaysia<br/>\n",
       "<br/>\n",
       "Tel: +609 431 5000<br/>\n",
       "Fax: +609 431 5555<br/>\n",
       "E-mail: pro@umpsa.edu.my<br/>\n",
       " \n",
       "<h4>UMPSA Gambang</h4>\n",
       "Universiti Malaysia Pahang<br/>\n",
       "Al-Sultan Abdullah<br/>\n",
       "Lebuh Persiaran Tun Khalil Yaakob<br/>\n",
       "26300, Kuantan<br/>\n",
       "Pahang, Malaysia</div>\n",
       "<br/>\n",
       "<!--<br>\n",
       "<a href=\"http://news.ump.edu.my\" target=\"_blank\" class=\"icobtn\"><i class=\"icon ion-ios-paper\"\"></i></a>\n",
       "<a href=\"http://events.ump.edu.my/calendar\" target=\"_blank\" class=\"icobtn\"><i class=\"icon ion-android-calendar\"\"></i></a>\n",
       "<a href=\"https://www.waze.com/ul?ll=3.54370180%2C103.42890600&navigate=yes\" target=\"_blank\" class=\"icobtn\"><i class=\"fab fa-waze osem\"\"></i></a>\n",
       "<a href=\"https://goo.gl/maps/zAfKg2BdrCpLRpWA8\" target=\"_blank\" class=\"icobtn\"><i class=\"fas fa-map-marked-alt osem\"\"></i></a>\n",
       "--><br/>\n",
       " \n",
       "<div class=\"text-center\"><a href=\"http://www.mohe.gov.my/\" target=\"_blank\"><img src=\"/img/logo-kpt.png\" width=\"100\"/></a><br/>\n",
       "<a href=\"https://www.malaysia.gov.my/\" target=\"_blank\"><img src=\"/sites/default/files/2019-12/mygovernment.jpg\" width=\"242\"/> </a></div>\n",
       "<a href=\"https://www.malaysia.gov.my/\" target=\"_blank\"> </a> <a href=\"https://www.malaysia.gov.my/\" target=\"_blank\"> </a><br/>\n",
       "<a href=\"http://bem.org.my/\" target=\"_blank\"><img src=\"/img/bem.png\" width=\"80\"/> </a></div>\n",
       "</div>\n",
       "</div>\n",
       "</div>\n",
       "</div>\n",
       "</div>\n",
       "</div>\n",
       "<!-- End Footer First Region -->\n",
       "<!-- Start Footer Second Region -->\n",
       "<div class=\"col-md-4 footer-widget-section\">\n",
       "<div class=\"region region-footer-second\">\n",
       "<div class=\"cta-style1\">\n",
       "<div class=\"fullwidth framewidth text-light block-title-1 block-title-center block action-block block-block-content block-block-content0501b135-3732-406b-997a-10542d01d0cc\" id=\"block-cta-2\" style=\"background-image: url('/themes/pana/assets/images/bg/bg-utar-view.jpg');background-position: center center;background-repeat: no-repeat;background-size: cover;\">\n",
       "<div class=\"container-wrap clearfix\">\n",
       "<div class=\"cta-wrap action-block-1 text-center\">\n",
       "<div class=\"cta-text margin-bottom-20\">\n",
       "<div class=\"field field-body field-label-hidden field-item\"><h3>Our Location</h3>\n",
       "<p>Please use Waze or Google Map app by clicking the icon below.</p>\n",
       "<div class=\"row\">\n",
       "<div class=\"column-map\"><a href=\"https://www.waze.com/ul?ll=3.54370180%2C103.42890600&amp;navigate=yes\" target=\"_blank\"><img src=\"/themes/pana/assets/images/waze-128.png\" width=\"48\"/></a>   <a href=\"https://goo.gl/maps/zAfKg2BdrCpLRpWA8\" target=\"_blank\"><img src=\"/themes/pana/assets/images/gmap-128.png\" width=\"48\"/></a><br/>\n",
       "Pekan</div>\n",
       "<div class=\"column-map\"><a href=\"https://www.waze.com/ul?ll=3.71849250%2C103.12076400&amp;navigate=yes\" target=\"_blank\"><img src=\"/themes/pana/assets/images/waze-128.png\" width=\"48\"/></a>   <a href=\"https://goo.gl/maps/bVjQERgrszKd17uL6\" target=\"_blank\"><img src=\"/themes/pana/assets/images/gmap-128.png\" width=\"48\"/></a><br/>\n",
       "Gambang</div>\n",
       "</div>\n",
       "<p><a class=\"button button-default\" href=\"/campus-map\">Campus Map</a></p>\n",
       "<p> </p>\n",
       "<p> </p>\n",
       "<p> </p>\n",
       "<p> </p>\n",
       "<p> </p>\n",
       "<p> </p>\n",
       "<h3><a href=\"https://ump.spab.gov.my/\" target=\"_blank\">Feedback</a></h3>\n",
       "<p>Let your voice be heard.</p>\n",
       "</div>\n",
       "</div>\n",
       "<div class=\"nav menu cta-link\"><a class=\"button\" href=\"https://ump.spab.gov.my\">UMPSA Helpdesk</a></div>\n",
       "</div>\n",
       "</div>\n",
       "</div>\n",
       "</div>\n",
       "</div>\n",
       "</div>\n",
       "<!-- End Footer Second Region -->\n",
       "<!-- Start Footer Third Region -->\n",
       "<div class=\"col-md-4 footer-widget-section\">\n",
       "<div class=\"region region-footer-third\">\n",
       "<div class=\"norm-width block-title-1 block-title-left block block-block-content block-block-content39c040d7-9ad5-4811-addc-e915510ba115\" id=\"block-footersupporten\">\n",
       "<div class=\"container-wrap clearfix\">\n",
       "<div class=\"block-content\">\n",
       "<div class=\"field field-body field-label-hidden field-item\"><div class=\"text-center\"><a class=\"button btnlink-three\" href=\"/sites/default/files/2023-08/hebahan-pencarian-protege-2-aug-2023.pdf\" target=\"_blank\">Protege UMPSA</a> <br/>\n",
       "<a class=\"button btnlink-three\" href=\"https://directory.ump.edu.my/\" target=\"_blank\">UMPSA Directory</a><br/>\n",
       "<a class=\"button btnlink-three\" href=\"http://expert.ump.edu.my\" target=\"_blank\">Expert Directory</a><br/>\n",
       "<a class=\"button btnlink-three\" href=\"https://community.ump.edu.my/ecommstaff/Graduate/search_graduate.jsp\" target=\"_blank\">Graduate Search</a><br/>\n",
       "<a class=\"button btnlink-three\" href=\"https://aqua.ump.edu.my/aqua/cms/stdMgmt/index.jsp\" target=\"_blank\">Student Profile System</a><br/>\n",
       "<a class=\"button btnlink-three\" href=\"/faculties-departments\">Faculties/Departments</a><br/>\n",
       "<a class=\"button btnlink-three\" href=\"https://apps.ump.edu.my/ercmt/cms/ercmt/index.jsp\" target=\"_blank\">Career@UMPSA</a><br/>\n",
       "<a class=\"button btnlink-three\" href=\"https://apps.ump.edu.my/vendor/vendor/\" target=\"_blank\">Vendor@UMPSA</a><br/>\n",
       "<a class=\"button btnlink-three\" href=\"https://brand.umpsa.edu.my\" target=\"_blank\">UMPSA Brand</a></div>\n",
       "</div>\n",
       "</div>\n",
       "</div>\n",
       "</div>\n",
       "</div>\n",
       "</div>\n",
       "<!-- End Footer Third Region -->\n",
       "</div>\n",
       "</div>\n",
       "</div>\n",
       "<!--End Footer -->\n",
       "<!-- Copyright -->\n",
       "<div class=\"footer-bottom\">\n",
       "<div class=\"container\">\n",
       "<div class=\"row\">\n",
       "<div class=\"col-12\">\n",
       "<div class=\"copyright text-center\">\n",
       "<div class=\"region region-footerbar\">\n",
       "<nav aria-labelledby=\"block-footer\" class=\"norm-width block-title-1 block-title-center block block-system\" id=\"block-footer\">\n",
       "<div class=\"container-wrap clearfix menu-wrap\">\n",
       "<ul class=\"nav menu menu-parent\">\n",
       "<li class=\"menu-item\">\n",
       "<a data-drupal-link-system-path=\"node/249\" href=\"/en/legal-statement\">Legal Statement</a>\n",
       "</li>\n",
       "<li class=\"menu-item\">\n",
       "<a data-drupal-link-system-path=\"sitemap\" href=\"/en/sitemap\">Sitemap</a>\n",
       "</li>\n",
       "<li class=\"menu-item\">\n",
       "<a href=\"https://brand.ump.edu.my\">UMPSA Brand</a>\n",
       "</li>\n",
       "</ul>\n",
       "</div>\n",
       "</nav>\n",
       "</div>\n",
       "<p>Please use latest browser for the best view.<br/>Copyright ©\n",
       "                                                                                                                                                                                                                                                                            2023\n",
       "                                                                                                                                                                                                                                                                            Official Portal - UMPSA Universiti Malaysia Pahang Al-Sultan Abdullah (Malaysia University) - Public University in Pahang· All rights reserved.\n",
       "                                                                                                                                                                                                                                                                        </p>\n",
       "</div>\n",
       "</div>\n",
       "</div>\n",
       "</div>\n",
       "</div>\n",
       "<!-- End Copyright -->\n",
       "<div class=\"region region-sticky-footer\">\n",
       "<div class=\"norm-width block-title-1 block-title-center block block-block-content block-block-contentada708a0-68c9-42a3-b59a-256063d44496\" id=\"block-stickyfooteren\">\n",
       "<div class=\"container-wrap clearfix\">\n",
       "<div class=\"block-content\">\n",
       "<div class=\"field field-body field-label-hidden field-item\"><div id=\"sticky-footer\">\n",
       "<div class=\"menufooter\">\n",
       "<div class=\"menuitemfooter\"><a class=\"btnfooter use-ajax\" data-dialog-options='{\"width\":800}' data-dialog-type=\"modal\" href=\"/online-app\"><span><i class=\"fas fa-desktop icon-sticky\"></i><br/>Applications</span></a></div>\n",
       "<div class=\"menuitemfooter\"><a class=\"btnfooter use-ajax\" data-dialog-options='{\"width\":800}' data-dialog-type=\"modal\" href=\"/personalization\"><span><i class=\"far fa-user-circle icon-sticky\"></i><br/>User</span></a></div>\n",
       "<div class=\"menuitemfooter\"><a href=\"/3333\"><span style=\"color:red;\"><i class=\"fas fa-hand-holding-heart icon-sticky\"></i><br/>Res-Q</span></a></div>\n",
       "<!--<div class=\"menuitemfooter\"><a href=\"/covid-19\"><span style=\"color:red;\"><i class=\"fas fa-virus icon-sticky\"></i><br />Covid-19</span></a></div>-->\n",
       "<div class=\"menuitemfooter\"><a class=\"btnfooter use-ajax\" data-dialog-options='{\"width\":800}' data-dialog-type=\"modal\" href=\"/ms/search/google\"><span><i class=\"fas fa-search icon-sticky\"></i><br/>Search</span></a></div>\n",
       "<div class=\"menuitemfooter\"><a class=\"btnfooter\" href=\"https://ecomm.ump.edu.my\" target=\"_blank\"><i class=\"fas fa-id-badge icon-sticky\"></i><br/>E-Comm</a></div>\n",
       "</div>\n",
       "</div>\n",
       "</div>\n",
       "</div>\n",
       "</div>\n",
       "</div>\n",
       "</div>\n",
       "</footer>\n",
       "<script type=\"text/javascript\">\n",
       "                                                                                                                                                                                                                                                var onWebChat = {\n",
       "                                                                                                                                                                                                                                                    ar: [],\n",
       "                                                                                                                                                                                                                                                    set: function (a, b) {\n",
       "                                                                                                                                                                                                                                                        if (typeof onWebChat_ === 'undefined') {\n",
       "                                                                                                                                                                                                                                                            this.ar.push([a, b]);\n",
       "                                                                                                                                                                                                                                                        } else {\n",
       "                                                                                                                                                                                                                                                            onWebChat_.set(a, b);\n",
       "                                                                                                                                                                                                                                                        }\n",
       "                                                                                                                                                                                                                                                    },\n",
       "                                                                                                                                                                                                                                                    get: function (a) {\n",
       "                                                                                                                                                                                                                                                        return(onWebChat_.get(a));\n",
       "                                                                                                                                                                                                                                                    },\n",
       "                                                                                                                                                                                                                                                    w: (function () {\n",
       "                                                                                                                                                                                                                                                        var ga = document.createElement('script');\n",
       "                                                                                                                                                                                                                                                        ga.type = 'text/javascript';\n",
       "                                                                                                                                                                                                                                                        ga.async = 1;\n",
       "                                                                                                                                                                                                                                                        ga.src = (\n",
       "                                                                                                                                                                                                                                                            'https:' == document.location.protocol\n",
       "                                                                                                                                                                                                                                                                ? 'https:'\n",
       "                                                                                                                                                                                                                                                                : 'http:'\n",
       "                                                                                                                                                                                                                                                        ) + '//www.onwebchat.com/clientchat/8be3bacf3b75f3cf2231cf8b7f2027c5';\n",
       "                                                                                                                                                                                                                                                        var s = document.getElementsByTagName('script')[0];\n",
       "                                                                                                                                                                                                                                                        s.parentNode.insertBefore(ga, s);\n",
       "                                                                                                                                                                                                                                                    })()\n",
       "                                                                                                                                                                                                                                                }\n",
       "                                                                                                                                                                                                                                            </script>\n",
       "</div>\n",
       "</div>\n",
       "</div>\n",
       "<script data-drupal-selector=\"drupal-settings-json\" type=\"application/json\">{\"path\":{\"baseUrl\":\"\\/\",\"scriptPath\":null,\"pathPrefix\":\"en\\/\",\"currentPath\":\"node\\/217\",\"currentPathIsAdmin\":false,\"isFront\":true,\"currentLanguage\":\"en\"},\"pluralDelimiter\":\"\\u0003\",\"ajaxPageState\":{\"libraries\":\"core\\/html5shiv,field_timer\\/init,field_timer\\/jquery.countdown,fontawesome\\/fontawesome.webfonts,google_analytics\\/google_analytics,pana\\/animation,pana\\/bootstrap,pana\\/bootstrap-number-input,pana\\/font-awesome,pana\\/fonts,pana\\/global-components,pana\\/ionicons,pana\\/niceselect,pana\\/owl-carousel,pana\\/slimscroll,pana\\/smartmenus,portfolio\\/shuffle,statistics\\/drupal.statistics,system\\/base,views\\/views.module\",\"theme\":\"pana\",\"theme_token\":null},\"ajaxTrustedUrl\":[],\"google_analytics\":{\"trackOutbound\":true,\"trackMailto\":true,\"trackDownload\":true,\"trackDownloadExtensions\":\"7z|aac|arc|arj|asf|asx|avi|bin|csv|doc(x|m)?|dot(x|m)?|exe|flv|gif|gz|gzip|hqx|jar|jpe?g|js|mp(2|3|4|e?g)|mov(ie)?|msi|msp|pdf|phps|png|ppt(x|m)?|pot(x|m)?|pps(x|m)?|ppam|sld(x|m)?|thmx|qtm?|ra(m|r)?|sea|sit|tar|tgz|torrent|txt|wav|wma|wmv|wpd|xls(x|m|b)?|xlt(x|m)|xlam|xml|z|zip\",\"trackColorbox\":true},\"statistics\":{\"data\":{\"nid\":\"217\"},\"url\":\"\\/core\\/modules\\/statistics\\/statistics.php\"},\"field_timer\":[],\"portfolio\":{\"views-portfolio-discovery-latest-discovery\":{\"display\":\"latest_discovery\",\"viewname\":\"discovery\",\"speed\":\"250\",\"easing\":\"ease-out\",\"lg\":\"3\",\"md\":\"6\",\"sm\":\"12\",\"nogutter\":1,\"filter\":\"field_article_category\"}},\"user\":{\"uid\":0,\"permissionsHash\":\"ff19a559b980ba3b76f0486f502e65eaf8e10acf0f8c9516e0d574badf84e41f\"}}</script>\n",
       "<script src=\"/core/assets/vendor/domready/ready.min.js?v=1.0.8\"></script>\n",
       "<script src=\"/core/assets/vendor/jquery/jquery.min.js?v=3.2.1\"></script>\n",
       "<script src=\"/core/assets/vendor/jquery-once/jquery.once.min.js?v=2.2.0\"></script>\n",
       "<script src=\"/core/misc/drupalSettingsLoader.js?v=8.6.13\"></script>\n",
       "<script src=\"/core/misc/drupal.js?v=8.6.13\"></script>\n",
       "<script src=\"/core/misc/drupal.init.js?v=8.6.13\"></script>\n",
       "<script src=\"/core/assets/vendor/jquery.ui/ui/data-min.js?v=1.12.1\"></script>\n",
       "<script src=\"/core/assets/vendor/jquery.ui/ui/disable-selection-min.js?v=1.12.1\"></script>\n",
       "<script src=\"/core/assets/vendor/jquery.ui/ui/form-min.js?v=1.12.1\"></script>\n",
       "<script src=\"/core/assets/vendor/jquery.ui/ui/labels-min.js?v=1.12.1\"></script>\n",
       "<script src=\"/core/assets/vendor/jquery.ui/ui/jquery-1-7-min.js?v=1.12.1\"></script>\n",
       "<script src=\"/core/assets/vendor/jquery.ui/ui/scroll-parent-min.js?v=1.12.1\"></script>\n",
       "<script src=\"/core/assets/vendor/jquery.ui/ui/tabbable-min.js?v=1.12.1\"></script>\n",
       "<script src=\"/core/assets/vendor/jquery.ui/ui/unique-id-min.js?v=1.12.1\"></script>\n",
       "<script src=\"/core/assets/vendor/jquery.ui/ui/version-min.js?v=1.12.1\"></script>\n",
       "<script src=\"/core/assets/vendor/jquery.ui/ui/focusable-min.js?v=1.12.1\"></script>\n",
       "<script src=\"/core/assets/vendor/jquery.ui/ui/ie-min.js?v=1.12.1\"></script>\n",
       "<script src=\"/core/assets/vendor/jquery.ui/ui/keycode-min.js?v=1.12.1\"></script>\n",
       "<script src=\"/core/assets/vendor/jquery.ui/ui/plugin-min.js?v=1.12.1\"></script>\n",
       "<script src=\"/core/assets/vendor/jquery.ui/ui/safe-active-element-min.js?v=1.12.1\"></script>\n",
       "<script src=\"/core/assets/vendor/jquery.ui/ui/safe-blur-min.js?v=1.12.1\"></script>\n",
       "<script src=\"/core/assets/vendor/jquery.ui/ui/widget-min.js?v=1.12.1\"></script>\n",
       "<script src=\"/modules/custom/google_analytics/js/google_analytics.js?v=8.6.13\"></script>\n",
       "<script src=\"/themes/pana/assets/lib/bootstrap/js/bootstrap.min.js?v=8.6.13\"></script>\n",
       "<script src=\"/themes/pana/assets/lib/bootstrap/js/bootstrap-number-input-init.js?v=8.6.13\"></script>\n",
       "<script src=\"/themes/pana/assets/lib/bootstrap/js/bootstrap-number-input.js?v=8.6.13\"></script>\n",
       "<script src=\"/themes/pana/assets/lib/owl-carousel/owl.carousel.min.js?v=8.6.13\"></script>\n",
       "<script src=\"/themes/pana/assets/lib/shuffle/js/shuffle.modernizr.min.js?v=8.6.13\"></script>\n",
       "<script src=\"/themes/pana/assets/lib/shuffle/js/shuffle.min.js?v=8.6.13\"></script>\n",
       "<script src=\"/themes/pana/assets/lib/jQuery-slimScroll/jquery.slimscroll.min.js?v=8.6.13\"></script>\n",
       "<script src=\"/themes/pana/assets/lib/nice-select/js/jquery.nice-select.min.js?v=8.6.13\"></script>\n",
       "<script src=\"/themes/pana/assets/lib/smartmenus/jquery.smartmenus.min.js?v=8.6.13\"></script>\n",
       "<script src=\"/core/misc/progress.js?v=8.6.13\"></script>\n",
       "<script src=\"/core/misc/ajax.js?v=8.6.13\"></script>\n",
       "<script src=\"/core/misc/debounce.js?v=8.6.13\"></script>\n",
       "<script src=\"/core/misc/displace.js?v=8.6.13\"></script>\n",
       "<script src=\"/core/assets/vendor/jquery.ui/ui/widgets/button-min.js?v=1.12.1\"></script>\n",
       "<script src=\"/core/assets/vendor/jquery.ui/ui/widgets/mouse-min.js?v=1.12.1\"></script>\n",
       "<script src=\"/core/assets/vendor/jquery.ui/ui/widgets/draggable-min.js?v=1.12.1\"></script>\n",
       "<script src=\"/core/assets/vendor/jquery.ui/ui/position-min.js?v=1.12.1\"></script>\n",
       "<script src=\"/core/assets/vendor/jquery.ui/ui/widgets/resizable-min.js?v=1.12.1\"></script>\n",
       "<script src=\"/core/assets/vendor/jquery.ui/ui/widgets/dialog-min.js?v=1.12.1\"></script>\n",
       "<script src=\"/core/misc/dialog/dialog.js?v=8.6.13\"></script>\n",
       "<script src=\"/core/misc/dialog/dialog.position.js?v=8.6.13\"></script>\n",
       "<script src=\"/core/misc/dialog/dialog.jquery-ui.js?v=8.6.13\"></script>\n",
       "<script src=\"/core/misc/dialog/dialog.ajax.js?v=8.6.13\"></script>\n",
       "<script src=\"/themes/pana/assets/js/jquery.easing.min.js?s692ch\"></script>\n",
       "<script src=\"/themes/pana/assets/js/jquery.appear.js?s692ch\"></script>\n",
       "<script src=\"/themes/pana/assets/js/jquery.easypiechart.min.js?s692ch\"></script>\n",
       "<script src=\"/themes/pana/assets/js/jquery.countTo.js?s692ch\"></script>\n",
       "<script src=\"/themes/pana/assets/js/progress-bar.js?s692ch\"></script>\n",
       "<script src=\"/themes/pana/assets/js/script.js?s692ch\"></script>\n",
       "<script src=\"/libraries/ddslick/jquery.ddslick.min.js?s692ch\"></script>\n",
       "<script src=\"/core/modules/statistics/statistics.js?v=8.6.13\"></script>\n",
       "<script src=\"/libraries/jquery.countdown/js/jquery.plugin.min.js?v=2.1.0\"></script>\n",
       "<script src=\"/libraries/jquery.countdown/js/jquery.countdown.min.js?v=2.1.0\"></script>\n",
       "<script src=\"/modules/contrib/field_timer/js/field_timer.js?v=8.6.13\"></script>\n",
       "<script src=\"/modules/custom/portfolio/js/shuffle.js?s692ch\"></script>\n",
       "</body>\n",
       "</html>"
      ]
     },
     "execution_count": 8,
     "metadata": {},
     "output_type": "execute_result"
    }
   ],
   "source": [
    "soup"
   ]
  },
  {
   "cell_type": "code",
   "execution_count": 9,
   "metadata": {},
   "outputs": [
    {
     "data": {
      "text/plain": [
       "[<title>UMPSA Frontpage | Official Portal - UMPSA Universiti Malaysia Pahang Al-Sultan Abdullah (Malaysia University) - Public University in Pahang</title>]"
      ]
     },
     "execution_count": 9,
     "metadata": {},
     "output_type": "execute_result"
    }
   ],
   "source": [
    "soup.select('title')"
   ]
  },
  {
   "cell_type": "code",
   "execution_count": 10,
   "metadata": {},
   "outputs": [],
   "source": [
    "title_tag = soup.select('title')"
   ]
  },
  {
   "cell_type": "code",
   "execution_count": 11,
   "metadata": {},
   "outputs": [
    {
     "data": {
      "text/plain": [
       "<title>UMPSA Frontpage | Official Portal - UMPSA Universiti Malaysia Pahang Al-Sultan Abdullah (Malaysia University) - Public University in Pahang</title>"
      ]
     },
     "execution_count": 11,
     "metadata": {},
     "output_type": "execute_result"
    }
   ],
   "source": [
    "title_tag[0]"
   ]
  },
  {
   "cell_type": "code",
   "execution_count": 12,
   "metadata": {},
   "outputs": [
    {
     "data": {
      "text/plain": [
       "bs4.element.Tag"
      ]
     },
     "execution_count": 12,
     "metadata": {},
     "output_type": "execute_result"
    }
   ],
   "source": [
    "type(title_tag[0])"
   ]
  },
  {
   "cell_type": "code",
   "execution_count": 13,
   "metadata": {},
   "outputs": [
    {
     "data": {
      "text/plain": [
       "'UMPSA Frontpage | Official Portal - UMPSA Universiti Malaysia Pahang Al-Sultan Abdullah (Malaysia University) - Public University in Pahang'"
      ]
     },
     "execution_count": 13,
     "metadata": {},
     "output_type": "execute_result"
    }
   ],
   "source": [
    "title_tag[0].getText()"
   ]
  },
  {
   "cell_type": "code",
   "execution_count": null,
   "metadata": {},
   "outputs": [],
   "source": []
  },
  {
   "cell_type": "markdown",
   "metadata": {},
   "source": [
    "### Grabbing all the elements of a class"
   ]
  },
  {
   "cell_type": "code",
   "execution_count": 14,
   "metadata": {},
   "outputs": [],
   "source": [
    "import bs4\n",
    "\n",
    "\n",
    "# First get the request\n",
    "res = requests.get('https://en.wikipedia.org/wiki/Data_mining')"
   ]
  },
  {
   "cell_type": "code",
   "execution_count": 15,
   "metadata": {},
   "outputs": [],
   "source": [
    "# Create a soup from request\n",
    "soup = bs4.BeautifulSoup(res.text,\"lxml\")"
   ]
  },
  {
   "cell_type": "code",
   "execution_count": 16,
   "metadata": {},
   "outputs": [
    {
     "data": {
      "text/plain": [
       "[]"
      ]
     },
     "execution_count": 16,
     "metadata": {},
     "output_type": "execute_result"
    }
   ],
   "source": [
    "# note depending on your IP Address, \n",
    "# this class may be called something different\n",
    "soup.select(\".toctext\")"
   ]
  },
  {
   "cell_type": "code",
   "execution_count": 17,
   "metadata": {},
   "outputs": [],
   "source": [
    "for item in soup.select(\".toctext\"):\n",
    "    print(item.text)"
   ]
  },
  {
   "cell_type": "code",
   "execution_count": null,
   "metadata": {},
   "outputs": [],
   "source": []
  },
  {
   "cell_type": "code",
   "execution_count": null,
   "metadata": {},
   "outputs": [],
   "source": []
  },
  {
   "cell_type": "code",
   "execution_count": null,
   "metadata": {},
   "outputs": [],
   "source": []
  },
  {
   "cell_type": "code",
   "execution_count": null,
   "metadata": {},
   "outputs": [],
   "source": []
  },
  {
   "cell_type": "markdown",
   "metadata": {},
   "source": [
    "### Getting an image from a website"
   ]
  },
  {
   "cell_type": "code",
   "execution_count": 18,
   "metadata": {},
   "outputs": [],
   "source": [
    "res = requests.get(\"https://en.wikipedia.org/wiki/Extreme_ironing\")"
   ]
  },
  {
   "cell_type": "code",
   "execution_count": 19,
   "metadata": {},
   "outputs": [],
   "source": [
    "soup = bs4.BeautifulSoup(res.text,'lxml')"
   ]
  },
  {
   "cell_type": "code",
   "execution_count": 20,
   "metadata": {},
   "outputs": [],
   "source": [
    "image_info = soup.select('.thumbimage')"
   ]
  },
  {
   "cell_type": "code",
   "execution_count": 21,
   "metadata": {},
   "outputs": [
    {
     "data": {
      "text/plain": [
       "[]"
      ]
     },
     "execution_count": 21,
     "metadata": {},
     "output_type": "execute_result"
    }
   ],
   "source": [
    "image_info"
   ]
  },
  {
   "cell_type": "code",
   "execution_count": 22,
   "metadata": {},
   "outputs": [
    {
     "data": {
      "text/plain": [
       "0"
      ]
     },
     "execution_count": 22,
     "metadata": {},
     "output_type": "execute_result"
    }
   ],
   "source": [
    "len(image_info)"
   ]
  },
  {
   "cell_type": "code",
   "execution_count": 23,
   "metadata": {},
   "outputs": [
    {
     "ename": "IndexError",
     "evalue": "list index out of range",
     "output_type": "error",
     "traceback": [
      "\u001b[1;31m---------------------------------------------------------------------------\u001b[0m",
      "\u001b[1;31mIndexError\u001b[0m                                Traceback (most recent call last)",
      "Cell \u001b[1;32mIn[23], line 1\u001b[0m\n\u001b[1;32m----> 1\u001b[0m our_image \u001b[38;5;241m=\u001b[39m image_info[\u001b[38;5;241m0\u001b[39m]\n",
      "\u001b[1;31mIndexError\u001b[0m: list index out of range"
     ]
    }
   ],
   "source": [
    "our_image = image_info[0]"
   ]
  },
  {
   "cell_type": "code",
   "execution_count": null,
   "metadata": {},
   "outputs": [],
   "source": [
    "type(image_info)"
   ]
  },
  {
   "cell_type": "code",
   "execution_count": 24,
   "metadata": {},
   "outputs": [
    {
     "ename": "NameError",
     "evalue": "name 'our_image' is not defined",
     "output_type": "error",
     "traceback": [
      "\u001b[1;31m---------------------------------------------------------------------------\u001b[0m",
      "\u001b[1;31mNameError\u001b[0m                                 Traceback (most recent call last)",
      "Cell \u001b[1;32mIn[24], line 1\u001b[0m\n\u001b[1;32m----> 1\u001b[0m our_image[\u001b[38;5;124m'\u001b[39m\u001b[38;5;124msrc\u001b[39m\u001b[38;5;124m'\u001b[39m]\n",
      "\u001b[1;31mNameError\u001b[0m: name 'our_image' is not defined"
     ]
    }
   ],
   "source": [
    "\n",
    "\n",
    "our_image['src']"
   ]
  },
  {
   "cell_type": "code",
   "execution_count": 25,
   "metadata": {},
   "outputs": [],
   "source": [
    "\n",
    "image_link = requests.get('http://upload.wikimedia.org/wikipedia/commons/thumb/d/dc/Extermeironingrivelin.jpg/220px-Extermeironingrivelin.jpg')"
   ]
  },
  {
   "cell_type": "code",
   "execution_count": 26,
   "metadata": {
    "scrolled": true
   },
   "outputs": [
    {
     "data": {
      "text/plain": [
       "<Response [200]>"
      ]
     },
     "execution_count": 26,
     "metadata": {},
     "output_type": "execute_result"
    }
   ],
   "source": [
    "image_link"
   ]
  },
  {
   "cell_type": "markdown",
   "metadata": {},
   "source": [
    "<img src='//upload.wikimedia.org/wikipedia/commons/thumb/d/dc/Extermeironingrivelin.jpg/220px-Extermeironingrivelin.jpg'>\n",
    "\n",
    "#### Get from the inspect element for image link."
   ]
  },
  {
   "cell_type": "markdown",
   "metadata": {},
   "source": [
    "<img src='//upload.wikimedia.org/wikipedia/commons/thumb/d/dc/Extermeironingrivelin.jpg/220px-Extermeironingrivelin.jpg'>\n",
    "\n",
    "#### Get from the inspect element for image link."
   ]
  },
  {
   "attachments": {
    "220px-Extermeironingrivelin.jpg": {
     "image/jpeg": "[encoded data removed]"
    }
   },
   "cell_type": "markdown",
   "metadata": {},
   "source": [
    "![220px-Extermeironingrivelin.jpg](attachment:220px-Extermeironingrivelin.jpg)"
   ]
  },
  {
   "cell_type": "markdown",
   "metadata": {},
   "source": []
  },
  {
   "cell_type": "code",
   "execution_count": 27,
   "metadata": {},
   "outputs": [],
   "source": [
    "# The raw content (its a binary file, meaning we will need to use binary read/write methods for saving it)\n",
    "# image_link.content"
   ]
  },
  {
   "cell_type": "code",
   "execution_count": 28,
   "metadata": {},
   "outputs": [],
   "source": [
    "f = open('Extreme_ironing.jpg','wb')"
   ]
  },
  {
   "cell_type": "code",
   "execution_count": 29,
   "metadata": {},
   "outputs": [
    {
     "data": {
      "text/plain": [
       "11033"
      ]
     },
     "execution_count": 29,
     "metadata": {},
     "output_type": "execute_result"
    }
   ],
   "source": [
    "f.write(image_link.content)"
   ]
  },
  {
   "cell_type": "code",
   "execution_count": 30,
   "metadata": {},
   "outputs": [],
   "source": [
    "f.close()"
   ]
  },
  {
   "cell_type": "code",
   "execution_count": null,
   "metadata": {},
   "outputs": [],
   "source": []
  },
  {
   "cell_type": "markdown",
   "metadata": {},
   "source": [
    "### Working with multiple pages and items"
   ]
  },
  {
   "cell_type": "code",
   "execution_count": 31,
   "metadata": {},
   "outputs": [],
   "source": [
    "base_url = 'http://books.toscrape.com/catalogue/page-{}.html'"
   ]
  },
  {
   "cell_type": "code",
   "execution_count": 45,
   "metadata": {},
   "outputs": [],
   "source": [
    "res = requests.get(base_url.format('1'))"
   ]
  },
  {
   "cell_type": "code",
   "execution_count": 46,
   "metadata": {},
   "outputs": [],
   "source": [
    "soup = bs4.BeautifulSoup(res.text,\"lxml\")"
   ]
  },
  {
   "cell_type": "code",
   "execution_count": 47,
   "metadata": {},
   "outputs": [],
   "source": [
    "products = soup.select(\".product_pod\")"
   ]
  },
  {
   "cell_type": "code",
   "execution_count": 48,
   "metadata": {},
   "outputs": [],
   "source": [
    "example = products[0]"
   ]
  },
  {
   "cell_type": "code",
   "execution_count": 49,
   "metadata": {},
   "outputs": [
    {
     "data": {
      "text/plain": [
       "<article class=\"product_pod\">\n",
       "<div class=\"image_container\">\n",
       "<a href=\"a-light-in-the-attic_1000/index.html\"><img alt=\"A Light in the Attic\" class=\"thumbnail\" src=\"../media/cache/2c/da/2cdad67c44b002e7ead0cc35693c0e8b.jpg\"/></a>\n",
       "</div>\n",
       "<p class=\"star-rating Three\">\n",
       "<i class=\"icon-star\"></i>\n",
       "<i class=\"icon-star\"></i>\n",
       "<i class=\"icon-star\"></i>\n",
       "<i class=\"icon-star\"></i>\n",
       "<i class=\"icon-star\"></i>\n",
       "</p>\n",
       "<h3><a href=\"a-light-in-the-attic_1000/index.html\" title=\"A Light in the Attic\">A Light in the ...</a></h3>\n",
       "<div class=\"product_price\">\n",
       "<p class=\"price_color\">Â£51.77</p>\n",
       "<p class=\"instock availability\">\n",
       "<i class=\"icon-ok\"></i>\n",
       "    \n",
       "        In stock\n",
       "    \n",
       "</p>\n",
       "<form>\n",
       "<button class=\"btn btn-primary btn-block\" data-loading-text=\"Adding...\" type=\"submit\">Add to basket</button>\n",
       "</form>\n",
       "</div>\n",
       "</article>"
      ]
     },
     "execution_count": 49,
     "metadata": {},
     "output_type": "execute_result"
    }
   ],
   "source": [
    "example"
   ]
  },
  {
   "cell_type": "code",
   "execution_count": 50,
   "metadata": {
    "scrolled": true
   },
   "outputs": [
    {
     "data": {
      "text/plain": [
       "bs4.element.Tag"
      ]
     },
     "execution_count": 50,
     "metadata": {},
     "output_type": "execute_result"
    }
   ],
   "source": [
    "type(example)"
   ]
  },
  {
   "cell_type": "code",
   "execution_count": 51,
   "metadata": {},
   "outputs": [
    {
     "data": {
      "text/plain": [
       "{'class': ['product_pod']}"
      ]
     },
     "execution_count": 51,
     "metadata": {},
     "output_type": "execute_result"
    }
   ],
   "source": [
    "example.attrs"
   ]
  },
  {
   "cell_type": "code",
   "execution_count": 52,
   "metadata": {},
   "outputs": [
    {
     "data": {
      "text/plain": [
       "['\\n',\n",
       " <div class=\"image_container\">\n",
       " <a href=\"a-light-in-the-attic_1000/index.html\"><img alt=\"A Light in the Attic\" class=\"thumbnail\" src=\"../media/cache/2c/da/2cdad67c44b002e7ead0cc35693c0e8b.jpg\"/></a>\n",
       " </div>,\n",
       " '\\n',\n",
       " <p class=\"star-rating Three\">\n",
       " <i class=\"icon-star\"></i>\n",
       " <i class=\"icon-star\"></i>\n",
       " <i class=\"icon-star\"></i>\n",
       " <i class=\"icon-star\"></i>\n",
       " <i class=\"icon-star\"></i>\n",
       " </p>,\n",
       " '\\n',\n",
       " <h3><a href=\"a-light-in-the-attic_1000/index.html\" title=\"A Light in the Attic\">A Light in the ...</a></h3>,\n",
       " '\\n',\n",
       " <div class=\"product_price\">\n",
       " <p class=\"price_color\">Â£51.77</p>\n",
       " <p class=\"instock availability\">\n",
       " <i class=\"icon-ok\"></i>\n",
       "     \n",
       "         In stock\n",
       "     \n",
       " </p>\n",
       " <form>\n",
       " <button class=\"btn btn-primary btn-block\" data-loading-text=\"Adding...\" type=\"submit\">Add to basket</button>\n",
       " </form>\n",
       " </div>,\n",
       " '\\n']"
      ]
     },
     "execution_count": 52,
     "metadata": {},
     "output_type": "execute_result"
    }
   ],
   "source": [
    "list(example.children)"
   ]
  },
  {
   "cell_type": "code",
   "execution_count": 55,
   "metadata": {},
   "outputs": [
    {
     "data": {
      "text/plain": [
       "[<p class=\"star-rating Three\">\n",
       " <i class=\"icon-star\"></i>\n",
       " <i class=\"icon-star\"></i>\n",
       " <i class=\"icon-star\"></i>\n",
       " <i class=\"icon-star\"></i>\n",
       " <i class=\"icon-star\"></i>\n",
       " </p>]"
      ]
     },
     "execution_count": 55,
     "metadata": {},
     "output_type": "execute_result"
    }
   ],
   "source": [
    "example.select('.star-rating.Three')"
   ]
  },
  {
   "cell_type": "code",
   "execution_count": 64,
   "metadata": {},
   "outputs": [
    {
     "data": {
      "text/plain": [
       "[]"
      ]
     },
     "execution_count": 64,
     "metadata": {},
     "output_type": "execute_result"
    }
   ],
   "source": [
    "example.select('.star-rating.Two')"
   ]
  },
  {
   "cell_type": "code",
   "execution_count": 65,
   "metadata": {},
   "outputs": [
    {
     "data": {
      "text/plain": [
       "[<a href=\"a-light-in-the-attic_1000/index.html\"><img alt=\"A Light in the Attic\" class=\"thumbnail\" src=\"../media/cache/2c/da/2cdad67c44b002e7ead0cc35693c0e8b.jpg\"/></a>,\n",
       " <a href=\"a-light-in-the-attic_1000/index.html\" title=\"A Light in the Attic\">A Light in the ...</a>]"
      ]
     },
     "execution_count": 65,
     "metadata": {},
     "output_type": "execute_result"
    }
   ],
   "source": [
    "example.select('a')"
   ]
  },
  {
   "cell_type": "code",
   "execution_count": 66,
   "metadata": {},
   "outputs": [
    {
     "data": {
      "text/plain": [
       "<a href=\"a-light-in-the-attic_1000/index.html\"><img alt=\"A Light in the Attic\" class=\"thumbnail\" src=\"../media/cache/2c/da/2cdad67c44b002e7ead0cc35693c0e8b.jpg\"/></a>"
      ]
     },
     "execution_count": 66,
     "metadata": {},
     "output_type": "execute_result"
    }
   ],
   "source": [
    "example.select('a')[0]"
   ]
  },
  {
   "cell_type": "code",
   "execution_count": 67,
   "metadata": {},
   "outputs": [
    {
     "data": {
      "text/plain": [
       "<a href=\"a-light-in-the-attic_1000/index.html\" title=\"A Light in the Attic\">A Light in the ...</a>"
      ]
     },
     "execution_count": 67,
     "metadata": {},
     "output_type": "execute_result"
    }
   ],
   "source": [
    "example.select('a')[1]"
   ]
  },
  {
   "cell_type": "code",
   "execution_count": 68,
   "metadata": {},
   "outputs": [
    {
     "data": {
      "text/plain": [
       "'A Light in the Attic'"
      ]
     },
     "execution_count": 68,
     "metadata": {},
     "output_type": "execute_result"
    }
   ],
   "source": [
    "example.select('a')[1]['title']"
   ]
  },
  {
   "cell_type": "code",
   "execution_count": 69,
   "metadata": {},
   "outputs": [
    {
     "ename": "ConnectionError",
     "evalue": "HTTPConnectionPool(host='books.toscrape.com', port=80): Max retries exceeded with url: /catalogue/page-2.html (Caused by NewConnectionError('<urllib3.connection.HTTPConnection object at 0x000002908269F9D0>: Failed to establish a new connection: [WinError 10060] A connection attempt failed because the connected party did not properly respond after a period of time, or established connection failed because connected host has failed to respond'))",
     "output_type": "error",
     "traceback": [
      "\u001b[1;31m---------------------------------------------------------------------------\u001b[0m",
      "\u001b[1;31mTimeoutError\u001b[0m                              Traceback (most recent call last)",
      "\u001b[1;32m~\\anaconda3\\lib\\site-packages\\urllib3\\connection.py\u001b[0m in \u001b[0;36m_new_conn\u001b[1;34m(self)\u001b[0m\n\u001b[0;32m    173\u001b[0m         \u001b[1;32mtry\u001b[0m\u001b[1;33m:\u001b[0m\u001b[1;33m\u001b[0m\u001b[1;33m\u001b[0m\u001b[0m\n\u001b[1;32m--> 174\u001b[1;33m             conn = connection.create_connection(\n\u001b[0m\u001b[0;32m    175\u001b[0m                 \u001b[1;33m(\u001b[0m\u001b[0mself\u001b[0m\u001b[1;33m.\u001b[0m\u001b[0m_dns_host\u001b[0m\u001b[1;33m,\u001b[0m \u001b[0mself\u001b[0m\u001b[1;33m.\u001b[0m\u001b[0mport\u001b[0m\u001b[1;33m)\u001b[0m\u001b[1;33m,\u001b[0m \u001b[0mself\u001b[0m\u001b[1;33m.\u001b[0m\u001b[0mtimeout\u001b[0m\u001b[1;33m,\u001b[0m \u001b[1;33m**\u001b[0m\u001b[0mextra_kw\u001b[0m\u001b[1;33m\u001b[0m\u001b[1;33m\u001b[0m\u001b[0m\n",
      "\u001b[1;32m~\\anaconda3\\lib\\site-packages\\urllib3\\util\\connection.py\u001b[0m in \u001b[0;36mcreate_connection\u001b[1;34m(address, timeout, source_address, socket_options)\u001b[0m\n\u001b[0;32m     94\u001b[0m     \u001b[1;32mif\u001b[0m \u001b[0merr\u001b[0m \u001b[1;32mis\u001b[0m \u001b[1;32mnot\u001b[0m \u001b[1;32mNone\u001b[0m\u001b[1;33m:\u001b[0m\u001b[1;33m\u001b[0m\u001b[1;33m\u001b[0m\u001b[0m\n\u001b[1;32m---> 95\u001b[1;33m         \u001b[1;32mraise\u001b[0m \u001b[0merr\u001b[0m\u001b[1;33m\u001b[0m\u001b[1;33m\u001b[0m\u001b[0m\n\u001b[0m\u001b[0;32m     96\u001b[0m \u001b[1;33m\u001b[0m\u001b[0m\n",
      "\u001b[1;32m~\\anaconda3\\lib\\site-packages\\urllib3\\util\\connection.py\u001b[0m in \u001b[0;36mcreate_connection\u001b[1;34m(address, timeout, source_address, socket_options)\u001b[0m\n\u001b[0;32m     84\u001b[0m                 \u001b[0msock\u001b[0m\u001b[1;33m.\u001b[0m\u001b[0mbind\u001b[0m\u001b[1;33m(\u001b[0m\u001b[0msource_address\u001b[0m\u001b[1;33m)\u001b[0m\u001b[1;33m\u001b[0m\u001b[1;33m\u001b[0m\u001b[0m\n\u001b[1;32m---> 85\u001b[1;33m             \u001b[0msock\u001b[0m\u001b[1;33m.\u001b[0m\u001b[0mconnect\u001b[0m\u001b[1;33m(\u001b[0m\u001b[0msa\u001b[0m\u001b[1;33m)\u001b[0m\u001b[1;33m\u001b[0m\u001b[1;33m\u001b[0m\u001b[0m\n\u001b[0m\u001b[0;32m     86\u001b[0m             \u001b[1;32mreturn\u001b[0m \u001b[0msock\u001b[0m\u001b[1;33m\u001b[0m\u001b[1;33m\u001b[0m\u001b[0m\n",
      "\u001b[1;31mTimeoutError\u001b[0m: [WinError 10060] A connection attempt failed because the connected party did not properly respond after a period of time, or established connection failed because connected host has failed to respond",
      "\nDuring handling of the above exception, another exception occurred:\n",
      "\u001b[1;31mNewConnectionError\u001b[0m                        Traceback (most recent call last)",
      "\u001b[1;32m~\\anaconda3\\lib\\site-packages\\urllib3\\connectionpool.py\u001b[0m in \u001b[0;36murlopen\u001b[1;34m(self, method, url, body, headers, retries, redirect, assert_same_host, timeout, pool_timeout, release_conn, chunked, body_pos, **response_kw)\u001b[0m\n\u001b[0;32m    702\u001b[0m             \u001b[1;31m# Make the request on the httplib connection object.\u001b[0m\u001b[1;33m\u001b[0m\u001b[1;33m\u001b[0m\u001b[1;33m\u001b[0m\u001b[0m\n\u001b[1;32m--> 703\u001b[1;33m             httplib_response = self._make_request(\n\u001b[0m\u001b[0;32m    704\u001b[0m                 \u001b[0mconn\u001b[0m\u001b[1;33m,\u001b[0m\u001b[1;33m\u001b[0m\u001b[1;33m\u001b[0m\u001b[0m\n",
      "\u001b[1;32m~\\anaconda3\\lib\\site-packages\\urllib3\\connectionpool.py\u001b[0m in \u001b[0;36m_make_request\u001b[1;34m(self, conn, method, url, timeout, chunked, **httplib_request_kw)\u001b[0m\n\u001b[0;32m    397\u001b[0m             \u001b[1;32melse\u001b[0m\u001b[1;33m:\u001b[0m\u001b[1;33m\u001b[0m\u001b[1;33m\u001b[0m\u001b[0m\n\u001b[1;32m--> 398\u001b[1;33m                 \u001b[0mconn\u001b[0m\u001b[1;33m.\u001b[0m\u001b[0mrequest\u001b[0m\u001b[1;33m(\u001b[0m\u001b[0mmethod\u001b[0m\u001b[1;33m,\u001b[0m \u001b[0murl\u001b[0m\u001b[1;33m,\u001b[0m \u001b[1;33m**\u001b[0m\u001b[0mhttplib_request_kw\u001b[0m\u001b[1;33m)\u001b[0m\u001b[1;33m\u001b[0m\u001b[1;33m\u001b[0m\u001b[0m\n\u001b[0m\u001b[0;32m    399\u001b[0m \u001b[1;33m\u001b[0m\u001b[0m\n",
      "\u001b[1;32m~\\anaconda3\\lib\\site-packages\\urllib3\\connection.py\u001b[0m in \u001b[0;36mrequest\u001b[1;34m(self, method, url, body, headers)\u001b[0m\n\u001b[0;32m    238\u001b[0m             \u001b[0mheaders\u001b[0m\u001b[1;33m[\u001b[0m\u001b[1;34m\"User-Agent\"\u001b[0m\u001b[1;33m]\u001b[0m \u001b[1;33m=\u001b[0m \u001b[0m_get_default_user_agent\u001b[0m\u001b[1;33m(\u001b[0m\u001b[1;33m)\u001b[0m\u001b[1;33m\u001b[0m\u001b[1;33m\u001b[0m\u001b[0m\n\u001b[1;32m--> 239\u001b[1;33m         \u001b[0msuper\u001b[0m\u001b[1;33m(\u001b[0m\u001b[0mHTTPConnection\u001b[0m\u001b[1;33m,\u001b[0m \u001b[0mself\u001b[0m\u001b[1;33m)\u001b[0m\u001b[1;33m.\u001b[0m\u001b[0mrequest\u001b[0m\u001b[1;33m(\u001b[0m\u001b[0mmethod\u001b[0m\u001b[1;33m,\u001b[0m \u001b[0murl\u001b[0m\u001b[1;33m,\u001b[0m \u001b[0mbody\u001b[0m\u001b[1;33m=\u001b[0m\u001b[0mbody\u001b[0m\u001b[1;33m,\u001b[0m \u001b[0mheaders\u001b[0m\u001b[1;33m=\u001b[0m\u001b[0mheaders\u001b[0m\u001b[1;33m)\u001b[0m\u001b[1;33m\u001b[0m\u001b[1;33m\u001b[0m\u001b[0m\n\u001b[0m\u001b[0;32m    240\u001b[0m \u001b[1;33m\u001b[0m\u001b[0m\n",
      "\u001b[1;32m~\\anaconda3\\lib\\http\\client.py\u001b[0m in \u001b[0;36mrequest\u001b[1;34m(self, method, url, body, headers, encode_chunked)\u001b[0m\n\u001b[0;32m   1254\u001b[0m         \u001b[1;34m\"\"\"Send a complete request to the server.\"\"\"\u001b[0m\u001b[1;33m\u001b[0m\u001b[1;33m\u001b[0m\u001b[0m\n\u001b[1;32m-> 1255\u001b[1;33m         \u001b[0mself\u001b[0m\u001b[1;33m.\u001b[0m\u001b[0m_send_request\u001b[0m\u001b[1;33m(\u001b[0m\u001b[0mmethod\u001b[0m\u001b[1;33m,\u001b[0m \u001b[0murl\u001b[0m\u001b[1;33m,\u001b[0m \u001b[0mbody\u001b[0m\u001b[1;33m,\u001b[0m \u001b[0mheaders\u001b[0m\u001b[1;33m,\u001b[0m \u001b[0mencode_chunked\u001b[0m\u001b[1;33m)\u001b[0m\u001b[1;33m\u001b[0m\u001b[1;33m\u001b[0m\u001b[0m\n\u001b[0m\u001b[0;32m   1256\u001b[0m \u001b[1;33m\u001b[0m\u001b[0m\n",
      "\u001b[1;32m~\\anaconda3\\lib\\http\\client.py\u001b[0m in \u001b[0;36m_send_request\u001b[1;34m(self, method, url, body, headers, encode_chunked)\u001b[0m\n\u001b[0;32m   1300\u001b[0m             \u001b[0mbody\u001b[0m \u001b[1;33m=\u001b[0m \u001b[0m_encode\u001b[0m\u001b[1;33m(\u001b[0m\u001b[0mbody\u001b[0m\u001b[1;33m,\u001b[0m \u001b[1;34m'body'\u001b[0m\u001b[1;33m)\u001b[0m\u001b[1;33m\u001b[0m\u001b[1;33m\u001b[0m\u001b[0m\n\u001b[1;32m-> 1301\u001b[1;33m         \u001b[0mself\u001b[0m\u001b[1;33m.\u001b[0m\u001b[0mendheaders\u001b[0m\u001b[1;33m(\u001b[0m\u001b[0mbody\u001b[0m\u001b[1;33m,\u001b[0m \u001b[0mencode_chunked\u001b[0m\u001b[1;33m=\u001b[0m\u001b[0mencode_chunked\u001b[0m\u001b[1;33m)\u001b[0m\u001b[1;33m\u001b[0m\u001b[1;33m\u001b[0m\u001b[0m\n\u001b[0m\u001b[0;32m   1302\u001b[0m \u001b[1;33m\u001b[0m\u001b[0m\n",
      "\u001b[1;32m~\\anaconda3\\lib\\http\\client.py\u001b[0m in \u001b[0;36mendheaders\u001b[1;34m(self, message_body, encode_chunked)\u001b[0m\n\u001b[0;32m   1249\u001b[0m             \u001b[1;32mraise\u001b[0m \u001b[0mCannotSendHeader\u001b[0m\u001b[1;33m(\u001b[0m\u001b[1;33m)\u001b[0m\u001b[1;33m\u001b[0m\u001b[1;33m\u001b[0m\u001b[0m\n\u001b[1;32m-> 1250\u001b[1;33m         \u001b[0mself\u001b[0m\u001b[1;33m.\u001b[0m\u001b[0m_send_output\u001b[0m\u001b[1;33m(\u001b[0m\u001b[0mmessage_body\u001b[0m\u001b[1;33m,\u001b[0m \u001b[0mencode_chunked\u001b[0m\u001b[1;33m=\u001b[0m\u001b[0mencode_chunked\u001b[0m\u001b[1;33m)\u001b[0m\u001b[1;33m\u001b[0m\u001b[1;33m\u001b[0m\u001b[0m\n\u001b[0m\u001b[0;32m   1251\u001b[0m \u001b[1;33m\u001b[0m\u001b[0m\n",
      "\u001b[1;32m~\\anaconda3\\lib\\http\\client.py\u001b[0m in \u001b[0;36m_send_output\u001b[1;34m(self, message_body, encode_chunked)\u001b[0m\n\u001b[0;32m   1009\u001b[0m         \u001b[1;32mdel\u001b[0m \u001b[0mself\u001b[0m\u001b[1;33m.\u001b[0m\u001b[0m_buffer\u001b[0m\u001b[1;33m[\u001b[0m\u001b[1;33m:\u001b[0m\u001b[1;33m]\u001b[0m\u001b[1;33m\u001b[0m\u001b[1;33m\u001b[0m\u001b[0m\n\u001b[1;32m-> 1010\u001b[1;33m         \u001b[0mself\u001b[0m\u001b[1;33m.\u001b[0m\u001b[0msend\u001b[0m\u001b[1;33m(\u001b[0m\u001b[0mmsg\u001b[0m\u001b[1;33m)\u001b[0m\u001b[1;33m\u001b[0m\u001b[1;33m\u001b[0m\u001b[0m\n\u001b[0m\u001b[0;32m   1011\u001b[0m \u001b[1;33m\u001b[0m\u001b[0m\n",
      "\u001b[1;32m~\\anaconda3\\lib\\http\\client.py\u001b[0m in \u001b[0;36msend\u001b[1;34m(self, data)\u001b[0m\n\u001b[0;32m    949\u001b[0m             \u001b[1;32mif\u001b[0m \u001b[0mself\u001b[0m\u001b[1;33m.\u001b[0m\u001b[0mauto_open\u001b[0m\u001b[1;33m:\u001b[0m\u001b[1;33m\u001b[0m\u001b[1;33m\u001b[0m\u001b[0m\n\u001b[1;32m--> 950\u001b[1;33m                 \u001b[0mself\u001b[0m\u001b[1;33m.\u001b[0m\u001b[0mconnect\u001b[0m\u001b[1;33m(\u001b[0m\u001b[1;33m)\u001b[0m\u001b[1;33m\u001b[0m\u001b[1;33m\u001b[0m\u001b[0m\n\u001b[0m\u001b[0;32m    951\u001b[0m             \u001b[1;32melse\u001b[0m\u001b[1;33m:\u001b[0m\u001b[1;33m\u001b[0m\u001b[1;33m\u001b[0m\u001b[0m\n",
      "\u001b[1;32m~\\anaconda3\\lib\\site-packages\\urllib3\\connection.py\u001b[0m in \u001b[0;36mconnect\u001b[1;34m(self)\u001b[0m\n\u001b[0;32m    204\u001b[0m     \u001b[1;32mdef\u001b[0m \u001b[0mconnect\u001b[0m\u001b[1;33m(\u001b[0m\u001b[0mself\u001b[0m\u001b[1;33m)\u001b[0m\u001b[1;33m:\u001b[0m\u001b[1;33m\u001b[0m\u001b[1;33m\u001b[0m\u001b[0m\n\u001b[1;32m--> 205\u001b[1;33m         \u001b[0mconn\u001b[0m \u001b[1;33m=\u001b[0m \u001b[0mself\u001b[0m\u001b[1;33m.\u001b[0m\u001b[0m_new_conn\u001b[0m\u001b[1;33m(\u001b[0m\u001b[1;33m)\u001b[0m\u001b[1;33m\u001b[0m\u001b[1;33m\u001b[0m\u001b[0m\n\u001b[0m\u001b[0;32m    206\u001b[0m         \u001b[0mself\u001b[0m\u001b[1;33m.\u001b[0m\u001b[0m_prepare_conn\u001b[0m\u001b[1;33m(\u001b[0m\u001b[0mconn\u001b[0m\u001b[1;33m)\u001b[0m\u001b[1;33m\u001b[0m\u001b[1;33m\u001b[0m\u001b[0m\n",
      "\u001b[1;32m~\\anaconda3\\lib\\site-packages\\urllib3\\connection.py\u001b[0m in \u001b[0;36m_new_conn\u001b[1;34m(self)\u001b[0m\n\u001b[0;32m    185\u001b[0m         \u001b[1;32mexcept\u001b[0m \u001b[0mSocketError\u001b[0m \u001b[1;32mas\u001b[0m \u001b[0me\u001b[0m\u001b[1;33m:\u001b[0m\u001b[1;33m\u001b[0m\u001b[1;33m\u001b[0m\u001b[0m\n\u001b[1;32m--> 186\u001b[1;33m             raise NewConnectionError(\n\u001b[0m\u001b[0;32m    187\u001b[0m                 \u001b[0mself\u001b[0m\u001b[1;33m,\u001b[0m \u001b[1;34m\"Failed to establish a new connection: %s\"\u001b[0m \u001b[1;33m%\u001b[0m \u001b[0me\u001b[0m\u001b[1;33m\u001b[0m\u001b[1;33m\u001b[0m\u001b[0m\n",
      "\u001b[1;31mNewConnectionError\u001b[0m: <urllib3.connection.HTTPConnection object at 0x000002908269F9D0>: Failed to establish a new connection: [WinError 10060] A connection attempt failed because the connected party did not properly respond after a period of time, or established connection failed because connected host has failed to respond",
      "\nDuring handling of the above exception, another exception occurred:\n",
      "\u001b[1;31mMaxRetryError\u001b[0m                             Traceback (most recent call last)",
      "\u001b[1;32m~\\anaconda3\\lib\\site-packages\\requests\\adapters.py\u001b[0m in \u001b[0;36msend\u001b[1;34m(self, request, stream, timeout, verify, cert, proxies)\u001b[0m\n\u001b[0;32m    439\u001b[0m             \u001b[1;32mif\u001b[0m \u001b[1;32mnot\u001b[0m \u001b[0mchunked\u001b[0m\u001b[1;33m:\u001b[0m\u001b[1;33m\u001b[0m\u001b[1;33m\u001b[0m\u001b[0m\n\u001b[1;32m--> 440\u001b[1;33m                 resp = conn.urlopen(\n\u001b[0m\u001b[0;32m    441\u001b[0m                     \u001b[0mmethod\u001b[0m\u001b[1;33m=\u001b[0m\u001b[0mrequest\u001b[0m\u001b[1;33m.\u001b[0m\u001b[0mmethod\u001b[0m\u001b[1;33m,\u001b[0m\u001b[1;33m\u001b[0m\u001b[1;33m\u001b[0m\u001b[0m\n",
      "\u001b[1;32m~\\anaconda3\\lib\\site-packages\\urllib3\\connectionpool.py\u001b[0m in \u001b[0;36murlopen\u001b[1;34m(self, method, url, body, headers, retries, redirect, assert_same_host, timeout, pool_timeout, release_conn, chunked, body_pos, **response_kw)\u001b[0m\n\u001b[0;32m    784\u001b[0m \u001b[1;33m\u001b[0m\u001b[0m\n\u001b[1;32m--> 785\u001b[1;33m             retries = retries.increment(\n\u001b[0m\u001b[0;32m    786\u001b[0m                 \u001b[0mmethod\u001b[0m\u001b[1;33m,\u001b[0m \u001b[0murl\u001b[0m\u001b[1;33m,\u001b[0m \u001b[0merror\u001b[0m\u001b[1;33m=\u001b[0m\u001b[0me\u001b[0m\u001b[1;33m,\u001b[0m \u001b[0m_pool\u001b[0m\u001b[1;33m=\u001b[0m\u001b[0mself\u001b[0m\u001b[1;33m,\u001b[0m \u001b[0m_stacktrace\u001b[0m\u001b[1;33m=\u001b[0m\u001b[0msys\u001b[0m\u001b[1;33m.\u001b[0m\u001b[0mexc_info\u001b[0m\u001b[1;33m(\u001b[0m\u001b[1;33m)\u001b[0m\u001b[1;33m[\u001b[0m\u001b[1;36m2\u001b[0m\u001b[1;33m]\u001b[0m\u001b[1;33m\u001b[0m\u001b[1;33m\u001b[0m\u001b[0m\n",
      "\u001b[1;32m~\\anaconda3\\lib\\site-packages\\urllib3\\util\\retry.py\u001b[0m in \u001b[0;36mincrement\u001b[1;34m(self, method, url, response, error, _pool, _stacktrace)\u001b[0m\n\u001b[0;32m    591\u001b[0m         \u001b[1;32mif\u001b[0m \u001b[0mnew_retry\u001b[0m\u001b[1;33m.\u001b[0m\u001b[0mis_exhausted\u001b[0m\u001b[1;33m(\u001b[0m\u001b[1;33m)\u001b[0m\u001b[1;33m:\u001b[0m\u001b[1;33m\u001b[0m\u001b[1;33m\u001b[0m\u001b[0m\n\u001b[1;32m--> 592\u001b[1;33m             \u001b[1;32mraise\u001b[0m \u001b[0mMaxRetryError\u001b[0m\u001b[1;33m(\u001b[0m\u001b[0m_pool\u001b[0m\u001b[1;33m,\u001b[0m \u001b[0murl\u001b[0m\u001b[1;33m,\u001b[0m \u001b[0merror\u001b[0m \u001b[1;32mor\u001b[0m \u001b[0mResponseError\u001b[0m\u001b[1;33m(\u001b[0m\u001b[0mcause\u001b[0m\u001b[1;33m)\u001b[0m\u001b[1;33m)\u001b[0m\u001b[1;33m\u001b[0m\u001b[1;33m\u001b[0m\u001b[0m\n\u001b[0m\u001b[0;32m    593\u001b[0m \u001b[1;33m\u001b[0m\u001b[0m\n",
      "\u001b[1;31mMaxRetryError\u001b[0m: HTTPConnectionPool(host='books.toscrape.com', port=80): Max retries exceeded with url: /catalogue/page-2.html (Caused by NewConnectionError('<urllib3.connection.HTTPConnection object at 0x000002908269F9D0>: Failed to establish a new connection: [WinError 10060] A connection attempt failed because the connected party did not properly respond after a period of time, or established connection failed because connected host has failed to respond'))",
      "\nDuring handling of the above exception, another exception occurred:\n",
      "\u001b[1;31mConnectionError\u001b[0m                           Traceback (most recent call last)",
      "\u001b[1;32m<ipython-input-69-7df176859413>\u001b[0m in \u001b[0;36m<module>\u001b[1;34m\u001b[0m\n\u001b[0;32m      4\u001b[0m \u001b[1;33m\u001b[0m\u001b[0m\n\u001b[0;32m      5\u001b[0m     \u001b[0mscrape_url\u001b[0m \u001b[1;33m=\u001b[0m \u001b[0mbase_url\u001b[0m\u001b[1;33m.\u001b[0m\u001b[0mformat\u001b[0m\u001b[1;33m(\u001b[0m\u001b[0mn\u001b[0m\u001b[1;33m)\u001b[0m\u001b[1;33m\u001b[0m\u001b[1;33m\u001b[0m\u001b[0m\n\u001b[1;32m----> 6\u001b[1;33m     \u001b[0mres\u001b[0m \u001b[1;33m=\u001b[0m \u001b[0mrequests\u001b[0m\u001b[1;33m.\u001b[0m\u001b[0mget\u001b[0m\u001b[1;33m(\u001b[0m\u001b[0mscrape_url\u001b[0m\u001b[1;33m)\u001b[0m\u001b[1;33m\u001b[0m\u001b[1;33m\u001b[0m\u001b[0m\n\u001b[0m\u001b[0;32m      7\u001b[0m \u001b[1;33m\u001b[0m\u001b[0m\n\u001b[0;32m      8\u001b[0m     \u001b[0msoup\u001b[0m \u001b[1;33m=\u001b[0m \u001b[0mbs4\u001b[0m\u001b[1;33m.\u001b[0m\u001b[0mBeautifulSoup\u001b[0m\u001b[1;33m(\u001b[0m\u001b[0mres\u001b[0m\u001b[1;33m.\u001b[0m\u001b[0mtext\u001b[0m\u001b[1;33m,\u001b[0m\u001b[1;34m\"lxml\"\u001b[0m\u001b[1;33m)\u001b[0m\u001b[1;33m\u001b[0m\u001b[1;33m\u001b[0m\u001b[0m\n",
      "\u001b[1;32m~\\anaconda3\\lib\\site-packages\\requests\\api.py\u001b[0m in \u001b[0;36mget\u001b[1;34m(url, params, **kwargs)\u001b[0m\n\u001b[0;32m     73\u001b[0m     \"\"\"\n\u001b[0;32m     74\u001b[0m \u001b[1;33m\u001b[0m\u001b[0m\n\u001b[1;32m---> 75\u001b[1;33m     \u001b[1;32mreturn\u001b[0m \u001b[0mrequest\u001b[0m\u001b[1;33m(\u001b[0m\u001b[1;34m'get'\u001b[0m\u001b[1;33m,\u001b[0m \u001b[0murl\u001b[0m\u001b[1;33m,\u001b[0m \u001b[0mparams\u001b[0m\u001b[1;33m=\u001b[0m\u001b[0mparams\u001b[0m\u001b[1;33m,\u001b[0m \u001b[1;33m**\u001b[0m\u001b[0mkwargs\u001b[0m\u001b[1;33m)\u001b[0m\u001b[1;33m\u001b[0m\u001b[1;33m\u001b[0m\u001b[0m\n\u001b[0m\u001b[0;32m     76\u001b[0m \u001b[1;33m\u001b[0m\u001b[0m\n\u001b[0;32m     77\u001b[0m \u001b[1;33m\u001b[0m\u001b[0m\n",
      "\u001b[1;32m~\\anaconda3\\lib\\site-packages\\requests\\api.py\u001b[0m in \u001b[0;36mrequest\u001b[1;34m(method, url, **kwargs)\u001b[0m\n\u001b[0;32m     59\u001b[0m     \u001b[1;31m# cases, and look like a memory leak in others.\u001b[0m\u001b[1;33m\u001b[0m\u001b[1;33m\u001b[0m\u001b[1;33m\u001b[0m\u001b[0m\n\u001b[0;32m     60\u001b[0m     \u001b[1;32mwith\u001b[0m \u001b[0msessions\u001b[0m\u001b[1;33m.\u001b[0m\u001b[0mSession\u001b[0m\u001b[1;33m(\u001b[0m\u001b[1;33m)\u001b[0m \u001b[1;32mas\u001b[0m \u001b[0msession\u001b[0m\u001b[1;33m:\u001b[0m\u001b[1;33m\u001b[0m\u001b[1;33m\u001b[0m\u001b[0m\n\u001b[1;32m---> 61\u001b[1;33m         \u001b[1;32mreturn\u001b[0m \u001b[0msession\u001b[0m\u001b[1;33m.\u001b[0m\u001b[0mrequest\u001b[0m\u001b[1;33m(\u001b[0m\u001b[0mmethod\u001b[0m\u001b[1;33m=\u001b[0m\u001b[0mmethod\u001b[0m\u001b[1;33m,\u001b[0m \u001b[0murl\u001b[0m\u001b[1;33m=\u001b[0m\u001b[0murl\u001b[0m\u001b[1;33m,\u001b[0m \u001b[1;33m**\u001b[0m\u001b[0mkwargs\u001b[0m\u001b[1;33m)\u001b[0m\u001b[1;33m\u001b[0m\u001b[1;33m\u001b[0m\u001b[0m\n\u001b[0m\u001b[0;32m     62\u001b[0m \u001b[1;33m\u001b[0m\u001b[0m\n\u001b[0;32m     63\u001b[0m \u001b[1;33m\u001b[0m\u001b[0m\n",
      "\u001b[1;32m~\\anaconda3\\lib\\site-packages\\requests\\sessions.py\u001b[0m in \u001b[0;36mrequest\u001b[1;34m(self, method, url, params, data, headers, cookies, files, auth, timeout, allow_redirects, proxies, hooks, stream, verify, cert, json)\u001b[0m\n\u001b[0;32m    527\u001b[0m         }\n\u001b[0;32m    528\u001b[0m         \u001b[0msend_kwargs\u001b[0m\u001b[1;33m.\u001b[0m\u001b[0mupdate\u001b[0m\u001b[1;33m(\u001b[0m\u001b[0msettings\u001b[0m\u001b[1;33m)\u001b[0m\u001b[1;33m\u001b[0m\u001b[1;33m\u001b[0m\u001b[0m\n\u001b[1;32m--> 529\u001b[1;33m         \u001b[0mresp\u001b[0m \u001b[1;33m=\u001b[0m \u001b[0mself\u001b[0m\u001b[1;33m.\u001b[0m\u001b[0msend\u001b[0m\u001b[1;33m(\u001b[0m\u001b[0mprep\u001b[0m\u001b[1;33m,\u001b[0m \u001b[1;33m**\u001b[0m\u001b[0msend_kwargs\u001b[0m\u001b[1;33m)\u001b[0m\u001b[1;33m\u001b[0m\u001b[1;33m\u001b[0m\u001b[0m\n\u001b[0m\u001b[0;32m    530\u001b[0m \u001b[1;33m\u001b[0m\u001b[0m\n\u001b[0;32m    531\u001b[0m         \u001b[1;32mreturn\u001b[0m \u001b[0mresp\u001b[0m\u001b[1;33m\u001b[0m\u001b[1;33m\u001b[0m\u001b[0m\n",
      "\u001b[1;32m~\\anaconda3\\lib\\site-packages\\requests\\sessions.py\u001b[0m in \u001b[0;36msend\u001b[1;34m(self, request, **kwargs)\u001b[0m\n\u001b[0;32m    643\u001b[0m \u001b[1;33m\u001b[0m\u001b[0m\n\u001b[0;32m    644\u001b[0m         \u001b[1;31m# Send the request\u001b[0m\u001b[1;33m\u001b[0m\u001b[1;33m\u001b[0m\u001b[1;33m\u001b[0m\u001b[0m\n\u001b[1;32m--> 645\u001b[1;33m         \u001b[0mr\u001b[0m \u001b[1;33m=\u001b[0m \u001b[0madapter\u001b[0m\u001b[1;33m.\u001b[0m\u001b[0msend\u001b[0m\u001b[1;33m(\u001b[0m\u001b[0mrequest\u001b[0m\u001b[1;33m,\u001b[0m \u001b[1;33m**\u001b[0m\u001b[0mkwargs\u001b[0m\u001b[1;33m)\u001b[0m\u001b[1;33m\u001b[0m\u001b[1;33m\u001b[0m\u001b[0m\n\u001b[0m\u001b[0;32m    646\u001b[0m \u001b[1;33m\u001b[0m\u001b[0m\n\u001b[0;32m    647\u001b[0m         \u001b[1;31m# Total elapsed time of the request (approximately)\u001b[0m\u001b[1;33m\u001b[0m\u001b[1;33m\u001b[0m\u001b[1;33m\u001b[0m\u001b[0m\n",
      "\u001b[1;32m~\\anaconda3\\lib\\site-packages\\requests\\adapters.py\u001b[0m in \u001b[0;36msend\u001b[1;34m(self, request, stream, timeout, verify, cert, proxies)\u001b[0m\n\u001b[0;32m    517\u001b[0m                 \u001b[1;32mraise\u001b[0m \u001b[0mSSLError\u001b[0m\u001b[1;33m(\u001b[0m\u001b[0me\u001b[0m\u001b[1;33m,\u001b[0m \u001b[0mrequest\u001b[0m\u001b[1;33m=\u001b[0m\u001b[0mrequest\u001b[0m\u001b[1;33m)\u001b[0m\u001b[1;33m\u001b[0m\u001b[1;33m\u001b[0m\u001b[0m\n\u001b[0;32m    518\u001b[0m \u001b[1;33m\u001b[0m\u001b[0m\n\u001b[1;32m--> 519\u001b[1;33m             \u001b[1;32mraise\u001b[0m \u001b[0mConnectionError\u001b[0m\u001b[1;33m(\u001b[0m\u001b[0me\u001b[0m\u001b[1;33m,\u001b[0m \u001b[0mrequest\u001b[0m\u001b[1;33m=\u001b[0m\u001b[0mrequest\u001b[0m\u001b[1;33m)\u001b[0m\u001b[1;33m\u001b[0m\u001b[1;33m\u001b[0m\u001b[0m\n\u001b[0m\u001b[0;32m    520\u001b[0m \u001b[1;33m\u001b[0m\u001b[0m\n\u001b[0;32m    521\u001b[0m         \u001b[1;32mexcept\u001b[0m \u001b[0mClosedPoolError\u001b[0m \u001b[1;32mas\u001b[0m \u001b[0me\u001b[0m\u001b[1;33m:\u001b[0m\u001b[1;33m\u001b[0m\u001b[1;33m\u001b[0m\u001b[0m\n",
      "\u001b[1;31mConnectionError\u001b[0m: HTTPConnectionPool(host='books.toscrape.com', port=80): Max retries exceeded with url: /catalogue/page-2.html (Caused by NewConnectionError('<urllib3.connection.HTTPConnection object at 0x000002908269F9D0>: Failed to establish a new connection: [WinError 10060] A connection attempt failed because the connected party did not properly respond after a period of time, or established connection failed because connected host has failed to respond'))"
     ]
    }
   ],
   "source": [
    "two_star_titles = []\n",
    "\n",
    "for n in range(1,51):\n",
    "\n",
    "    scrape_url = base_url.format(n)\n",
    "    res = requests.get(scrape_url)\n",
    "    \n",
    "    soup = bs4.BeautifulSoup(res.text,\"lxml\")\n",
    "    books = soup.select(\".product_pod\")\n",
    "    \n",
    "    for book in books:\n",
    "        if len(book.select('.star-rating.Two')) != 0:\n",
    "            two_star_titles.append(book.select('a')[1]['title'])"
   ]
  },
  {
   "cell_type": "code",
   "execution_count": null,
   "metadata": {},
   "outputs": [],
   "source": [
    "two_star_titles"
   ]
  },
  {
   "cell_type": "code",
   "execution_count": null,
   "metadata": {},
   "outputs": [],
   "source": []
  }
 ],
 "metadata": {
  "kernelspec": {
   "display_name": "Python 3 (ipykernel)",
   "language": "python",
   "name": "python3"
  },
  "language_info": {
   "codemirror_mode": {
    "name": "ipython",
    "version": 3
   },
   "file_extension": ".py",
   "mimetype": "text/x-python",
   "name": "python",
   "nbconvert_exporter": "python",
   "pygments_lexer": "ipython3",
   "version": "3.11.5"
  }
 },
 "nbformat": 4,
 "nbformat_minor": 4
}
