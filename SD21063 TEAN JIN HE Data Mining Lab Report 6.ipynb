{
 "cells": [
  {
   "cell_type": "markdown",
   "id": "8c0560a1",
   "metadata": {},
   "source": [
    "# Data Mining Lab Report 6\n",
    "#### NAME: TEAN JIN HE\n",
    "#### MATRIC ID: SD21063\n",
    "#### SECTION: 02G"
   ]
  },
  {
   "cell_type": "markdown",
   "id": "ffaf9ac9",
   "metadata": {},
   "source": [
    "### Case Study:"
   ]
  },
  {
   "cell_type": "markdown",
   "id": "6fc99a05",
   "metadata": {},
   "source": [
    "\n",
    "Text mining, also known as text data mining, is the process of transforming unstructured text into a structured\n",
    "format to identify meaningful patterns and new insights (IBM, 2022). Natural Language Processing (NLP) is\n",
    "a field of AI that allows machines to read, understand and derive meaning from human languages (Diego\n",
    "Lopez Yse, 2019).\n",
    "There are several concepts to understand NLP, such as tokenization, stemming and lemmatization to process\n",
    "the text.\n"
   ]
  },
  {
   "cell_type": "markdown",
   "id": "88bd3a40",
   "metadata": {},
   "source": [
    "### Question 1\n",
    "#### *General Knowledge*"
   ]
  },
  {
   "cell_type": "markdown",
   "id": "0a96e6d7",
   "metadata": {},
   "source": [
    "#### Discuss the text mining concepts in data mining implementation related to sentiment analysis applications discussed above. Give reference/ references."
   ]
  },
  {
   "cell_type": "markdown",
   "id": "24ccd967",
   "metadata": {},
   "source": [
    "The text mining concepts in data mining implementation related to sentiment analysis applications are:\n",
    "\n",
    "- Voice of the customer analysis: This concept refers to the systematic examination of consumer input in order to get practical and implementable insights. These insights provide a deeper comprehension of client behaviour and enable the execution of marketing-conversion gap analysis.\n",
    "- Social media listening: This concept refers to the process of monitoring and analyzing the online conversations and sentiments of users on various social media platforms. This can help businesses understand their customers’ preferences, opinions, and feedback, as well as identify trends and opportunities.\n",
    "- Sentiment analysis: This concept refers to the application of natural language processing, text analysis, and computational linguistics to identify and extract the subjective information and emotional states of the text. This can help businesses measure the attitudes, emotions, and opinions of their customers and stakeholders.\n",
    "\n",
    "Reference:\\\n",
    "https://towardsdatascience.com/sentiment-analysis-concept-analysis-and-applications-6c94d6f58c17\n",
    "https://www.repustate.com/blog/text-sentiment-analysis/\n",
    "https://www.red-gate.com/simple-talk/databases/sql-server/bi-sql-server/text-mining-and-sentiment-analysis-introduction/"
   ]
  },
  {
   "cell_type": "markdown",
   "id": "d33b40c1",
   "metadata": {},
   "source": [
    "### Question 2\n",
    "#### *Python*"
   ]
  },
  {
   "cell_type": "markdown",
   "id": "8a568e8c",
   "metadata": {},
   "source": [
    "### Based on the aforementioned above, develop sentiment analyser for movie review with criteria as follows:\n",
    "### a. Import movie_reviews corpus from nltk.corpus."
   ]
  },
  {
   "cell_type": "code",
   "execution_count": 1,
   "id": "677a0be8",
   "metadata": {},
   "outputs": [],
   "source": [
    "import nltk\n",
    "from nltk import FreqDist\n",
    "from nltk.corpus import movie_reviews\n",
    "from nltk.classify import NaiveBayesClassifier\n",
    "from nltk.classify.util import accuracy"
   ]
  },
  {
   "cell_type": "code",
   "execution_count": 2,
   "id": "26c65952",
   "metadata": {},
   "outputs": [
    {
     "name": "stderr",
     "output_type": "stream",
     "text": [
      "[nltk_data] Downloading package movie_reviews to\n",
      "[nltk_data]     C:\\Users\\user\\AppData\\Roaming\\nltk_data...\n",
      "[nltk_data]   Package movie_reviews is already up-to-date!\n"
     ]
    },
    {
     "data": {
      "text/plain": [
       "True"
      ]
     },
     "execution_count": 2,
     "metadata": {},
     "output_type": "execute_result"
    }
   ],
   "source": [
    "# Download the movie_reviews corpus if not already downloaded\n",
    "nltk.download('movie_reviews')"
   ]
  },
  {
   "cell_type": "markdown",
   "id": "6710be8d",
   "metadata": {},
   "source": [
    "### b. Treshold setting = 0.9."
   ]
  },
  {
   "cell_type": "code",
   "execution_count": 3,
   "id": "ee1ab776",
   "metadata": {},
   "outputs": [
    {
     "name": "stdout",
     "output_type": "stream",
     "text": [
      "\n",
      "Number of training datapoints: 1800\n",
      "Number of test datapoints: 200\n"
     ]
    }
   ],
   "source": [
    "# Extract features from the input list of words\n",
    "def extract_features(words):\n",
    "    return dict([(word, True) for word in words])\n",
    "\n",
    "if __name__=='__main__':\n",
    "    # Load the reviews from the corpus\n",
    "    fileids_pos = movie_reviews.fileids('pos')\n",
    "    fileids_neg = movie_reviews.fileids('neg')\n",
    "    \n",
    "    # Extract the features from the reviews\n",
    "    features_pos = [(extract_features(movie_reviews.words(\n",
    "        fileids=[f])), 'Positive') for f in fileids_pos]\n",
    "    features_neg = [(extract_features(movie_reviews.words(\n",
    "        fileids=[f])), 'Negative') for f in fileids_neg]\n",
    "\n",
    "    # Define the train and test split (80% and 20%)\n",
    "    threshold = 0.9\n",
    "    num_pos = int(threshold * len(features_pos))\n",
    "    num_neg = int(threshold * len(features_neg))\n",
    "\n",
    "    # Create training and test datasets\n",
    "    training_features = features_pos[:num_pos] + features_neg[:num_neg]\n",
    "    testing_features = features_pos[num_pos:] + features_neg[num_neg:]\n",
    "\n",
    "    # Print the number of datapoints used\n",
    "    print('\\nNumber of training datapoints:', len(training_features))\n",
    "    print('Number of test datapoints:', len(testing_features))\n"
   ]
  },
  {
   "cell_type": "markdown",
   "id": "3c601f6a",
   "metadata": {},
   "source": [
    "### c. Use Naïve Bayes classifier for model development and set the accuracy result."
   ]
  },
  {
   "cell_type": "code",
   "execution_count": 4,
   "id": "0b38c3d3",
   "metadata": {},
   "outputs": [
    {
     "name": "stdout",
     "output_type": "stream",
     "text": [
      "Accuracy og the classifier: 73.00%\n"
     ]
    }
   ],
   "source": [
    "# Train the Naïve Bayes classifier\n",
    "classifier = NaiveBayesClassifier.train(training_features)\n",
    "\n",
    "# Evaluate the accuracy of the classifier on the testing set\n",
    "accuracy_result = accuracy(classifier, testing_features)\n",
    "print(f'Accuracy og the classifier: {accuracy_result:.2%}')"
   ]
  },
  {
   "cell_type": "markdown",
   "id": "0c5e362f",
   "metadata": {},
   "source": [
    "### d. Create 20 most informative words."
   ]
  },
  {
   "cell_type": "code",
   "execution_count": 5,
   "id": "11889747",
   "metadata": {},
   "outputs": [
    {
     "name": "stdout",
     "output_type": "stream",
     "text": [
      "\n",
      "Top 20 Most Informative Words:\n",
      "1. outstanding\n",
      "2. ludicrous\n",
      "3. astounding\n",
      "4. avoids\n",
      "5. idiotic\n",
      "6. atrocious\n",
      "7. fascination\n",
      "8. offbeat\n",
      "9. animators\n",
      "10. symbol\n",
      "11. religion\n",
      "12. annual\n",
      "13. hudson\n",
      "14. jolie\n",
      "15. represent\n",
      "16. insulting\n",
      "17. addresses\n",
      "18. dread\n",
      "19. fairness\n",
      "20. hatred\n"
     ]
    }
   ],
   "source": [
    "N = 20\n",
    "print('\\nTop ' + str(N) + ' Most Informative Words:')\n",
    "for i, item in enumerate(classifier.most_informative_features()):\n",
    "    print(str(i+1) + '. ' + item[0])\n",
    "    if i == N - 1:\n",
    "        break"
   ]
  },
  {
   "cell_type": "markdown",
   "id": "e077c115",
   "metadata": {},
   "source": [
    "### e. Test the input movie reviews with the reviews below:\\\n",
    "i. The costumes in this movie look real.\\\n",
    "ii. The movie is merely based on the book.\\\n",
    "iii. I think the story was terrible and the characters were very weak.\\\n",
    "iv. People say that the director of the movie is astounding.\\\n",
    "v. This is such a ridiculous movie. I will not recommend it to anyone."
   ]
  },
  {
   "cell_type": "code",
   "execution_count": 6,
   "id": "9a0fbf61",
   "metadata": {},
   "outputs": [],
   "source": [
    "# Test input movie reviews\n",
    "input_reviews = [\n",
    "    \"The costumes in this movie look real.\",\n",
    "    \"The movie is merely based on the book.\",\n",
    "    \"I think the story was terrible and the characters were very weak.\",\n",
    "    \"People say that the director of the movie is astounding.\",\n",
    "    \"This is such a ridiculous movie. I will not recommend it to anyone.\"\n",
    "]"
   ]
  },
  {
   "cell_type": "markdown",
   "id": "a914d7b7",
   "metadata": {},
   "source": [
    "### f. Predict the sentiment and probability of reviews in (e)."
   ]
  },
  {
   "cell_type": "code",
   "execution_count": 7,
   "id": "5ca6cf64",
   "metadata": {},
   "outputs": [
    {
     "name": "stdout",
     "output_type": "stream",
     "text": [
      "\n",
      "Movie review predictions:\n",
      "\n",
      "Review: The costumes in this movie look real.\n",
      "Predicted sentiment: Positive\n",
      "Probability: 50.52%\n",
      "\n",
      "Review: The movie is merely based on the book.\n",
      "Predicted sentiment: Positive\n",
      "Probability: 56.29%\n",
      "\n",
      "Review: I think the story was terrible and the characters were very weak.\n",
      "Predicted sentiment: Negative\n",
      "Probability: 72.44%\n",
      "\n",
      "Review: People say that the director of the movie is astounding.\n",
      "Predicted sentiment: Negative\n",
      "Probability: 54.72%\n",
      "\n",
      "Review: This is such a ridiculous movie. I will not recommend it to anyone.\n",
      "Predicted sentiment: Negative\n",
      "Probability: 78.38%\n"
     ]
    }
   ],
   "source": [
    "# Predict sentiment and probability for each input review\n",
    "print(\"\\nMovie review predictions:\")\n",
    "for review in input_reviews:\n",
    "    print(\"\\nReview:\", review)\n",
    "    \n",
    "    # Compute the probabilities\n",
    "    probabilities = classifier.prob_classify(extract_features(review.split()))\n",
    "    \n",
    "    # Pick the maximum value\n",
    "    predicted_sentiment = probabilities.max()\n",
    "    \n",
    "    # Print outputs\n",
    "    print(\"Predicted sentiment:\", predicted_sentiment)\n",
    "    print(f\"Probability: {probabilities.prob(predicted_sentiment):.2%}\")"
   ]
  },
  {
   "cell_type": "code",
   "execution_count": null,
   "id": "d32d8637",
   "metadata": {},
   "outputs": [],
   "source": []
  }
 ],
 "metadata": {
  "kernelspec": {
   "display_name": "Python 3 (ipykernel)",
   "language": "python",
   "name": "python3"
  },
  "language_info": {
   "codemirror_mode": {
    "name": "ipython",
    "version": 3
   },
   "file_extension": ".py",
   "mimetype": "text/x-python",
   "name": "python",
   "nbconvert_exporter": "python",
   "pygments_lexer": "ipython3",
   "version": "3.11.5"
  }
 },
 "nbformat": 4,
 "nbformat_minor": 5
}
